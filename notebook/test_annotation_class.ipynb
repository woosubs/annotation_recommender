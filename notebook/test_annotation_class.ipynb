{
 "cells": [
  {
   "cell_type": "code",
   "execution_count": 1,
   "id": "0a257959",
   "metadata": {},
   "outputs": [
    {
     "name": "stdout",
     "output_type": "stream",
     "text": [
      "(13651, 3790)\n"
     ]
    }
   ],
   "source": [
    "# create species annotation class\n",
    "import numpy as np\n",
    "import os\n",
    "import pickle\n",
    "import pandas as pd\n",
    "import sys\n",
    "PROJ_DIR = \"/Users/woosubs/Desktop/AutomateAnnotation/AnnotationRecommender/\"\n",
    "MOD_DIR = os.path.join(PROJ_DIR, \"annotation_recommender\")\n",
    "sys.path.append(MOD_DIR)\n",
    "\n",
    "BIOMD_12 = 'BIOMD0000000012.xml'\n",
    "BASE_DIR = '/Users/woosubs/Desktop/AutomateAnnotation/'\n",
    "DATA_DIR = os.path.join(BASE_DIR, \"DATA\")\n",
    "ALGO_DIR = os.path.join(DATA_DIR, \"algo\")\n",
    "CHEBI_DIR = os.path.join(DATA_DIR, \"chebi\")\n",
    "RHEA_DIR = os.path.join(DATA_DIR, \"rhea\")\n",
    "BIOMODEL_DIR = os.path.join(DATA_DIR, \"biomodels/curated_biomodels_31mar2021\")\n",
    "BIGG_DIR = '/Users/woosubs/Desktop/AutomateAnnotation/DATA/bigg'\n",
    "ecoli_fpath = os.path.join(BIGG_DIR, \"e_coli_core.xml\")\n",
    "\n",
    "\n",
    "from annotation_recommender import species_annotation as sa\n",
    "from annotation_recommender import reaction_annotation as ra\n",
    "from annotation_recommender import constants as cn\n",
    "from annotation_recommender import iterator as it\n",
    "from annotation_recommender import tools\n",
    "\n",
    "# chebi to shortened formula\n",
    "with open(os.path.join(CHEBI_DIR, 'chebi_shortened_formula_30apr2022.pickle'), 'rb') as f:\n",
    "  ref_shortened_chebi_to_formula = pickle.load(f)\n",
    "# shortened formula to chebi\n",
    "with open(os.path.join(CHEBI_DIR, 'shortened_formula_to_chebis_20jul2022.pickle'), 'rb') as f:\n",
    "  ref_shortened_formula_to_chebi = pickle.load(f)\n",
    "\n",
    "with open(os.path.join(CHEBI_DIR, 'chebi_synonyms.pickle'), 'rb') as f:\n",
    "  chebi_synonyms = pickle.load(f)\n",
    "chebi_low_synonyms = dict()\n",
    "for one_k in chebi_synonyms.keys():\n",
    "  chebi_low_synonyms[one_k] = list(set([val.lower() for val in chebi_synonyms[one_k]]))\n",
    "\n",
    "with open(os.path.join(RHEA_DIR, 'kegg2rhea_master.pickle'), 'rb') as handle:\n",
    "  ref_kegg2rhea_master = pickle.load(handle)\n",
    "with open(os.path.join(RHEA_DIR, 'kegg2rhea_bi.pickle'), 'rb') as handle:\n",
    "  ref_kegg2rhea_bi = pickle.load(handle)\n",
    "\n",
    "# load reference matrix\n",
    "with open(os.path.join(ALGO_DIR, 'binary_ref_df.pickle'), 'rb') as handle:\n",
    "    ref_mat = pickle.load(handle)\n",
    "# check its shape\n",
    "print(ref_mat.shape)"
   ]
  },
  {
   "cell_type": "code",
   "execution_count": 2,
   "id": "71b3a56a",
   "metadata": {},
   "outputs": [],
   "source": [
    "specanot = sa.SpeciesAnnotation(libsbml_fpath=ecoli_fpath)\n",
    "reacanot = ra.ReactionAnnotation(libsbml_fpath=ecoli_fpath)\n",
    "\n",
    "spec_pred_annotations = specanot.predictAnnotationByName(inp_spec_list=None)\n",
    "reac_pred_annotations = reacanot.predictAnnotation(inp_spec_dict=specanot.formula,\n",
    "                                                   inp_reac_list=None,\n",
    "                                                   inp_ref_mat=ref_mat,\n",
    "                                                   update=True)"
   ]
  },
  {
   "cell_type": "code",
   "execution_count": 3,
   "id": "ab56688b",
   "metadata": {},
   "outputs": [
    {
     "name": "stdout",
     "output_type": "stream",
     "text": [
      "Initial match score: 82.94\n",
      "*************************\n",
      "Iteration 1\n",
      "Updated match score: 89.97\n",
      "*************************\n",
      "Iteration 2\n",
      "Updated match score: 90.17\n",
      "*************************\n",
      "Iteration 3\n",
      "Updated match score: 90.17\n",
      "Score not increasing. Quitting iteration...\n",
      "\n",
      "Calculation finished.\n"
     ]
    }
   ],
   "source": [
    "res = it.iterateAndGetUpdatedResults(spec_cl=specanot,\n",
    "                                     reac_cl=reacanot,\n",
    "                                     num_iter=10,\n",
    "                                     show_message=True)"
   ]
  },
  {
   "cell_type": "code",
   "execution_count": 4,
   "id": "a9a4f196",
   "metadata": {},
   "outputs": [
    {
     "name": "stdout",
     "output_type": "stream",
     "text": [
      "90.175\n"
     ]
    }
   ],
   "source": [
    "print(res['sum_match_score'])"
   ]
  },
  {
   "cell_type": "markdown",
   "id": "6a1888ce",
   "metadata": {},
   "source": [
    "## Evaluate BioModels :) "
   ]
  },
  {
   "cell_type": "code",
   "execution_count": 2,
   "id": "295caa01",
   "metadata": {},
   "outputs": [],
   "source": [
    "# Try one biomodel\n",
    "one_biomd = 'BIOMD0000000691.xml'\n",
    "one_biomd_fpath = os.path.join(BIOMODEL_DIR, one_biomd)\n",
    "species_an = sa.SpeciesAnnotation(libsbml_fpath=one_biomd_fpath)\n",
    "reaction_an = ra.ReactionAnnotation(libsbml_fpath=one_biomd_fpath)\n",
    "pred_species = species_an.predictAnnotationByName()\n",
    "pred_reaction = reaction_an.predictAnnotation(inp_spec_dict=species_an.formula)"
   ]
  },
  {
   "cell_type": "code",
   "execution_count": 3,
   "id": "b19b725d",
   "metadata": {},
   "outputs": [
    {
     "name": "stdout",
     "output_type": "stream",
     "text": [
      "Initial match score: 7.89\n",
      "*************************\n",
      "Iteration 1\n",
      "Updated match score: 8.52\n",
      "*************************\n",
      "Iteration 2\n",
      "Updated match score: 8.52\n",
      "Score not increasing. Quitting iteration...\n",
      "\n",
      "Calculation finished.\n"
     ]
    }
   ],
   "source": [
    "res = it.iterateAndGetUpdatedResults(spec_cl=species_an,\n",
    "                                     reac_cl=reaction_an,\n",
    "                                     num_iter=10,\n",
    "                                     show_message=True)"
   ]
  },
  {
   "cell_type": "code",
   "execution_count": null,
   "id": "97fede16",
   "metadata": {},
   "outputs": [],
   "source": [
    "# Update annotations using res, and compute accuracy; Repeat for all biomodels"
   ]
  },
  {
   "cell_type": "code",
   "execution_count": 5,
   "id": "3d99748f",
   "metadata": {},
   "outputs": [
    {
     "data": {
      "text/plain": [
       "dict_keys(['candidates', 'spec_formula', 'spec_chebi2update', 'sum_match_score', 'rep'])"
      ]
     },
     "execution_count": 5,
     "metadata": {},
     "output_type": "execute_result"
    }
   ],
   "source": [
    "res.keys()"
   ]
  },
  {
   "cell_type": "code",
   "execution_count": 6,
   "id": "55d04511",
   "metadata": {},
   "outputs": [
    {
     "data": {
      "text/plain": [
       "{'v1_cell_1': Index(['RHEA:23559'], dtype='object'),\n",
       " 'v1_cell_2': Index(['RHEA:23559'], dtype='object'),\n",
       " 'v2_cell_1': Index(['RHEA:11255', 'RHEA:11931', 'RHEA:33314', 'RHEA:49819'], dtype='object'),\n",
       " 'v2_cell_2': Index(['RHEA:11255', 'RHEA:11931', 'RHEA:33314', 'RHEA:49819'], dtype='object'),\n",
       " 'v3_cell_1': Index(['RHEA:10931', 'RHEA:11227', 'RHEA:11635', 'RHEA:11999', 'RHEA:12680',\n",
       "        'RHEA:13472', 'RHEA:13924', 'RHEA:14416', 'RHEA:16712', 'RHEA:17152',\n",
       "        ...\n",
       "        'RHEA:65527', 'RHEA:65595', 'RHEA:65599', 'RHEA:65947', 'RHEA:65951',\n",
       "        'RHEA:66691', 'RHEA:66875', 'RHEA:66891', 'RHEA:66895', 'RHEA:67035'],\n",
       "       dtype='object', length=193),\n",
       " 'v3_cell_2': Index(['RHEA:10931', 'RHEA:11227', 'RHEA:11635', 'RHEA:11999', 'RHEA:12680',\n",
       "        'RHEA:13472', 'RHEA:13924', 'RHEA:14416', 'RHEA:16712', 'RHEA:17152',\n",
       "        ...\n",
       "        'RHEA:65527', 'RHEA:65595', 'RHEA:65599', 'RHEA:65947', 'RHEA:65951',\n",
       "        'RHEA:66691', 'RHEA:66875', 'RHEA:66891', 'RHEA:66895', 'RHEA:67035'],\n",
       "       dtype='object', length=193),\n",
       " 'v4_cell_1': Index(['RHEA:11931', 'RHEA:15496', 'RHEA:15648', 'RHEA:21451', 'RHEA:23235',\n",
       "        'RHEA:33314', 'RHEA:43111', 'RHEA:49819', 'RHEA:55543'],\n",
       "       dtype='object'),\n",
       " 'v4_cell_2': Index(['RHEA:11931', 'RHEA:15496', 'RHEA:15648', 'RHEA:21451', 'RHEA:23235',\n",
       "        'RHEA:33314', 'RHEA:43111', 'RHEA:49819', 'RHEA:55543'],\n",
       "       dtype='object'),\n",
       " 'v5_cell_1': Index(['RHEA:23559', 'RHEA:37278'], dtype='object'),\n",
       " 'v5_cell_2': Index(['RHEA:23559', 'RHEA:37278'], dtype='object'),\n",
       " 'v6_cell_1': Index(['RHEA:11931', 'RHEA:15648', 'RHEA:21451', 'RHEA:33314', 'RHEA:49819',\n",
       "        'RHEA:55543'],\n",
       "       dtype='object'),\n",
       " 'v6_cell_2': Index(['RHEA:11931', 'RHEA:15648', 'RHEA:21451', 'RHEA:33314', 'RHEA:49819',\n",
       "        'RHEA:55543'],\n",
       "       dtype='object'),\n",
       " 'v7': Index(['RHEA:10003', 'RHEA:10007', 'RHEA:10011', 'RHEA:10015', 'RHEA:10019',\n",
       "        'RHEA:10023', 'RHEA:10027', 'RHEA:10031', 'RHEA:10035', 'RHEA:10039',\n",
       "        ...\n",
       "        'RHEA:67119', 'RHEA:67123', 'RHEA:67127', 'RHEA:67139', 'RHEA:67143',\n",
       "        'RHEA:67147', 'RHEA:67151', 'RHEA:67155', 'RHEA:67159', 'RHEA:67171'],\n",
       "       dtype='object', length=13651),\n",
       " 'S1_cell_1_glucose_influx': Index(['RHEA:27709'], dtype='object'),\n",
       " 'S1_cell_2_glucose_influx': Index(['RHEA:27709'], dtype='object'),\n",
       " 'S4_cell_1_export': Index(['RHEA:10003', 'RHEA:10007', 'RHEA:10011', 'RHEA:10015', 'RHEA:10019',\n",
       "        'RHEA:10023', 'RHEA:10027', 'RHEA:10031', 'RHEA:10035', 'RHEA:10039',\n",
       "        ...\n",
       "        'RHEA:67119', 'RHEA:67123', 'RHEA:67127', 'RHEA:67139', 'RHEA:67143',\n",
       "        'RHEA:67147', 'RHEA:67151', 'RHEA:67155', 'RHEA:67159', 'RHEA:67171'],\n",
       "       dtype='object', length=13651),\n",
       " 'S4_cell_2_export': Index(['RHEA:10003', 'RHEA:10007', 'RHEA:10011', 'RHEA:10015', 'RHEA:10019',\n",
       "        'RHEA:10023', 'RHEA:10027', 'RHEA:10031', 'RHEA:10035', 'RHEA:10039',\n",
       "        ...\n",
       "        'RHEA:67119', 'RHEA:67123', 'RHEA:67127', 'RHEA:67139', 'RHEA:67143',\n",
       "        'RHEA:67147', 'RHEA:67151', 'RHEA:67155', 'RHEA:67159', 'RHEA:67171'],\n",
       "       dtype='object', length=13651),\n",
       " 'S4_ex_import': Index(['RHEA:10003', 'RHEA:10007', 'RHEA:10011', 'RHEA:10015', 'RHEA:10019',\n",
       "        'RHEA:10023', 'RHEA:10027', 'RHEA:10031', 'RHEA:10035', 'RHEA:10039',\n",
       "        ...\n",
       "        'RHEA:67119', 'RHEA:67123', 'RHEA:67127', 'RHEA:67139', 'RHEA:67143',\n",
       "        'RHEA:67147', 'RHEA:67151', 'RHEA:67155', 'RHEA:67159', 'RHEA:67171'],\n",
       "       dtype='object', length=13651)}"
      ]
     },
     "execution_count": 6,
     "metadata": {},
     "output_type": "execute_result"
    }
   ],
   "source": [
    "res['candidates']"
   ]
  },
  {
   "cell_type": "code",
   "execution_count": null,
   "id": "a222756c",
   "metadata": {},
   "outputs": [],
   "source": []
  }
 ],
 "metadata": {
  "kernelspec": {
   "display_name": "pyo",
   "language": "python",
   "name": "pyo"
  },
  "language_info": {
   "codemirror_mode": {
    "name": "ipython",
    "version": 3
   },
   "file_extension": ".py",
   "mimetype": "text/x-python",
   "name": "python",
   "nbconvert_exporter": "python",
   "pygments_lexer": "ipython3",
   "version": "3.8.8"
  }
 },
 "nbformat": 4,
 "nbformat_minor": 5
}
