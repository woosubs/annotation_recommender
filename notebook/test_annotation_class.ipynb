{
 "cells": [
  {
   "cell_type": "code",
   "execution_count": 1,
   "id": "d899181f",
   "metadata": {},
   "outputs": [
    {
     "name": "stdout",
     "output_type": "stream",
     "text": [
      "(13651, 3790)\n"
     ]
    }
   ],
   "source": [
    "# create species annotation class\n",
    "import libsbml\n",
    "import numpy as np\n",
    "import os\n",
    "import pickle\n",
    "import pandas as pd\n",
    "import sys\n",
    "import matplotlib.pyplot as plt\n",
    "%matplotlib inline  \n",
    "\n",
    "PROJ_DIR = \"/Users/woosubs/Desktop/AutomateAnnotation/AnnotationRecommender/\"\n",
    "MOD_DIR = os.path.join(PROJ_DIR, \"annotation_recommender\")\n",
    "sys.path.append(MOD_DIR)\n",
    "\n",
    "BIOMD_12 = 'BIOMD0000000012.xml'\n",
    "BASE_DIR = '/Users/woosubs/Desktop/AutomateAnnotation/'\n",
    "DATA_DIR = os.path.join(BASE_DIR, \"DATA\")\n",
    "ALGO_DIR = os.path.join(DATA_DIR, \"algo\")\n",
    "CHEBI_DIR = os.path.join(DATA_DIR, \"chebi\")\n",
    "RHEA_DIR = os.path.join(DATA_DIR, \"rhea\")\n",
    "BIOMODEL_DIR = os.path.join(DATA_DIR, \"biomodels/curated_biomodels_31mar2021\")\n",
    "BIGG_DIR = '/Users/woosubs/Desktop/AutomateAnnotation/DATA/bigg'\n",
    "ecoli_fpath = os.path.join(BIGG_DIR, \"e_coli_core.xml\")\n",
    "\n",
    "\n",
    "from annotation_recommender import species_annotation as sa\n",
    "from annotation_recommender import reaction_annotation as ra\n",
    "from annotation_recommender import constants as cn\n",
    "from annotation_recommender import iterator as it\n",
    "from annotation_recommender import tools\n",
    "\n",
    "# chebi to shortened formula\n",
    "with open(os.path.join(CHEBI_DIR, 'chebi_shortened_formula_30apr2022.pickle'), 'rb') as f:\n",
    "  ref_shortened_chebi_to_formula = pickle.load(f)\n",
    "# shortened formula to chebi\n",
    "with open(os.path.join(CHEBI_DIR, 'shortened_formula_to_chebis_20jul2022.pickle'), 'rb') as f:\n",
    "  ref_shortened_formula_to_chebi = pickle.load(f)\n",
    "\n",
    "with open(os.path.join(CHEBI_DIR, 'chebi_synonyms.pickle'), 'rb') as f:\n",
    "  chebi_synonyms = pickle.load(f)\n",
    "chebi_low_synonyms = dict()\n",
    "for one_k in chebi_synonyms.keys():\n",
    "  chebi_low_synonyms[one_k] = list(set([val.lower() for val in chebi_synonyms[one_k]]))\n",
    "\n",
    "with open(os.path.join(RHEA_DIR, 'kegg2rhea_master.pickle'), 'rb') as handle:\n",
    "  ref_kegg2rhea_master = pickle.load(handle)\n",
    "with open(os.path.join(RHEA_DIR, 'kegg2rhea_bi.pickle'), 'rb') as handle:\n",
    "  ref_kegg2rhea_bi = pickle.load(handle)\n",
    "\n",
    "# load reference matrix\n",
    "with open(os.path.join(ALGO_DIR, 'binary_ref_df.pickle'), 'rb') as handle:\n",
    "    ref_mat = pickle.load(handle)\n",
    "# check its shape\n",
    "print(ref_mat.shape)"
   ]
  },
  {
   "cell_type": "code",
   "execution_count": 2,
   "id": "d6606a94",
   "metadata": {},
   "outputs": [],
   "source": [
    "# specanot = sa.SpeciesAnnotation(libsbml_fpath=ecoli_fpath)\n",
    "# reacanot = ra.ReactionAnnotation(libsbml_fpath=ecoli_fpath)\n",
    "\n",
    "# spec_pred_annotations = specanot.predictAnnotationByName(inp_spec_list=None)\n",
    "# reac_pred_annotations = reacanot.predictAnnotation(inp_spec_dict=specanot.formula,\n",
    "#                                                    inp_reac_list=None,\n",
    "#                                                    inp_ref_mat=ref_mat,\n",
    "#                                                    update=True)"
   ]
  },
  {
   "cell_type": "code",
   "execution_count": 3,
   "id": "accd13d6",
   "metadata": {},
   "outputs": [],
   "source": [
    "# res = it.iterateAndGetUpdatedResults(spec_cl=specanot,\n",
    "#                                      reac_cl=reacanot,\n",
    "#                                      num_iter=10,\n",
    "#                                      show_message=True)"
   ]
  },
  {
   "cell_type": "markdown",
   "id": "9019173c",
   "metadata": {},
   "source": [
    "## Evaluate BioModels :) "
   ]
  },
  {
   "cell_type": "code",
   "execution_count": 31,
   "id": "83f99a18",
   "metadata": {},
   "outputs": [],
   "source": [
    "# Try one biomodel\n",
    "one_biomd = 'BIOMD0000000691.xml'\n",
    "one_biomd_fpath = os.path.join(BIOMODEL_DIR, one_biomd)\n",
    "species_an = sa.SpeciesAnnotation(libsbml_fpath=one_biomd_fpath)\n",
    "reaction_an = ra.ReactionAnnotation(libsbml_fpath=one_biomd_fpath)\n",
    "pred_species = species_an.predictAnnotationByName()\n",
    "pred_reaction = reaction_an.predictAnnotation(inp_spec_dict=species_an.formula)"
   ]
  },
  {
   "cell_type": "code",
   "execution_count": 34,
   "id": "5b35927a",
   "metadata": {},
   "outputs": [
    {
     "name": "stdout",
     "output_type": "stream",
     "text": [
      "['S1', 'S1', 'S2', 'S2', 'S3', 'S3', 'S4', 'S4', 'N2', 'N2', 'A3', 'A3', 'S4_ex', 'A', 'N', 'N1', 'N1', 'A2', 'A2']\n",
      "So that's why it couldn't be predicted based on name\n"
     ]
    }
   ],
   "source": [
    "model = species_an.model\n",
    "print([val.name for val in model.getListOfSpecies()])\n",
    "print(\"So that's why it couldn't be predicted based on name\")"
   ]
  },
  {
   "cell_type": "code",
   "execution_count": null,
   "id": "56107716",
   "metadata": {},
   "outputs": [],
   "source": []
  },
  {
   "cell_type": "code",
   "execution_count": null,
   "id": "8df0528c",
   "metadata": {},
   "outputs": [],
   "source": []
  },
  {
   "cell_type": "code",
   "execution_count": 6,
   "id": "083ac531",
   "metadata": {},
   "outputs": [
    {
     "name": "stdout",
     "output_type": "stream",
     "text": [
      "Initial match score: 7.89\n",
      "*************************\n",
      "Iteration 1\n",
      "Updated match score: 8.52\n",
      "*************************\n",
      "Iteration 2\n",
      "Updated match score: 8.52\n",
      "Score not increasing. Quitting iteration...\n",
      "\n",
      "Calculation finished.\n"
     ]
    }
   ],
   "source": [
    "res = it.iterateAndGetUpdatedResults(spec_cl=species_an,\n",
    "                                     reac_cl=reaction_an,\n",
    "                                     num_iter=10,\n",
    "                                     show_message=True)"
   ]
  },
  {
   "cell_type": "code",
   "execution_count": 7,
   "id": "a56f24b1",
   "metadata": {},
   "outputs": [],
   "source": [
    "# Update annotations using res, and compute accuracy; Repeat for all biomodels"
   ]
  },
  {
   "cell_type": "code",
   "execution_count": 8,
   "id": "dd69b58f",
   "metadata": {},
   "outputs": [
    {
     "name": "stdout",
     "output_type": "stream",
     "text": [
      "0.0\n",
      "0.0\n"
     ]
    }
   ],
   "source": [
    "print(species_an.getAccuracy(pred_annotation=res['spec_formula']))\n",
    "print(reaction_an.getAccuracy(pred_annotation=res['candidates']))"
   ]
  },
  {
   "cell_type": "code",
   "execution_count": 2,
   "id": "28558757",
   "metadata": {},
   "outputs": [],
   "source": [
    "# Try all biomodels:\n",
    "biomd_keggs = pd.read_csv(\n",
    "    os.path.join(BASE_DIR, 'reaction_recommender/reaction_recommender/notebook/biomodels_to_use.csv'),\n",
    "    index_col=0)\n",
    "biomodels_to_load = []\n",
    "for one_idx in biomd_keggs.index:\n",
    "  if biomd_keggs.loc[one_idx, 'chebi_kegg']:\n",
    "    biomodels_to_load.append(one_idx)"
   ]
  },
  {
   "cell_type": "code",
   "execution_count": 16,
   "id": "7608fa83",
   "metadata": {},
   "outputs": [
    {
     "name": "stdout",
     "output_type": "stream",
     "text": [
      "1. BIOMD0000000013.xml\n",
      "2. BIOMD0000000015.xml\n",
      "3. BIOMD0000000017.xml\n",
      "4. BIOMD0000000018.xml\n",
      "5. BIOMD0000000023.xml\n",
      "6. BIOMD0000000038.xml\n",
      "7. BIOMD0000000042.xml\n",
      "8. BIOMD0000000046.xml\n",
      "9. BIOMD0000000051.xml\n",
      "10. BIOMD0000000061.xml\n",
      "11. BIOMD0000000063.xml\n",
      "12. BIOMD0000000064.xml\n",
      "13. BIOMD0000000070.xml\n",
      "14. BIOMD0000000071.xml\n",
      "15. BIOMD0000000081.xml\n",
      "16. BIOMD0000000088.xml\n",
      "17. BIOMD0000000094.xml\n",
      "18. BIOMD0000000108.xml\n",
      "19. BIOMD0000000122.xml\n",
      "20. BIOMD0000000123.xml\n",
      "21. BIOMD0000000137.xml\n",
      "22. BIOMD0000000143.xml\n",
      "23. BIOMD0000000171.xml\n",
      "24. BIOMD0000000172.xml\n",
      "25. BIOMD0000000191.xml\n",
      "26. BIOMD0000000206.xml\n",
      "27. BIOMD0000000211.xml\n",
      "28. BIOMD0000000213.xml\n",
      "29. BIOMD0000000225.xml\n",
      "30. BIOMD0000000236.xml\n",
      "31. BIOMD0000000244.xml\n",
      "32. BIOMD0000000247.xml\n",
      "33. BIOMD0000000248.xml\n",
      "34. BIOMD0000000268.xml\n",
      "35. BIOMD0000000292.xml\n",
      "36. BIOMD0000000450.xml\n",
      "37. BIOMD0000000471.xml\n",
      "38. BIOMD0000000472.xml\n",
      "39. BIOMD0000000473.xml\n",
      "40. BIOMD0000000503.xml\n",
      "41. BIOMD0000000590.xml\n",
      "42. BIOMD0000000602.xml\n",
      "43. BIOMD0000000627.xml\n",
      "44. BIOMD0000000674.xml\n",
      "45. BIOMD0000000689.xml\n",
      "46. BIOMD0000000690.xml\n",
      "47. BIOMD0000000691.xml\n"
     ]
    }
   ],
   "source": [
    "for idx, md in enumerate(biomd_keggs[biomd_keggs['chebi_kegg']==True].index.sort_values()):\n",
    "  print(\"%s. %s\" % (str(idx+1), md))"
   ]
  },
  {
   "cell_type": "code",
   "execution_count": 12,
   "id": "88bcdffb",
   "metadata": {},
   "outputs": [
    {
     "data": {
      "text/plain": [
       "Index(['kegg_kegg', 'chebi_kegg', 'chebi_species'], dtype='object')"
      ]
     },
     "execution_count": 12,
     "metadata": {},
     "output_type": "execute_result"
    }
   ],
   "source": []
  },
  {
   "cell_type": "code",
   "execution_count": null,
   "id": "ea7278bc",
   "metadata": {},
   "outputs": [],
   "source": [
    "iter_nu"
   ]
  },
  {
   "cell_type": "code",
   "execution_count": 17,
   "id": "ee3785d8",
   "metadata": {},
   "outputs": [
    {
     "data": {
      "text/plain": [
       "8.523809523809524"
      ]
     },
     "execution_count": 17,
     "metadata": {},
     "output_type": "execute_result"
    }
   ],
   "source": [
    "res['sum_match_score']"
   ]
  },
  {
   "cell_type": "code",
   "execution_count": null,
   "id": "bdb7310d",
   "metadata": {},
   "outputs": [],
   "source": [
    "# TODO: maybe add number of species/reactions evaluated"
   ]
  },
  {
   "cell_type": "code",
   "execution_count": 97,
   "id": "954bb17e",
   "metadata": {},
   "outputs": [
    {
     "name": "stdout",
     "output_type": "stream",
     "text": [
      "We are at 0\n",
      "We are at 5\n",
      "We are at 10\n",
      "We are at 15\n",
      "We are at 20\n",
      "We are at 25\n",
      "We are at 30\n",
      "We are at 35\n",
      "We are at 40\n",
      "We are at 45\n"
     ]
    }
   ],
   "source": [
    "res_df = pd.DataFrame(0,\n",
    "                      index=biomodels_to_load,\n",
    "                      columns=['spec_accuracy', 'reac_accuracy',\n",
    "                               'iter_num', 'species_match_score', 'reaction_match_score',\n",
    "                               'num_species', 'num_eval_species',\n",
    "                               'num_reactions', 'num_eval_reactions', 'total_match_score'])\n",
    "for idx, one_biomd in enumerate(biomodels_to_load):\n",
    "  if idx % 5 == 0:\n",
    "    print(\"We are at\", idx)\n",
    "  one_biomd_fpath = os.path.join(BIOMODEL_DIR, one_biomd)\n",
    "  species_an = sa.SpeciesAnnotation(libsbml_fpath=one_biomd_fpath)\n",
    "  reaction_an = ra.ReactionAnnotation(libsbml_fpath=one_biomd_fpath)\n",
    "  pred_species = species_an.predictAnnotationByName()\n",
    "  pred_reaction = reaction_an.predictAnnotation(inp_spec_dict=species_an.formula)\n",
    "  res = it.iterateAndGetUpdatedResults(spec_cl=species_an,\n",
    "                                       reac_cl=reaction_an,\n",
    "                                       num_iter=5,\n",
    "                                       show_message=False)\n",
    "  res_df.loc[one_biomd, 'spec_accuracy'] = species_an.getAccuracy(pred_annotation=res['spec_formula'])\n",
    "  res_df.loc[one_biomd, 'reac_accuracy'] = reaction_an.getAccuracy(pred_annotation=res['candidates'])\n",
    "  res_df.loc[one_biomd, 'iter_num'] = res['rep']\n",
    "  res_df.loc[one_biomd, 'species_match_score'] = np.mean([species_an.match_score[val] for val in species_an.match_score.keys()])\n",
    "  res_df.loc[one_biomd, 'reaction_match_score'] = res['sum_match_score'] / reaction_an.model.getNumReactions()\n",
    "  res_df.loc[one_biomd, 'num_species'] = species_an.model.getNumSpecies() \n",
    "  res_df.loc[one_biomd, 'num_eval_species'] = len(species_an.exist_annotation)\n",
    "  res_df.loc[one_biomd, 'num_reactions'] = reaction_an.model.getNumReactions()\n",
    "  res_df.loc[one_biomd, 'num_eval_reactions'] = len(reaction_an.exist_annotation)\n",
    "  res_df.loc[one_biomd, 'total_match_score'] = res['sum_match_score']"
   ]
  },
  {
   "cell_type": "code",
   "execution_count": null,
   "id": "f504e731",
   "metadata": {},
   "outputs": [],
   "source": [
    "# res_df.to_csv(\"eval_iter_algorithms2.csv\")"
   ]
  },
  {
   "cell_type": "code",
   "execution_count": 121,
   "id": "e1aad22c",
   "metadata": {},
   "outputs": [
    {
     "data": {
      "text/plain": [
       "<matplotlib.collections.PathCollection at 0x7fd051bb0280>"
      ]
     },
     "execution_count": 121,
     "metadata": {},
     "output_type": "execute_result"
    },
    {
     "data": {
      "image/png": "[encoded data removed]",
      "text/plain": [
       "<Figure size 576x576 with 1 Axes>"
      ]
     },
     "metadata": {
      "needs_background": "light"
     },
     "output_type": "display_data"
    }
   ],
   "source": [
    "plt.figure(figsize=(8, 8))\n",
    "plt.xlim(0.0, 1.0)\n",
    "plt.ylim(0.0, 1.0)\n",
    "# plt.scatter(res_df.species_match_score, res_df.reaction_match_score)\n",
    "plt.scatter(res_df.spec_accuracy, res_df.reac_accuracy)"
   ]
  },
  {
   "cell_type": "code",
   "execution_count": 243,
   "id": "cdd4c495",
   "metadata": {},
   "outputs": [
    {
     "data": {
      "text/html": [
       "<div>\n",
       "<style scoped>\n",
       "    .dataframe tbody tr th:only-of-type {\n",
       "        vertical-align: middle;\n",
       "    }\n",
       "\n",
       "    .dataframe tbody tr th {\n",
       "        vertical-align: top;\n",
       "    }\n",
       "\n",
       "    .dataframe thead th {\n",
       "        text-align: right;\n",
       "    }\n",
       "</style>\n",
       "<table border=\"1\" class=\"dataframe\">\n",
       "  <thead>\n",
       "    <tr style=\"text-align: right;\">\n",
       "      <th></th>\n",
       "      <th>spec_accuracy</th>\n",
       "      <th>reac_accuracy</th>\n",
       "      <th>iter_num</th>\n",
       "      <th>species_match_score</th>\n",
       "      <th>reaction_match_score</th>\n",
       "      <th>num_species</th>\n",
       "      <th>num_eval_species</th>\n",
       "      <th>num_reactions</th>\n",
       "      <th>num_eval_reactions</th>\n",
       "      <th>total_match_score</th>\n",
       "    </tr>\n",
       "  </thead>\n",
       "  <tbody>\n",
       "    <tr>\n",
       "      <th>BIOMD0000000691.xml</th>\n",
       "      <td>0.000000</td>\n",
       "      <td>0.0</td>\n",
       "      <td>2</td>\n",
       "      <td>0.768421</td>\n",
       "      <td>0.473545</td>\n",
       "      <td>19</td>\n",
       "      <td>12</td>\n",
       "      <td>18</td>\n",
       "      <td>6</td>\n",
       "      <td>8.523810</td>\n",
       "    </tr>\n",
       "    <tr>\n",
       "      <th>BIOMD0000000094.xml</th>\n",
       "      <td>0.000000</td>\n",
       "      <td>0.0</td>\n",
       "      <td>2</td>\n",
       "      <td>0.487289</td>\n",
       "      <td>0.702063</td>\n",
       "      <td>34</td>\n",
       "      <td>2</td>\n",
       "      <td>45</td>\n",
       "      <td>2</td>\n",
       "      <td>31.592857</td>\n",
       "    </tr>\n",
       "    <tr>\n",
       "      <th>BIOMD0000000171.xml</th>\n",
       "      <td>0.000000</td>\n",
       "      <td>0.0</td>\n",
       "      <td>2</td>\n",
       "      <td>0.613315</td>\n",
       "      <td>0.493132</td>\n",
       "      <td>12</td>\n",
       "      <td>2</td>\n",
       "      <td>26</td>\n",
       "      <td>4</td>\n",
       "      <td>12.821429</td>\n",
       "    </tr>\n",
       "    <tr>\n",
       "      <th>BIOMD0000000248.xml</th>\n",
       "      <td>0.285714</td>\n",
       "      <td>0.0</td>\n",
       "      <td>2</td>\n",
       "      <td>0.785185</td>\n",
       "      <td>0.883333</td>\n",
       "      <td>9</td>\n",
       "      <td>7</td>\n",
       "      <td>5</td>\n",
       "      <td>1</td>\n",
       "      <td>4.416667</td>\n",
       "    </tr>\n",
       "    <tr>\n",
       "      <th>BIOMD0000000088.xml</th>\n",
       "      <td>0.294118</td>\n",
       "      <td>0.0</td>\n",
       "      <td>2</td>\n",
       "      <td>0.484809</td>\n",
       "      <td>0.751861</td>\n",
       "      <td>105</td>\n",
       "      <td>17</td>\n",
       "      <td>110</td>\n",
       "      <td>18</td>\n",
       "      <td>82.704762</td>\n",
       "    </tr>\n",
       "    <tr>\n",
       "      <th>BIOMD0000000108.xml</th>\n",
       "      <td>0.600000</td>\n",
       "      <td>0.0</td>\n",
       "      <td>1</td>\n",
       "      <td>0.704125</td>\n",
       "      <td>0.649020</td>\n",
       "      <td>9</td>\n",
       "      <td>5</td>\n",
       "      <td>17</td>\n",
       "      <td>1</td>\n",
       "      <td>11.033333</td>\n",
       "    </tr>\n",
       "    <tr>\n",
       "      <th>BIOMD0000000137.xml</th>\n",
       "      <td>0.666667</td>\n",
       "      <td>0.0</td>\n",
       "      <td>1</td>\n",
       "      <td>0.511878</td>\n",
       "      <td>0.281667</td>\n",
       "      <td>21</td>\n",
       "      <td>3</td>\n",
       "      <td>20</td>\n",
       "      <td>1</td>\n",
       "      <td>5.633333</td>\n",
       "    </tr>\n",
       "    <tr>\n",
       "      <th>BIOMD0000000038.xml</th>\n",
       "      <td>0.750000</td>\n",
       "      <td>0.0</td>\n",
       "      <td>2</td>\n",
       "      <td>0.683613</td>\n",
       "      <td>0.681429</td>\n",
       "      <td>17</td>\n",
       "      <td>4</td>\n",
       "      <td>10</td>\n",
       "      <td>2</td>\n",
       "      <td>6.814286</td>\n",
       "    </tr>\n",
       "    <tr>\n",
       "      <th>BIOMD0000000143.xml</th>\n",
       "      <td>0.875000</td>\n",
       "      <td>0.0</td>\n",
       "      <td>1</td>\n",
       "      <td>0.916506</td>\n",
       "      <td>0.745833</td>\n",
       "      <td>20</td>\n",
       "      <td>16</td>\n",
       "      <td>20</td>\n",
       "      <td>3</td>\n",
       "      <td>14.916667</td>\n",
       "    </tr>\n",
       "    <tr>\n",
       "      <th>BIOMD0000000292.xml</th>\n",
       "      <td>1.000000</td>\n",
       "      <td>0.0</td>\n",
       "      <td>1</td>\n",
       "      <td>0.736111</td>\n",
       "      <td>0.854167</td>\n",
       "      <td>6</td>\n",
       "      <td>4</td>\n",
       "      <td>4</td>\n",
       "      <td>1</td>\n",
       "      <td>3.416667</td>\n",
       "    </tr>\n",
       "    <tr>\n",
       "      <th>BIOMD0000000123.xml</th>\n",
       "      <td>1.000000</td>\n",
       "      <td>0.0</td>\n",
       "      <td>1</td>\n",
       "      <td>0.494559</td>\n",
       "      <td>0.573529</td>\n",
       "      <td>14</td>\n",
       "      <td>2</td>\n",
       "      <td>17</td>\n",
       "      <td>1</td>\n",
       "      <td>9.750000</td>\n",
       "    </tr>\n",
       "    <tr>\n",
       "      <th>BIOMD0000000122.xml</th>\n",
       "      <td>1.000000</td>\n",
       "      <td>0.0</td>\n",
       "      <td>1</td>\n",
       "      <td>0.494559</td>\n",
       "      <td>0.573529</td>\n",
       "      <td>14</td>\n",
       "      <td>2</td>\n",
       "      <td>17</td>\n",
       "      <td>1</td>\n",
       "      <td>9.750000</td>\n",
       "    </tr>\n",
       "  </tbody>\n",
       "</table>\n",
       "</div>"
      ],
      "text/plain": [
       "                     spec_accuracy  reac_accuracy  iter_num  \\\n",
       "BIOMD0000000691.xml       0.000000            0.0         2   \n",
       "BIOMD0000000094.xml       0.000000            0.0         2   \n",
       "BIOMD0000000171.xml       0.000000            0.0         2   \n",
       "BIOMD0000000248.xml       0.285714            0.0         2   \n",
       "BIOMD0000000088.xml       0.294118            0.0         2   \n",
       "BIOMD0000000108.xml       0.600000            0.0         1   \n",
       "BIOMD0000000137.xml       0.666667            0.0         1   \n",
       "BIOMD0000000038.xml       0.750000            0.0         2   \n",
       "BIOMD0000000143.xml       0.875000            0.0         1   \n",
       "BIOMD0000000292.xml       1.000000            0.0         1   \n",
       "BIOMD0000000123.xml       1.000000            0.0         1   \n",
       "BIOMD0000000122.xml       1.000000            0.0         1   \n",
       "\n",
       "                     species_match_score  reaction_match_score  num_species  \\\n",
       "BIOMD0000000691.xml             0.768421              0.473545           19   \n",
       "BIOMD0000000094.xml             0.487289              0.702063           34   \n",
       "BIOMD0000000171.xml             0.613315              0.493132           12   \n",
       "BIOMD0000000248.xml             0.785185              0.883333            9   \n",
       "BIOMD0000000088.xml             0.484809              0.751861          105   \n",
       "BIOMD0000000108.xml             0.704125              0.649020            9   \n",
       "BIOMD0000000137.xml             0.511878              0.281667           21   \n",
       "BIOMD0000000038.xml             0.683613              0.681429           17   \n",
       "BIOMD0000000143.xml             0.916506              0.745833           20   \n",
       "BIOMD0000000292.xml             0.736111              0.854167            6   \n",
       "BIOMD0000000123.xml             0.494559              0.573529           14   \n",
       "BIOMD0000000122.xml             0.494559              0.573529           14   \n",
       "\n",
       "                     num_eval_species  num_reactions  num_eval_reactions  \\\n",
       "BIOMD0000000691.xml                12             18                   6   \n",
       "BIOMD0000000094.xml                 2             45                   2   \n",
       "BIOMD0000000171.xml                 2             26                   4   \n",
       "BIOMD0000000248.xml                 7              5                   1   \n",
       "BIOMD0000000088.xml                17            110                  18   \n",
       "BIOMD0000000108.xml                 5             17                   1   \n",
       "BIOMD0000000137.xml                 3             20                   1   \n",
       "BIOMD0000000038.xml                 4             10                   2   \n",
       "BIOMD0000000143.xml                16             20                   3   \n",
       "BIOMD0000000292.xml                 4              4                   1   \n",
       "BIOMD0000000123.xml                 2             17                   1   \n",
       "BIOMD0000000122.xml                 2             17                   1   \n",
       "\n",
       "                     total_match_score  \n",
       "BIOMD0000000691.xml           8.523810  \n",
       "BIOMD0000000094.xml          31.592857  \n",
       "BIOMD0000000171.xml          12.821429  \n",
       "BIOMD0000000248.xml           4.416667  \n",
       "BIOMD0000000088.xml          82.704762  \n",
       "BIOMD0000000108.xml          11.033333  \n",
       "BIOMD0000000137.xml           5.633333  \n",
       "BIOMD0000000038.xml           6.814286  \n",
       "BIOMD0000000143.xml          14.916667  \n",
       "BIOMD0000000292.xml           3.416667  \n",
       "BIOMD0000000123.xml           9.750000  \n",
       "BIOMD0000000122.xml           9.750000  "
      ]
     },
     "execution_count": 243,
     "metadata": {},
     "output_type": "execute_result"
    }
   ],
   "source": [
    "null_res_df = res_df[res_df['reac_accuracy']==0].copy()\n",
    "null_res_df.sort_values(by=['reac_accuracy', 'spec_accuracy'], inplace=True)\n",
    "null_res_df"
   ]
  },
  {
   "cell_type": "code",
   "execution_count": 244,
   "id": "6ba3c9d2",
   "metadata": {},
   "outputs": [],
   "source": [
    "# null_res_df.to_csv(\"null_res.csv\")"
   ]
  },
  {
   "cell_type": "code",
   "execution_count": 118,
   "id": "f4036f2f",
   "metadata": {},
   "outputs": [
    {
     "data": {
      "text/plain": [
       "<matplotlib.collections.PathCollection at 0x7fd04fb1b8e0>"
      ]
     },
     "execution_count": 118,
     "metadata": {},
     "output_type": "execute_result"
    },
    {
     "data": {
      "image/png": "[encoded data removed]",
      "text/plain": [
       "<Figure size 576x576 with 1 Axes>"
      ]
     },
     "metadata": {
      "needs_background": "light"
     },
     "output_type": "display_data"
    }
   ],
   "source": [
    "plt.figure(figsize=(8, 8))\n",
    "plt.xlim(0.0, 1.0)\n",
    "plt.ylim(0.0, 1.0)\n",
    "plt.scatter(null_res_df['species_match_score'], null_res_df['reaction_match_score'])"
   ]
  },
  {
   "cell_type": "code",
   "execution_count": 77,
   "id": "640ea063",
   "metadata": {},
   "outputs": [
    {
     "name": "stdout",
     "output_type": "stream",
     "text": [
      "['BIOMD0000000691.xml', 'BIOMD0000000292.xml', 'BIOMD0000000094.xml', 'BIOMD0000000123.xml', 'BIOMD0000000248.xml', 'BIOMD0000000171.xml', 'BIOMD0000000143.xml', 'BIOMD0000000137.xml', 'BIOMD0000000088.xml', 'BIOMD0000000038.xml', 'BIOMD0000000108.xml', 'BIOMD0000000122.xml']\n"
     ]
    }
   ],
   "source": [
    "# Do  this again for only evaluatable species and reactions"
   ]
  },
  {
   "cell_type": "code",
   "execution_count": 142,
   "id": "6c4843f0",
   "metadata": {},
   "outputs": [
    {
     "data": {
      "text/plain": [
       "6.8"
      ]
     },
     "execution_count": 142,
     "metadata": {},
     "output_type": "execute_result"
    }
   ],
   "source": [
    "init_match_score = {val:reaction_an.match_score[val] for val in reaction_an.exist_annotation}\n",
    "reaction_an.getMatchScore(init_match_score)"
   ]
  },
  {
   "cell_type": "code",
   "execution_count": 143,
   "id": "b7000e01",
   "metadata": {},
   "outputs": [
    {
     "data": {
      "text/plain": [
       "18.18333333333333"
      ]
     },
     "execution_count": 143,
     "metadata": {},
     "output_type": "execute_result"
    }
   ],
   "source": [
    "reaction_an.sum_match_score"
   ]
  },
  {
   "cell_type": "code",
   "execution_count": 138,
   "id": "b7191362",
   "metadata": {},
   "outputs": [
    {
     "data": {
      "text/plain": [
       "dict_keys(['candidates', 'spec_formula', 'spec_chebi2update', 'sum_match_score', 'rep'])"
      ]
     },
     "execution_count": 138,
     "metadata": {},
     "output_type": "execute_result"
    }
   ],
   "source": [
    "res.keys()"
   ]
  },
  {
   "cell_type": "code",
   "execution_count": 150,
   "id": "f0c1b1e2",
   "metadata": {},
   "outputs": [
    {
     "name": "stdout",
     "output_type": "stream",
     "text": [
      "We are at 0\n",
      "We are at 1\n",
      "We are at 2\n",
      "We are at 3\n",
      "We are at 4\n",
      "We are at 5\n",
      "We are at 6\n",
      "We are at 7\n",
      "We are at 8\n",
      "We are at 9\n",
      "We are at 10\n",
      "We are at 11\n"
     ]
    }
   ],
   "source": [
    "eval_res_df = pd.DataFrame(0,\n",
    "                           index=null_res_df.index,\n",
    "                           columns=['spec_accuracy', 'reac_accuracy',\n",
    "                                    'iter_num', 'species_match_score', 'reaction_match_score',\n",
    "                                    'num_species', 'num_eval_species',\n",
    "                                    'num_reactions', 'num_eval_reactions', 'total_match_score'])\n",
    "# second version that only stores evaluatable values\n",
    "for idx, one_biomd in enumerate(null_res_df.index):\n",
    "  print(\"We are at\", idx)\n",
    "  one_biomd_fpath = os.path.join(BIOMODEL_DIR, one_biomd)\n",
    "  species_an = sa.SpeciesAnnotation(libsbml_fpath=one_biomd_fpath)\n",
    "  reaction_an = ra.ReactionAnnotation(libsbml_fpath=one_biomd_fpath)\n",
    "  pred_species = species_an.predictAnnotationByName()\n",
    "  pred_reaction = reaction_an.predictAnnotation(inp_spec_dict=species_an.formula)\n",
    "  res = it.iterateAndGetUpdatedResults(spec_cl=species_an,\n",
    "                                       reac_cl=reaction_an,\n",
    "                                       num_iter=5,\n",
    "                                       show_message=False)\n",
    "  eval_pred_spec = {val:res['spec_formula'][val] for val in species_an.exist_annotation}\n",
    "  eval_pred_reac = {val:res['candidates'][val] for val in reaction_an.exist_annotation}\n",
    "  eval_res_df.loc[one_biomd, 'spec_accuracy'] = species_an.getAccuracy(pred_annotation=eval_pred_spec)\n",
    "  eval_res_df.loc[one_biomd, 'reac_accuracy'] = reaction_an.getAccuracy(pred_annotation=eval_pred_reac)\n",
    "  eval_res_df.loc[one_biomd, 'iter_num'] = res['rep']\n",
    "  eval_res_df.loc[one_biomd, 'species_match_score'] = np.mean([species_an.match_score[val] for val in eval_pred_spec.keys()])\n",
    "  # iterator didn't store full match  scores, so just used initial values. for this... :(\n",
    "  init_match_score = {val:reaction_an.match_score[val] for val in reaction_an.exist_annotation}\n",
    "  init_sum_match_score = reaction_an.getMatchScore(init_match_score)\n",
    "  eval_res_df.loc[one_biomd, 'reaction_match_score'] = init_sum_match_score / len(reaction_an.exist_annotation)\n",
    "  eval_res_df.loc[one_biomd, 'num_species'] = species_an.model.getNumSpecies() \n",
    "  eval_res_df.loc[one_biomd, 'num_eval_species'] = len(species_an.exist_annotation)\n",
    "  eval_res_df.loc[one_biomd, 'num_reactions'] = reaction_an.model.getNumReactions()\n",
    "  eval_res_df.loc[one_biomd, 'num_eval_reactions'] = len(reaction_an.exist_annotation)\n",
    "  eval_res_df.loc[one_biomd, 'total_match_score'] = init_sum_match_score"
   ]
  },
  {
   "cell_type": "code",
   "execution_count": 151,
   "id": "2a5c5ea1",
   "metadata": {},
   "outputs": [
    {
     "data": {
      "text/html": [
       "<div>\n",
       "<style scoped>\n",
       "    .dataframe tbody tr th:only-of-type {\n",
       "        vertical-align: middle;\n",
       "    }\n",
       "\n",
       "    .dataframe tbody tr th {\n",
       "        vertical-align: top;\n",
       "    }\n",
       "\n",
       "    .dataframe thead th {\n",
       "        text-align: right;\n",
       "    }\n",
       "</style>\n",
       "<table border=\"1\" class=\"dataframe\">\n",
       "  <thead>\n",
       "    <tr style=\"text-align: right;\">\n",
       "      <th></th>\n",
       "      <th>spec_accuracy</th>\n",
       "      <th>reac_accuracy</th>\n",
       "      <th>iter_num</th>\n",
       "      <th>species_match_score</th>\n",
       "      <th>reaction_match_score</th>\n",
       "      <th>num_species</th>\n",
       "      <th>num_eval_species</th>\n",
       "      <th>num_reactions</th>\n",
       "      <th>num_eval_reactions</th>\n",
       "      <th>total_match_score</th>\n",
       "    </tr>\n",
       "  </thead>\n",
       "  <tbody>\n",
       "    <tr>\n",
       "      <th>BIOMD0000000691.xml</th>\n",
       "      <td>0.000000</td>\n",
       "      <td>0.0</td>\n",
       "      <td>2</td>\n",
       "      <td>0.666667</td>\n",
       "      <td>0.422222</td>\n",
       "      <td>19</td>\n",
       "      <td>12</td>\n",
       "      <td>18</td>\n",
       "      <td>6</td>\n",
       "      <td>2.533333</td>\n",
       "    </tr>\n",
       "    <tr>\n",
       "      <th>BIOMD0000000094.xml</th>\n",
       "      <td>0.000000</td>\n",
       "      <td>0.0</td>\n",
       "      <td>2</td>\n",
       "      <td>0.700000</td>\n",
       "      <td>0.875000</td>\n",
       "      <td>34</td>\n",
       "      <td>2</td>\n",
       "      <td>45</td>\n",
       "      <td>2</td>\n",
       "      <td>1.750000</td>\n",
       "    </tr>\n",
       "    <tr>\n",
       "      <th>BIOMD0000000171.xml</th>\n",
       "      <td>0.000000</td>\n",
       "      <td>0.0</td>\n",
       "      <td>2</td>\n",
       "      <td>0.562500</td>\n",
       "      <td>0.729167</td>\n",
       "      <td>12</td>\n",
       "      <td>2</td>\n",
       "      <td>26</td>\n",
       "      <td>4</td>\n",
       "      <td>2.916667</td>\n",
       "    </tr>\n",
       "    <tr>\n",
       "      <th>BIOMD0000000248.xml</th>\n",
       "      <td>0.285714</td>\n",
       "      <td>0.0</td>\n",
       "      <td>2</td>\n",
       "      <td>0.838095</td>\n",
       "      <td>0.750000</td>\n",
       "      <td>9</td>\n",
       "      <td>7</td>\n",
       "      <td>5</td>\n",
       "      <td>1</td>\n",
       "      <td>0.750000</td>\n",
       "    </tr>\n",
       "    <tr>\n",
       "      <th>BIOMD0000000088.xml</th>\n",
       "      <td>0.294118</td>\n",
       "      <td>0.0</td>\n",
       "      <td>2</td>\n",
       "      <td>0.566394</td>\n",
       "      <td>0.972222</td>\n",
       "      <td>105</td>\n",
       "      <td>17</td>\n",
       "      <td>110</td>\n",
       "      <td>18</td>\n",
       "      <td>17.500000</td>\n",
       "    </tr>\n",
       "    <tr>\n",
       "      <th>BIOMD0000000108.xml</th>\n",
       "      <td>0.600000</td>\n",
       "      <td>0.0</td>\n",
       "      <td>1</td>\n",
       "      <td>0.733333</td>\n",
       "      <td>0.500000</td>\n",
       "      <td>9</td>\n",
       "      <td>5</td>\n",
       "      <td>17</td>\n",
       "      <td>1</td>\n",
       "      <td>0.500000</td>\n",
       "    </tr>\n",
       "    <tr>\n",
       "      <th>BIOMD0000000137.xml</th>\n",
       "      <td>0.666667</td>\n",
       "      <td>0.0</td>\n",
       "      <td>1</td>\n",
       "      <td>0.566138</td>\n",
       "      <td>0.400000</td>\n",
       "      <td>21</td>\n",
       "      <td>3</td>\n",
       "      <td>20</td>\n",
       "      <td>1</td>\n",
       "      <td>0.400000</td>\n",
       "    </tr>\n",
       "    <tr>\n",
       "      <th>BIOMD0000000038.xml</th>\n",
       "      <td>0.750000</td>\n",
       "      <td>0.0</td>\n",
       "      <td>2</td>\n",
       "      <td>0.854167</td>\n",
       "      <td>0.547619</td>\n",
       "      <td>17</td>\n",
       "      <td>4</td>\n",
       "      <td>10</td>\n",
       "      <td>2</td>\n",
       "      <td>1.095238</td>\n",
       "    </tr>\n",
       "    <tr>\n",
       "      <th>BIOMD0000000143.xml</th>\n",
       "      <td>0.875000</td>\n",
       "      <td>0.0</td>\n",
       "      <td>1</td>\n",
       "      <td>0.936364</td>\n",
       "      <td>0.916667</td>\n",
       "      <td>20</td>\n",
       "      <td>16</td>\n",
       "      <td>20</td>\n",
       "      <td>3</td>\n",
       "      <td>2.750000</td>\n",
       "    </tr>\n",
       "    <tr>\n",
       "      <th>BIOMD0000000292.xml</th>\n",
       "      <td>1.000000</td>\n",
       "      <td>0.0</td>\n",
       "      <td>1</td>\n",
       "      <td>0.854167</td>\n",
       "      <td>0.875000</td>\n",
       "      <td>6</td>\n",
       "      <td>4</td>\n",
       "      <td>4</td>\n",
       "      <td>1</td>\n",
       "      <td>0.875000</td>\n",
       "    </tr>\n",
       "    <tr>\n",
       "      <th>BIOMD0000000123.xml</th>\n",
       "      <td>1.000000</td>\n",
       "      <td>0.0</td>\n",
       "      <td>1</td>\n",
       "      <td>0.638889</td>\n",
       "      <td>1.000000</td>\n",
       "      <td>14</td>\n",
       "      <td>2</td>\n",
       "      <td>17</td>\n",
       "      <td>1</td>\n",
       "      <td>1.000000</td>\n",
       "    </tr>\n",
       "    <tr>\n",
       "      <th>BIOMD0000000122.xml</th>\n",
       "      <td>1.000000</td>\n",
       "      <td>0.0</td>\n",
       "      <td>1</td>\n",
       "      <td>0.638889</td>\n",
       "      <td>1.000000</td>\n",
       "      <td>14</td>\n",
       "      <td>2</td>\n",
       "      <td>17</td>\n",
       "      <td>1</td>\n",
       "      <td>1.000000</td>\n",
       "    </tr>\n",
       "  </tbody>\n",
       "</table>\n",
       "</div>"
      ],
      "text/plain": [
       "                     spec_accuracy  reac_accuracy  iter_num  \\\n",
       "BIOMD0000000691.xml       0.000000            0.0         2   \n",
       "BIOMD0000000094.xml       0.000000            0.0         2   \n",
       "BIOMD0000000171.xml       0.000000            0.0         2   \n",
       "BIOMD0000000248.xml       0.285714            0.0         2   \n",
       "BIOMD0000000088.xml       0.294118            0.0         2   \n",
       "BIOMD0000000108.xml       0.600000            0.0         1   \n",
       "BIOMD0000000137.xml       0.666667            0.0         1   \n",
       "BIOMD0000000038.xml       0.750000            0.0         2   \n",
       "BIOMD0000000143.xml       0.875000            0.0         1   \n",
       "BIOMD0000000292.xml       1.000000            0.0         1   \n",
       "BIOMD0000000123.xml       1.000000            0.0         1   \n",
       "BIOMD0000000122.xml       1.000000            0.0         1   \n",
       "\n",
       "                     species_match_score  reaction_match_score  num_species  \\\n",
       "BIOMD0000000691.xml             0.666667              0.422222           19   \n",
       "BIOMD0000000094.xml             0.700000              0.875000           34   \n",
       "BIOMD0000000171.xml             0.562500              0.729167           12   \n",
       "BIOMD0000000248.xml             0.838095              0.750000            9   \n",
       "BIOMD0000000088.xml             0.566394              0.972222          105   \n",
       "BIOMD0000000108.xml             0.733333              0.500000            9   \n",
       "BIOMD0000000137.xml             0.566138              0.400000           21   \n",
       "BIOMD0000000038.xml             0.854167              0.547619           17   \n",
       "BIOMD0000000143.xml             0.936364              0.916667           20   \n",
       "BIOMD0000000292.xml             0.854167              0.875000            6   \n",
       "BIOMD0000000123.xml             0.638889              1.000000           14   \n",
       "BIOMD0000000122.xml             0.638889              1.000000           14   \n",
       "\n",
       "                     num_eval_species  num_reactions  num_eval_reactions  \\\n",
       "BIOMD0000000691.xml                12             18                   6   \n",
       "BIOMD0000000094.xml                 2             45                   2   \n",
       "BIOMD0000000171.xml                 2             26                   4   \n",
       "BIOMD0000000248.xml                 7              5                   1   \n",
       "BIOMD0000000088.xml                17            110                  18   \n",
       "BIOMD0000000108.xml                 5             17                   1   \n",
       "BIOMD0000000137.xml                 3             20                   1   \n",
       "BIOMD0000000038.xml                 4             10                   2   \n",
       "BIOMD0000000143.xml                16             20                   3   \n",
       "BIOMD0000000292.xml                 4              4                   1   \n",
       "BIOMD0000000123.xml                 2             17                   1   \n",
       "BIOMD0000000122.xml                 2             17                   1   \n",
       "\n",
       "                     total_match_score  \n",
       "BIOMD0000000691.xml           2.533333  \n",
       "BIOMD0000000094.xml           1.750000  \n",
       "BIOMD0000000171.xml           2.916667  \n",
       "BIOMD0000000248.xml           0.750000  \n",
       "BIOMD0000000088.xml          17.500000  \n",
       "BIOMD0000000108.xml           0.500000  \n",
       "BIOMD0000000137.xml           0.400000  \n",
       "BIOMD0000000038.xml           1.095238  \n",
       "BIOMD0000000143.xml           2.750000  \n",
       "BIOMD0000000292.xml           0.875000  \n",
       "BIOMD0000000123.xml           1.000000  \n",
       "BIOMD0000000122.xml           1.000000  "
      ]
     },
     "execution_count": 151,
     "metadata": {},
     "output_type": "execute_result"
    }
   ],
   "source": [
    "eval_res_df"
   ]
  },
  {
   "cell_type": "code",
   "execution_count": 171,
   "id": "b26746ad",
   "metadata": {},
   "outputs": [],
   "source": [
    "one_biomd = 'BIOMD0000000691.xml'\n",
    "one_biomd_fpath = os.path.join(BIOMODEL_DIR, one_biomd)\n",
    "species_an = sa.SpeciesAnnotation(libsbml_fpath=one_biomd_fpath)\n",
    "reaction_an = ra.ReactionAnnotation(libsbml_fpath=one_biomd_fpath)\n",
    "pred_species = species_an.predictAnnotationByName()\n",
    "pred_reaction = reaction_an.predictAnnotation(inp_spec_dict=species_an.formula)"
   ]
  },
  {
   "cell_type": "code",
   "execution_count": 172,
   "id": "cbce407b",
   "metadata": {},
   "outputs": [
    {
     "data": {
      "text/plain": [
       "{'S1__Cell_1_': 0.5,\n",
       " 'S1__Cell_2_': 0.5,\n",
       " 'S2__Cell_1_': 1.0,\n",
       " 'S2__Cell_2_': 1.0,\n",
       " 'S3__Cell_1_': 1.0,\n",
       " 'S3__Cell_2_': 1.0,\n",
       " 'S4__Cell_1_': 1.0,\n",
       " 'S4__Cell_2_': 1.0,\n",
       " 'N2__Cell_1_': 1.0,\n",
       " 'N2__Cell_2_': 1.0,\n",
       " 'A3__Cell_1_': 0.5,\n",
       " 'A3__Cell_2_': 0.5,\n",
       " 'S4_ex': 0.6,\n",
       " 'A': 1.0,\n",
       " 'N': 1.0,\n",
       " 'N1__Cell_1_': 0.5,\n",
       " 'N1__Cell_2_': 0.5,\n",
       " 'A2__Cell_1_': 0.5,\n",
       " 'A2__Cell_2_': 0.5}"
      ]
     },
     "execution_count": 172,
     "metadata": {},
     "output_type": "execute_result"
    }
   ],
   "source": [
    "species_an.match_score"
   ]
  },
  {
   "cell_type": "code",
   "execution_count": 174,
   "id": "7e274678",
   "metadata": {},
   "outputs": [
    {
     "data": {
      "text/plain": [
       "['CHEBI:29387']"
      ]
     },
     "execution_count": 174,
     "metadata": {},
     "output_type": "execute_result"
    }
   ],
   "source": [
    "species_an.candidates['S2__Cell_1_']"
   ]
  },
  {
   "cell_type": "code",
   "execution_count": 175,
   "id": "2dc4a4ea",
   "metadata": {},
   "outputs": [
    {
     "data": {
      "text/plain": [
       "['CHEBI:16708',\n",
       " 'CHEBI:16977',\n",
       " 'CHEBI:13193',\n",
       " 'CHEBI:16449',\n",
       " 'CHEBI:46217',\n",
       " 'CHEBI:62885']"
      ]
     },
     "execution_count": 175,
     "metadata": {},
     "output_type": "execute_result"
    }
   ],
   "source": [
    "species_an.candidates['A']"
   ]
  },
  {
   "cell_type": "code",
   "execution_count": 245,
   "id": "9379eb93",
   "metadata": {},
   "outputs": [
    {
     "data": {
      "text/plain": [
       "<matplotlib.collections.PathCollection at 0x7fd0557e9130>"
      ]
     },
     "execution_count": 245,
     "metadata": {},
     "output_type": "execute_result"
    },
    {
     "data": {
      "image/png": "[encoded data removed]",
      "text/plain": [
       "<Figure size 576x576 with 1 Axes>"
      ]
     },
     "metadata": {
      "needs_background": "light"
     },
     "output_type": "display_data"
    }
   ],
   "source": [
    "plt.figure(figsize=(8, 8))\n",
    "plt.xlim(0.0, 1.0)\n",
    "plt.ylim(0.0, 1.0)\n",
    "plt.scatter(eval_res_df.spec_accuracy, eval_res_df.species_match_score)"
   ]
  },
  {
   "cell_type": "code",
   "execution_count": 246,
   "id": "e5771b1f",
   "metadata": {},
   "outputs": [],
   "source": [
    "# plt.scatter(eval_res_df.reac_accuracy, eval_res_df.reaction_match_score)"
   ]
  },
  {
   "cell_type": "code",
   "execution_count": 180,
   "id": "b88bf72d",
   "metadata": {},
   "outputs": [
    {
     "name": "stdout",
     "output_type": "stream",
     "text": [
      "1699\n"
     ]
    }
   ],
   "source": [
    "total_specs = 0\n",
    "for idx, one_biomd in enumerate(biomodels_to_load):\n",
    "#   print(\"We are at\", idx)\n",
    "  one_biomd_fpath = os.path.join(BIOMODEL_DIR, one_biomd)\n",
    "  species_an = sa.SpeciesAnnotation(libsbml_fpath=one_biomd_fpath)\n",
    "  total_specs = total_specs + len(species_an.exist_annotation)\n",
    "print(total_specs)"
   ]
  },
  {
   "cell_type": "code",
   "execution_count": 199,
   "id": "b1419f18",
   "metadata": {},
   "outputs": [
    {
     "name": "stdout",
     "output_type": "stream",
     "text": [
      "We are at 0\n",
      "We are at 5\n",
      "We are at 10\n",
      "We are at 15\n",
      "We are at 20\n",
      "We are at 25\n",
      "We are at 30\n",
      "We are at 35\n",
      "We are at 40\n",
      "We are at 45\n"
     ]
    }
   ],
   "source": [
    "# for all species of all models; test \n",
    "# len_word is either name or id depending on availability\n",
    "eval_spec_res = pd.DataFrame(0, index=range(total_specs),\n",
    "                             columns=['model', 'species_id', 'species_name',\n",
    "                                      'len_word', 'match_score', 'num_cands',\n",
    "                                      'accuracy'])\n",
    "idx_val = 0\n",
    "for idx, one_biomd in enumerate(biomodels_to_load):\n",
    "  if idx % 5 == 0:\n",
    "    print(\"We are at\", idx)\n",
    "  one_biomd_fpath = os.path.join(BIOMODEL_DIR, one_biomd)\n",
    "  species_an = sa.SpeciesAnnotation(libsbml_fpath=one_biomd_fpath)\n",
    "  pred_species = species_an.predictAnnotationByName(inp_spec_list=list(species_an.exist_annotation.keys()))  \n",
    "  for one_spec in species_an.candidates.keys():\n",
    "    eval_spec_res.loc[idx_val, 'model'] = one_biomd\n",
    "    eval_spec_res.loc[idx_val, 'species_id'] = one_spec\n",
    "    one_spec_name = species_an.model.getSpecies(one_spec).name.lower()\n",
    "    if len(one_spec_name) == 0:\n",
    "      one_spec_name = one_spec\n",
    "    eval_spec_res.loc[idx_val, 'species_name'] = one_spec_name\n",
    "    eval_spec_res.loc[idx_val, 'len_word'] = len(one_spec_name)\n",
    "    eval_spec_res.loc[idx_val, 'match_score'] = species_an.match_score[one_spec]\n",
    "    eval_spec_res.loc[idx_val, 'num_cands'] = len(species_an.candidates[one_spec])\n",
    "    common_cands = set(species_an.formula[one_spec]).intersection(species_an.exist_annotation[one_spec])\n",
    "    acc = 1 if len(common_cands)>0 else 0\n",
    "    eval_spec_res.loc[idx_val, 'accuracy'] = acc\n",
    "    idx_val = idx_val + 1"
   ]
  },
  {
   "cell_type": "code",
   "execution_count": 200,
   "id": "52b445b8",
   "metadata": {},
   "outputs": [
    {
     "data": {
      "text/html": [
       "<div>\n",
       "<style scoped>\n",
       "    .dataframe tbody tr th:only-of-type {\n",
       "        vertical-align: middle;\n",
       "    }\n",
       "\n",
       "    .dataframe tbody tr th {\n",
       "        vertical-align: top;\n",
       "    }\n",
       "\n",
       "    .dataframe thead th {\n",
       "        text-align: right;\n",
       "    }\n",
       "</style>\n",
       "<table border=\"1\" class=\"dataframe\">\n",
       "  <thead>\n",
       "    <tr style=\"text-align: right;\">\n",
       "      <th></th>\n",
       "      <th>model</th>\n",
       "      <th>species_id</th>\n",
       "      <th>species_name</th>\n",
       "      <th>len_word</th>\n",
       "      <th>match_score</th>\n",
       "      <th>num_cands</th>\n",
       "      <th>accuracy</th>\n",
       "    </tr>\n",
       "  </thead>\n",
       "  <tbody>\n",
       "    <tr>\n",
       "      <th>0</th>\n",
       "      <td>BIOMD0000000172.xml</td>\n",
       "      <td>GLCo</td>\n",
       "      <td>glc(ext)</td>\n",
       "      <td>8</td>\n",
       "      <td>0.500000</td>\n",
       "      <td>15</td>\n",
       "      <td>0</td>\n",
       "    </tr>\n",
       "    <tr>\n",
       "      <th>1</th>\n",
       "      <td>BIOMD0000000172.xml</td>\n",
       "      <td>GLCi</td>\n",
       "      <td>glc(int)</td>\n",
       "      <td>8</td>\n",
       "      <td>0.500000</td>\n",
       "      <td>20</td>\n",
       "      <td>0</td>\n",
       "    </tr>\n",
       "    <tr>\n",
       "      <th>2</th>\n",
       "      <td>BIOMD0000000172.xml</td>\n",
       "      <td>ATP</td>\n",
       "      <td>atp</td>\n",
       "      <td>3</td>\n",
       "      <td>1.000000</td>\n",
       "      <td>2</td>\n",
       "      <td>1</td>\n",
       "    </tr>\n",
       "    <tr>\n",
       "      <th>3</th>\n",
       "      <td>BIOMD0000000172.xml</td>\n",
       "      <td>G6P</td>\n",
       "      <td>glu6p</td>\n",
       "      <td>5</td>\n",
       "      <td>0.800000</td>\n",
       "      <td>1</td>\n",
       "      <td>1</td>\n",
       "    </tr>\n",
       "    <tr>\n",
       "      <th>4</th>\n",
       "      <td>BIOMD0000000172.xml</td>\n",
       "      <td>ADP</td>\n",
       "      <td>adp</td>\n",
       "      <td>3</td>\n",
       "      <td>1.000000</td>\n",
       "      <td>3</td>\n",
       "      <td>1</td>\n",
       "    </tr>\n",
       "    <tr>\n",
       "      <th>...</th>\n",
       "      <td>...</td>\n",
       "      <td>...</td>\n",
       "      <td>...</td>\n",
       "      <td>...</td>\n",
       "      <td>...</td>\n",
       "      <td>...</td>\n",
       "      <td>...</td>\n",
       "    </tr>\n",
       "    <tr>\n",
       "      <th>1694</th>\n",
       "      <td>BIOMD0000000061.xml</td>\n",
       "      <td>ACAX</td>\n",
       "      <td>extracellular acetaldehyde</td>\n",
       "      <td>26</td>\n",
       "      <td>0.653846</td>\n",
       "      <td>1</td>\n",
       "      <td>0</td>\n",
       "    </tr>\n",
       "    <tr>\n",
       "      <th>1695</th>\n",
       "      <td>BIOMD0000000061.xml</td>\n",
       "      <td>CNX</td>\n",
       "      <td>extracellular cyanide</td>\n",
       "      <td>21</td>\n",
       "      <td>0.571429</td>\n",
       "      <td>2</td>\n",
       "      <td>0</td>\n",
       "    </tr>\n",
       "    <tr>\n",
       "      <th>1696</th>\n",
       "      <td>BIOMD0000000061.xml</td>\n",
       "      <td>AMP</td>\n",
       "      <td>amp</td>\n",
       "      <td>3</td>\n",
       "      <td>1.000000</td>\n",
       "      <td>3</td>\n",
       "      <td>1</td>\n",
       "    </tr>\n",
       "    <tr>\n",
       "      <th>1697</th>\n",
       "      <td>BIOMD0000000061.xml</td>\n",
       "      <td>CNX0</td>\n",
       "      <td>mixed flow cyanide</td>\n",
       "      <td>18</td>\n",
       "      <td>0.611111</td>\n",
       "      <td>1</td>\n",
       "      <td>0</td>\n",
       "    </tr>\n",
       "    <tr>\n",
       "      <th>1698</th>\n",
       "      <td>BIOMD0000000061.xml</td>\n",
       "      <td>GlcX0</td>\n",
       "      <td>mixed flow glucose</td>\n",
       "      <td>18</td>\n",
       "      <td>0.555556</td>\n",
       "      <td>2</td>\n",
       "      <td>0</td>\n",
       "    </tr>\n",
       "  </tbody>\n",
       "</table>\n",
       "<p>1699 rows × 7 columns</p>\n",
       "</div>"
      ],
      "text/plain": [
       "                    model species_id                species_name  len_word  \\\n",
       "0     BIOMD0000000172.xml       GLCo                    glc(ext)         8   \n",
       "1     BIOMD0000000172.xml       GLCi                    glc(int)         8   \n",
       "2     BIOMD0000000172.xml        ATP                         atp         3   \n",
       "3     BIOMD0000000172.xml        G6P                       glu6p         5   \n",
       "4     BIOMD0000000172.xml        ADP                         adp         3   \n",
       "...                   ...        ...                         ...       ...   \n",
       "1694  BIOMD0000000061.xml       ACAX  extracellular acetaldehyde        26   \n",
       "1695  BIOMD0000000061.xml        CNX       extracellular cyanide        21   \n",
       "1696  BIOMD0000000061.xml        AMP                         amp         3   \n",
       "1697  BIOMD0000000061.xml       CNX0          mixed flow cyanide        18   \n",
       "1698  BIOMD0000000061.xml      GlcX0          mixed flow glucose        18   \n",
       "\n",
       "      match_score  num_cands  accuracy  \n",
       "0        0.500000         15         0  \n",
       "1        0.500000         20         0  \n",
       "2        1.000000          2         1  \n",
       "3        0.800000          1         1  \n",
       "4        1.000000          3         1  \n",
       "...           ...        ...       ...  \n",
       "1694     0.653846          1         0  \n",
       "1695     0.571429          2         0  \n",
       "1696     1.000000          3         1  \n",
       "1697     0.611111          1         0  \n",
       "1698     0.555556          2         0  \n",
       "\n",
       "[1699 rows x 7 columns]"
      ]
     },
     "execution_count": 200,
     "metadata": {},
     "output_type": "execute_result"
    }
   ],
   "source": [
    "eval_spec_res"
   ]
  },
  {
   "cell_type": "code",
   "execution_count": 204,
   "id": "f5f305ad",
   "metadata": {},
   "outputs": [
    {
     "data": {
      "text/plain": [
       "1401"
      ]
     },
     "execution_count": 204,
     "metadata": {},
     "output_type": "execute_result"
    }
   ],
   "source": [
    "np.sum(eval_spec_res.accuracy)"
   ]
  },
  {
   "cell_type": "code",
   "execution_count": 247,
   "id": "8bd0cbf8",
   "metadata": {},
   "outputs": [],
   "source": [
    "# plt.scatter(eval_spec_res.len_word, eval_spec_res.accuracy)"
   ]
  },
  {
   "cell_type": "code",
   "execution_count": 250,
   "id": "5668b72b",
   "metadata": {},
   "outputs": [
    {
     "name": "stdout",
     "output_type": "stream",
     "text": [
      "[0.8338926174496645, 0.8238255033557047, 0.8322147651006712, 0.8288590604026845, 0.8355704697986577, 0.8187919463087249, 0.8271812080536913, 0.8355704697986577, 0.8305369127516778, 0.8187919463087249]\n",
      "0.8285234899328859\n"
     ]
    }
   ],
   "source": [
    "from sklearn.datasets import load_iris\n",
    "from sklearn.linear_model import LogisticRegressionCV\n",
    "\n",
    "df_0 = eval_spec_res[eval_spec_res['accuracy']==0] \n",
    "df_1 = eval_spec_res[eval_spec_res['accuracy']==1]\n",
    "\n",
    "clf_res = []\n",
    "for _ in range(10):\n",
    "  df_sel_comb = pd.concat([df_0, df_1.sample(n=df_0.shape[0], replace=False)], axis=0, join='inner')\n",
    "\n",
    "  X = df_sel_comb[['match_score', 'num_cands']]\n",
    "  y = df_sel_comb['accuracy']\n",
    "\n",
    "  clf = LogisticRegressionCV(cv=10, random_state=0, class_weight='balanced').fit(X, y)\n",
    "  clf_res.append(clf.score(X, y))\n",
    "print(clf_res)\n",
    "print(np.mean(clf_res))\n",
    "  "
   ]
  },
  {
   "cell_type": "code",
   "execution_count": null,
   "id": "b97a7b2c",
   "metadata": {},
   "outputs": [],
   "source": [
    "# Can you also show if species names are updated, will it yield correct result?\n",
    "# Doing it manually (demo)\n",
    "# => include it to the flowchart\n",
    "# Look into which variable is important (weight)??"
   ]
  },
  {
   "cell_type": "code",
   "execution_count": 201,
   "id": "128e3c53",
   "metadata": {},
   "outputs": [],
   "source": [
    "# eval_spec_res.to_csv(\"eval_species_annotation.csv\")"
   ]
  },
  {
   "cell_type": "code",
   "execution_count": null,
   "id": "4c93e076",
   "metadata": {},
   "outputs": [],
   "source": []
  },
  {
   "cell_type": "code",
   "execution_count": 182,
   "id": "d13e8892",
   "metadata": {},
   "outputs": [
    {
     "data": {
      "text/plain": [
       "25"
      ]
     },
     "execution_count": 182,
     "metadata": {},
     "output_type": "execute_result"
    }
   ],
   "source": [
    "len(species_an.exist_annotation)"
   ]
  },
  {
   "cell_type": "code",
   "execution_count": 26,
   "id": "ab56cb2c",
   "metadata": {},
   "outputs": [],
   "source": [
    "# res_df.to_csv(\"eval_iter_algorithms.csv\")"
   ]
  },
  {
   "cell_type": "code",
   "execution_count": 30,
   "id": "9fe50e36",
   "metadata": {},
   "outputs": [
    {
     "data": {
      "image/png": "[encoded data removed]",
      "text/plain": [
       "<Figure size 720x576 with 1 Axes>"
      ]
     },
     "metadata": {
      "needs_background": "light"
     },
     "output_type": "display_data"
    }
   ],
   "source": [
    "plt.figure(figsize=(10, 8))\n",
    "bins = np.linspace(0.0, 1.0, 20)\n",
    "plt.hist(res_df['spec_accuracy'], bins, alpha=0.5, label='Species Annotation Accuracy')\n",
    "plt.hist(res_df['reac_accuracy'], bins, alpha=0.5, label='Reactions Annotation Accuracy')\n",
    "plt.legend(loc='upper right')\n",
    "plt.show()"
   ]
  },
  {
   "cell_type": "code",
   "execution_count": 58,
   "id": "e620f0b5",
   "metadata": {},
   "outputs": [
    {
     "name": "stdout",
     "output_type": "stream",
     "text": [
      "9\n",
      "5\n"
     ]
    }
   ],
   "source": [
    "one_biomd = 'BIOMD0000000248.xml'\n",
    "one_biomd_fpath = os.path.join(BIOMODEL_DIR, one_biomd)\n",
    "species_an = sa.SpeciesAnnotation(libsbml_fpath=one_biomd_fpath)\n",
    "reaction_an = ra.ReactionAnnotation(libsbml_fpath=one_biomd_fpath)\n",
    "\n",
    "model = species_an.model\n",
    "print(model.getNumSpecies())\n",
    "print(model.getNumReactions())\n",
    "pred_species = species_an.predictAnnotationByName()\n",
    "pred_reaction = reaction_an.predictAnnotation(inp_spec_dict=species_an.formula)\n",
    "res = it.iterateAndGetUpdatedResults(spec_cl=species_an,\n",
    "                                   reac_cl=reaction_an,\n",
    "                                   num_iter=5,\n",
    "                                   show_message=False)"
   ]
  },
  {
   "cell_type": "code",
   "execution_count": 63,
   "id": "2fc73c18",
   "metadata": {},
   "outputs": [
    {
     "data": {
      "text/plain": [
       "{'ATP': ['C10N5O13P3'],\n",
       " 'PCr': ['C4N3O5P'],\n",
       " 'ADP': ['C10N5O10P2'],\n",
       " 'Cr': ['C4N3O2'],\n",
       " 'Pi': ['O4P'],\n",
       " 'CFcap': ['O2'],\n",
       " 'CFtis': ['O2']}"
      ]
     },
     "execution_count": 63,
     "metadata": {},
     "output_type": "execute_result"
    }
   ],
   "source": [
    "species_an.exist_annotation"
   ]
  },
  {
   "cell_type": "code",
   "execution_count": 61,
   "id": "b67430e9",
   "metadata": {},
   "outputs": [
    {
     "data": {
      "text/plain": [
       "{'CreatineKinase': ['RHEA:17160']}"
      ]
     },
     "execution_count": 61,
     "metadata": {},
     "output_type": "execute_result"
    }
   ],
   "source": [
    "reaction_an.exist_annotation"
   ]
  },
  {
   "cell_type": "code",
   "execution_count": 64,
   "id": "db1b8ef2",
   "metadata": {},
   "outputs": [
    {
     "name": "stdout",
     "output_type": "stream",
     "text": [
      "Species associated with reaction CreatineKinase: ['PCr', 'ATP', 'ADP', 'Cr']\n"
     ]
    }
   ],
   "source": [
    "one_rid = 'CreatineKinase'\n",
    "comps = reaction_an.getReactionComponents(one_rid)\n",
    "print(\"Species associated with reaction %s:\" % one_rid, comps)"
   ]
  },
  {
   "cell_type": "code",
   "execution_count": 69,
   "id": "21f34c1c",
   "metadata": {},
   "outputs": [
    {
     "name": "stdout",
     "output_type": "stream",
     "text": [
      "For PCr in the model, algorithm found ['C13N2O2', 'C5N.ClCrO3', 'C9N3O8P', 'C22NO2', 'C6Cl5O', 'C17N', 'C6Cl5', 'C5NO2', 'C9N5O3S', 'C34N9O18S4', 'C3', 'Pr', 'C2Cl4', 'Cr', 'C5NO4P', 'C10NO8PR2', 'C18N5O10S2', 'C10N5O3', 'C16N2O4S', 'C21O2', 'C14O5', '(C6O2)n', 'C11N5O3']\n",
      "It wasn't correct!\n",
      "For ATP in the model, algorithm found ['C10N5O13P3']\n",
      "It was correct\n",
      "It wasn't correct!\n",
      "For ADP in the model, algorithm found ['C12N3O6', 'C10N5O10P2']\n",
      "It was correct\n",
      "It wasn't correct!\n",
      "For Cr in the model, algorithm found ['C9N5O3S', 'Cr']\n",
      "It wasn't correct!\n"
     ]
    }
   ],
   "source": [
    "for one_comp in comps:\n",
    "  print(\"For %s in the model, algorithm found %s\" % (one_comp, species_an.formula[one_comp]))\n",
    "  if set(species_an.exist_annotation[one_comp]).intersection(set(species_an.formula[one_comp])):\n",
    "    print(\"It was correct\")\n",
    "  print(\"It wasn't correct!\")"
   ]
  },
  {
   "cell_type": "code",
   "execution_count": 70,
   "id": "56323a63",
   "metadata": {},
   "outputs": [
    {
     "data": {
      "text/plain": [
       "['CHEBI:157802', 'CHEBI:28073']"
      ]
     },
     "execution_count": 70,
     "metadata": {},
     "output_type": "execute_result"
    }
   ],
   "source": [
    "species_an.candidates['Cr']"
   ]
  },
  {
   "cell_type": "code",
   "execution_count": 241,
   "id": "3123fd82",
   "metadata": {},
   "outputs": [],
   "source": [
    "# print(species_an.formula['NADP_c'])\n",
    "# reaction_an.match_score['R7']"
   ]
  },
  {
   "cell_type": "code",
   "execution_count": 242,
   "id": "5e322556",
   "metadata": {},
   "outputs": [
    {
     "data": {
      "text/plain": [
       "Index(['BIOMD0000000691.xml', 'BIOMD0000000094.xml', 'BIOMD0000000171.xml',\n",
       "       'BIOMD0000000248.xml', 'BIOMD0000000088.xml', 'BIOMD0000000108.xml',\n",
       "       'BIOMD0000000137.xml', 'BIOMD0000000038.xml', 'BIOMD0000000143.xml',\n",
       "       'BIOMD0000000292.xml', 'BIOMD0000000123.xml', 'BIOMD0000000122.xml'],\n",
       "      dtype='object')"
      ]
     },
     "execution_count": 242,
     "metadata": {},
     "output_type": "execute_result"
    }
   ],
   "source": [
    "null_res_df.index"
   ]
  },
  {
   "cell_type": "code",
   "execution_count": null,
   "id": "137e1da7",
   "metadata": {},
   "outputs": [],
   "source": []
  }
 ],
 "metadata": {
  "kernelspec": {
   "display_name": "pyo",
   "language": "python",
   "name": "pyo"
  },
  "language_info": {
   "codemirror_mode": {
    "name": "ipython",
    "version": 3
   },
   "file_extension": ".py",
   "mimetype": "text/x-python",
   "name": "python",
   "nbconvert_exporter": "python",
   "pygments_lexer": "ipython3",
   "version": "3.8.8"
  }
 },
 "nbformat": 4,
 "nbformat_minor": 5
}
