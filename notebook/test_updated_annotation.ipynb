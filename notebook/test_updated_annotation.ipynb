{
 "cells": [
  {
   "cell_type": "code",
   "execution_count": 1,
   "id": "beb3ae15",
   "metadata": {},
   "outputs": [
    {
     "name": "stdout",
     "output_type": "stream",
     "text": [
      "(13651, 3790)\n"
     ]
    }
   ],
   "source": [
    "# Manually update annotation and compare with original results\n",
    "# First, use Biomodels 248? \n",
    "\n",
    "import libsbml\n",
    "import os\n",
    "import pickle\n",
    "import sys\n",
    "\n",
    "PROJ_DIR = \"/Users/woosubs/Desktop/AutomateAnnotation/AnnotationRecommender/\"\n",
    "MOD_DIR = os.path.join(PROJ_DIR, \"annotation_recommender\")\n",
    "sys.path.append(MOD_DIR)\n",
    "BASE_DIR = '/Users/woosubs/Desktop/AutomateAnnotation/'\n",
    "DATA_DIR = os.path.join(BASE_DIR, \"DATA\")\n",
    "ALGO_DIR = os.path.join(DATA_DIR, \"algo\")\n",
    "BIOMODEL_DIR = os.path.join(DATA_DIR, \"biomodels/curated_biomodels_31mar2021\")\n",
    "BIGG_DIR = '/Users/woosubs/Desktop/AutomateAnnotation/DATA/bigg'\n",
    "ecoli_fpath = os.path.join(BIGG_DIR, \"e_coli_core.xml\")\n",
    "\n",
    "from annotation_recommender import species_annotation as sa\n",
    "from annotation_recommender import reaction_annotation as ra\n",
    "from annotation_recommender import constants as cn\n",
    "from annotation_recommender import iterator as it\n",
    "from annotation_recommender import tools\n",
    "\n",
    "# load reference matrix\n",
    "with open(os.path.join(ALGO_DIR, 'binary_ref_df.pickle'), 'rb') as handle:\n",
    "    ref_mat = pickle.load(handle)\n",
    "# check its shape\n",
    "print(ref_mat.shape)"
   ]
  },
  {
   "cell_type": "code",
   "execution_count": 2,
   "id": "94101254",
   "metadata": {},
   "outputs": [],
   "source": [
    "# Create SpeciesAnnotation & ReactionAnnotation class instances\n",
    "biomd = 'BIOMD0000000248.xml'\n",
    "biomd_fpath = os.path.join(BIOMODEL_DIR, biomd)\n",
    "species_an = sa.SpeciesAnnotation(libsbml_fpath=biomd_fpath)\n",
    "reaction_an = ra.ReactionAnnotation(libsbml_fpath=biomd_fpath)"
   ]
  },
  {
   "cell_type": "code",
   "execution_count": 3,
   "id": "e4454641",
   "metadata": {},
   "outputs": [
    {
     "name": "stdout",
     "output_type": "stream",
     "text": [
      "Species associated with reaction CreatineKinase: ['ATP', 'Cr', 'ADP', 'PCr']\n"
     ]
    }
   ],
   "source": [
    "# Identify species IDs to predict\n",
    "one_rid ='CreatineKinase'\n",
    "comps = reaction_an.getReactionComponents(one_rid)\n",
    "print(\"Species associated with reaction %s:\" % one_rid, comps)"
   ]
  },
  {
   "cell_type": "code",
   "execution_count": 4,
   "id": "4897a48d",
   "metadata": {},
   "outputs": [
    {
     "name": "stdout",
     "output_type": "stream",
     "text": [
      "{'ATP': 'ATP', 'Cr': 'Cr', 'ADP': 'ADP', 'PCr': 'PCr'}\n"
     ]
    }
   ],
   "source": [
    "# Original naming of species;\n",
    "orig_species = {val:species_an.model.getSpecies(val).name for val in comps}\n",
    "print(orig_species)\n",
    "orig_spec_pred = species_an.predictAnnotationByName(specnames_dict=orig_species,\n",
    "                                                    update=True)"
   ]
  },
  {
   "cell_type": "code",
   "execution_count": 14,
   "id": "65dbe3d4",
   "metadata": {},
   "outputs": [
    {
     "data": {
      "text/plain": [
       "{'Cr': 1.0, 'ADP': 1.0, 'ATP': 1.0, 'PCr': 1.0}"
      ]
     },
     "execution_count": 14,
     "metadata": {},
     "output_type": "execute_result"
    }
   ],
   "source": [
    "species_an.match_score"
   ]
  },
  {
   "cell_type": "code",
   "execution_count": 74,
   "id": "5c331e37",
   "metadata": {},
   "outputs": [
    {
     "data": {
      "text/plain": [
       "True"
      ]
     },
     "execution_count": 74,
     "metadata": {},
     "output_type": "execute_result"
    }
   ],
   "source": [
    "'Cr' in ref_mat.columns"
   ]
  },
  {
   "cell_type": "code",
   "execution_count": 15,
   "id": "b1ce67e5",
   "metadata": {},
   "outputs": [
    {
     "data": {
      "text/plain": [
       "0.720237034722825"
      ]
     },
     "execution_count": 15,
     "metadata": {},
     "output_type": "execute_result"
    }
   ],
   "source": [
    "ref_mat['C10N5O10P2'].corr(ref_mat['C10N5O13P3'])"
   ]
  },
  {
   "cell_type": "code",
   "execution_count": 7,
   "id": "c28f9bd9",
   "metadata": {},
   "outputs": [
    {
     "data": {
      "text/plain": [
       "-0.0031368368954884074"
      ]
     },
     "execution_count": 7,
     "metadata": {},
     "output_type": "execute_result"
    }
   ],
   "source": [
    "ref_mat['Cr'].corr(ref_mat['C10N5O10P2'])"
   ]
  },
  {
   "cell_type": "code",
   "execution_count": 8,
   "id": "cff70774",
   "metadata": {},
   "outputs": [
    {
     "name": "stdout",
     "output_type": "stream",
     "text": [
      "{'CreatineKinase': Index(['RHEA:11603', 'RHEA:12840', 'RHEA:23455', 'RHEA:24677', 'RHEA:29806',\n",
      "       'RHEA:29818', 'RHEA:32786', 'RHEA:38586', 'RHEA:44347', 'RHEA:45083',\n",
      "       'RHEA:59899', 'RHEA:66275'],\n",
      "      dtype='object')}\n",
      "{'CreatineKinase': {'RHEA:11603': 0.75, 'RHEA:12840': 0.6, 'RHEA:23455': 0.6, 'RHEA:24677': 0.6, 'RHEA:29806': 0.5, 'RHEA:29818': 0.5, 'RHEA:32786': 0.5, 'RHEA:38586': 0.5, 'RHEA:44347': 0.42857142857142855, 'RHEA:45083': 0.42857142857142855, 'RHEA:59899': 0.42857142857142855, 'RHEA:66275': 0.5}}\n"
     ]
    }
   ],
   "source": [
    "pred_reaction = reaction_an.predictAnnotation(inp_spec_dict=species_an.formula,\n",
    "                                              inp_reac_list=[one_rid])\n",
    "print(reaction_an.candidates)\n",
    "print(reaction_an.match_score)"
   ]
  },
  {
   "cell_type": "code",
   "execution_count": 9,
   "id": "ad0cc8e2",
   "metadata": {},
   "outputs": [
    {
     "data": {
      "text/plain": [
       "0.0"
      ]
     },
     "execution_count": 9,
     "metadata": {},
     "output_type": "execute_result"
    }
   ],
   "source": [
    "reaction_an.getAccuracy()"
   ]
  },
  {
   "cell_type": "code",
   "execution_count": 10,
   "id": "e5c6b4a4",
   "metadata": {},
   "outputs": [],
   "source": [
    "upd_species = {'Cr': 'Creatine',\n",
    "               'ADP': 'ADP',\n",
    "               'ATP': 'ATP',\n",
    "               'PCr': 'Phosphocreatine'}\n",
    "upd_spec_pred = species_an.predictAnnotationByName(specnames_dict=upd_species,\n",
    "                                                    update=True)"
   ]
  },
  {
   "cell_type": "code",
   "execution_count": 11,
   "id": "43fd4585",
   "metadata": {},
   "outputs": [
    {
     "data": {
      "text/plain": [
       "1.0"
      ]
     },
     "execution_count": 11,
     "metadata": {},
     "output_type": "execute_result"
    }
   ],
   "source": [
    "species_an.getAccuracy()"
   ]
  },
  {
   "cell_type": "code",
   "execution_count": 12,
   "id": "9b13aeff",
   "metadata": {},
   "outputs": [
    {
     "name": "stdout",
     "output_type": "stream",
     "text": [
      "{'CreatineKinase': Index(['RHEA:17160'], dtype='object')}\n",
      "{'CreatineKinase': {'RHEA:17160': 0.8}}\n"
     ]
    }
   ],
   "source": [
    "pred_reaction = reaction_an.predictAnnotation(inp_spec_dict=species_an.formula,\n",
    "                                              inp_reac_list=[one_rid])\n",
    "print(reaction_an.candidates)\n",
    "print(reaction_an.match_score)"
   ]
  },
  {
   "cell_type": "code",
   "execution_count": 13,
   "id": "6f5bceee",
   "metadata": {},
   "outputs": [
    {
     "data": {
      "text/plain": [
       "1.0"
      ]
     },
     "execution_count": 13,
     "metadata": {},
     "output_type": "execute_result"
    }
   ],
   "source": [
    "reaction_an.getAccuracy()"
   ]
  },
  {
   "cell_type": "code",
   "execution_count": 42,
   "id": "4e893650",
   "metadata": {},
   "outputs": [],
   "source": [
    "# Compared to the above, model is 691 (COPASI) is...\n",
    "biomd = 'BIOMD0000000691.xml'\n",
    "biomd_fpath = os.path.join(BIOMODEL_DIR, biomd)\n",
    "reader = libsbml.SBMLReader()\n",
    "document = reader.readSBML(biomd_fpath)\n",
    "model = document.getModel()"
   ]
  },
  {
   "cell_type": "code",
   "execution_count": 43,
   "id": "83462b54",
   "metadata": {},
   "outputs": [
    {
     "name": "stdout",
     "output_type": "stream",
     "text": [
      "['S1__Cell_1_', 'S1__Cell_2_', 'S2__Cell_1_', 'S2__Cell_2_', 'S3__Cell_1_', 'S3__Cell_2_', 'S4__Cell_1_', 'S4__Cell_2_', 'N2__Cell_1_', 'N2__Cell_2_', 'A3__Cell_1_', 'A3__Cell_2_', 'S4_ex', 'A', 'N', 'N1__Cell_1_', 'N1__Cell_2_', 'A2__Cell_1_', 'A2__Cell_2_']\n",
      "\n",
      "['S1', 'S1', 'S2', 'S2', 'S3', 'S3', 'S4', 'S4', 'N2', 'N2', 'A3', 'A3', 'S4_ex', 'A', 'N', 'N1', 'N1', 'A2', 'A2']\n"
     ]
    }
   ],
   "source": [
    "print([val.getId() for val in model.getListOfSpecies()])\n",
    "print()\n",
    "print([val.name for val in model.getListOfSpecies()])"
   ]
  },
  {
   "cell_type": "code",
   "execution_count": 51,
   "id": "6748e832",
   "metadata": {},
   "outputs": [],
   "source": [
    "orig_spec_pred = species_an.predictAnnotationByName(inp_spec_list=['S1__Cell_1_'])"
   ]
  },
  {
   "cell_type": "code",
   "execution_count": 53,
   "id": "d9e5773e",
   "metadata": {},
   "outputs": [
    {
     "data": {
      "text/plain": [
       "{'S1__Cell_1_': 0.5}"
      ]
     },
     "execution_count": 53,
     "metadata": {},
     "output_type": "execute_result"
    }
   ],
   "source": [
    "species_an.match_score"
   ]
  },
  {
   "cell_type": "code",
   "execution_count": 55,
   "id": "5b3c448b",
   "metadata": {},
   "outputs": [],
   "source": [
    "# feedback on species names? asking user to be more descriptive (asking for hints)? (system-user interaction/dialogue)"
   ]
  },
  {
   "cell_type": "markdown",
   "id": "7b888287",
   "metadata": {},
   "source": [
    "# 0. 'Matcher' class, adjust so that bqbio:is and bqbiol:isVersionOf can be both extracted\n",
    "# 1. Collect information of results of both species & reactions\n",
    "# 2. Update algorithm, identify suspicious names(cases) using multi-correlation and/or match score\n",
    "# 3. create reports/json output, begin to use GUI tool of python"
   ]
  },
  {
   "cell_type": "code",
   "execution_count": 25,
   "id": "a5dcd112",
   "metadata": {},
   "outputs": [],
   "source": [
    "import re"
   ]
  },
  {
   "cell_type": "code",
   "execution_count": 16,
   "id": "fe186671",
   "metadata": {},
   "outputs": [],
   "source": [
    "model = species_an.model"
   ]
  },
  {
   "cell_type": "code",
   "execution_count": 36,
   "id": "cb6fa9f5",
   "metadata": {},
   "outputs": [
    {
     "name": "stdout",
     "output_type": "stream",
     "text": [
      "[]\n",
      "['<bqbiol:isVersionOf>\\n        <rdf:Bag>\\n          <rdf:li rdf:resource=\"http://identifiers.org/ec-code/2.7.3.2\"/>\\n          <rdf:li rdf:resource=\"http://identifiers.org/kegg.reaction/R01881\"/>\\n          <rdf:li rdf:resource=\"http://identifiers.org/go/GO:0004111\"/>\\n        </rdf:Bag>\\n      </bqbiol:isVersionOf>']\n"
     ]
    }
   ],
   "source": [
    "string_annotation = model.getReaction('CreatineKinase').getAnnotationString()\n",
    "bqbiol_qualifiers = ['is', 'isVersionOf']\n",
    "\n",
    "for one_qualifier in bqbiol_qualifiers:\n",
    "  one_str = ''\n",
    "  one_str_match = re.findall('<bqbiol:'+one_qualifier+'[^a-zA-Z].*?<\\/bqbiol:' + one_qualifier + '>',\n",
    "                            string_annotation,\n",
    "                            flags=re.DOTALL)\n",
    "  print(one_str_match)"
   ]
  },
  {
   "cell_type": "code",
   "execution_count": null,
   "id": "a93e2f61",
   "metadata": {},
   "outputs": [],
   "source": []
  },
  {
   "cell_type": "code",
   "execution_count": 54,
   "id": "9ae52fc7",
   "metadata": {},
   "outputs": [],
   "source": [
    "def getOntologyFromString(string_annotation,\n",
    "                          bqbiol_qualifiers=['is', 'isVersionOf']):\n",
    "  \"\"\"\n",
    "  Parse string and return string annotation,\n",
    "  marked as <bqbiol:is> or <bqbiol:isVersionOf>.\n",
    "  If neither exists, return None.\n",
    "\n",
    "  Parameters\n",
    "  ----------\n",
    "  string_annotation: str\n",
    "  bqbiol_qualifiers: str-list\n",
    "      Use 'is' and 'isVersionOf' by default\n",
    "  \n",
    "\n",
    "  Returns\n",
    "  -------\n",
    "  list-tuple (ontology type, ontology id)\n",
    "       Return [] if none is provided\n",
    "  \"\"\"\n",
    "  combined_str = ''\n",
    "  for one_qualifier in bqbiol_qualifiers:\n",
    "    one_match = '<bqbiol:' + one_qualifier + \\\n",
    "                '[^a-zA-Z].*?<\\/bqbiol:' + \\\n",
    "                one_qualifier + '>'\n",
    "    one_matched = re.findall(one_match,\n",
    "                  string_annotation,\n",
    "                  flags=re.DOTALL)\n",
    "    if len(one_matched)>0:\n",
    "      matched_filt = [s.replace(\"      \", \"\") for s in one_matched]\n",
    "      one_str = '\\n'.join(matched_filt) \n",
    "    else:\n",
    "      one_str = ''\n",
    "    combined_str = combined_str + one_str\n",
    "  identifiers_list = re.findall('identifiers\\.org/.*/', combined_str)\n",
    "  result_identifiers = [(r.split('/')[1],r.split('/')[2].replace('\\\"', '')) \\\n",
    "                        for r in identifiers_list]\n",
    "  return result_identifiers"
   ]
  },
  {
   "cell_type": "code",
   "execution_count": 55,
   "id": "1f3e4c69",
   "metadata": {},
   "outputs": [
    {
     "data": {
      "text/plain": [
       "''"
      ]
     },
     "execution_count": 55,
     "metadata": {},
     "output_type": "execute_result"
    }
   ],
   "source": [
    "one_str"
   ]
  },
  {
   "cell_type": "code",
   "execution_count": 56,
   "id": "7de83782",
   "metadata": {},
   "outputs": [],
   "source": [
    "new_str_annotation = string_annotation\n",
    "new_str_annotation = new_str_annotation +   '<bqbiol:is>\\n        <rdf:Bag>\\n          ' + \\\n",
    "'<rdf:li rdf:resource=\"http://identifiers.org/ec-code/3.8.4.3\"/>\\n         ' + \\\n",
    "'<rdf:li rdf:resource=\"http://identifiers.org/kegg.reaction/R02992\"/>\\n' + \\\n",
    "'<rdf:li rdf:resource=\"http://identifiers.org/go/GO:0005222\"/>\\n        </rdf:Bag>\\n      </bqbiol:is>\\n '"
   ]
  },
  {
   "cell_type": "code",
   "execution_count": 57,
   "id": "11e2c0f8",
   "metadata": {},
   "outputs": [
    {
     "name": "stdout",
     "output_type": "stream",
     "text": [
      "<bqbiol:is>\n",
      "  <rdf:Bag>\n",
      "    <rdf:li rdf:resource=\"http://identifiers.org/ec-code/3.8.4.3\"/>\n",
      "   <rdf:li rdf:resource=\"http://identifiers.org/kegg.reaction/R02992\"/>\n",
      "<rdf:li rdf:resource=\"http://identifiers.org/go/GO:0005222\"/>\n",
      "  </rdf:Bag>\n",
      "</bqbiol:is>\n",
      "<bqbiol:isVersionOf>\n",
      "  <rdf:Bag>\n",
      "    <rdf:li rdf:resource=\"http://identifiers.org/ec-code/2.7.3.2\"/>\n",
      "    <rdf:li rdf:resource=\"http://identifiers.org/kegg.reaction/R01881\"/>\n",
      "    <rdf:li rdf:resource=\"http://identifiers.org/go/GO:0004111\"/>\n",
      "  </rdf:Bag>\n",
      "</bqbiol:isVersionOf>\n"
     ]
    },
    {
     "data": {
      "text/plain": [
       "[('ec-code', '3.8.4.3'),\n",
       " ('kegg.reaction', 'R02992'),\n",
       " ('go', 'GO:0005222'),\n",
       " ('ec-code', '2.7.3.2'),\n",
       " ('kegg.reaction', 'R01881'),\n",
       " ('go', 'GO:0004111')]"
      ]
     },
     "execution_count": 57,
     "metadata": {},
     "output_type": "execute_result"
    }
   ],
   "source": [
    "getOntologyFromString(new_str_annotation)"
   ]
  },
  {
   "cell_type": "code",
   "execution_count": null,
   "id": "abedef0b",
   "metadata": {},
   "outputs": [],
   "source": [
    "def getOntologyFromString(string_annotation, bqbiol_qualifiers=['is', 'isVersionOf']):\n",
    "  \"\"\"\n",
    "  Parse string and return string annotation,\n",
    "  marked as <bqbiol:is> or <bqbiol:isVersionOf>.\n",
    "  If neither exists, return None.\n",
    "\n",
    "  Parameters\n",
    "  ----------\n",
    "  str: string_annotation\n",
    "\n",
    "  Returns\n",
    "  -------\n",
    "  list-tuple (ontology type, ontology id)\n",
    "       Return [] if none is provided\n",
    "  \"\"\"\n",
    "  # first, extracts strings tagged as bqbiol:is or bqbiol:isVersionOf.\n",
    "  is_str = ''\n",
    "  isVersionOf_str = ''\n",
    "  is_str_match = re.findall('<bqbiol:is[^a-zA-Z].*?<\\/bqbiol:is>',\n",
    "                            string_annotation,\n",
    "                            flags=re.DOTALL)\n",
    "  if len(is_str_match)>0:\n",
    "    is_str_match_filt = [s.replace(\"      \", \"\") for s in is_str_match]\n",
    "    is_str = '\\n'.join(is_str_match_filt)  \n",
    "  #\n",
    "  is_VersionOf_str_match = re.findall('<bqbiol:isVersionOf[^a-zA-Z].*?<\\/bqbiol:isVersionOf>',\n",
    "                                      string_annotation,\n",
    "                                      flags=re.DOTALL)  \n",
    "  #\n",
    "  if len(is_VersionOf_str_match) > 0:\n",
    "    is_VersionOf_str_match_filt = [s.replace(\"      \", \"\") for s in is_VersionOf_str_match]\n",
    "    isVersionOf_str = '\\n'.join(is_VersionOf_str_match_filt) \n",
    "  #\n",
    "  combined_str = is_str + isVersionOf_str\n",
    "  if combined_str == '':\n",
    "    return []\n",
    "  identifiers_list = re.findall('identifiers\\.org/.*/', combined_str)\n",
    "  return [(r.split('/')[1],r.split('/')[2].replace('\\\"', '')) \\\n",
    "          for r in identifiers_list]"
   ]
  }
 ],
 "metadata": {
  "kernelspec": {
   "display_name": "pyo",
   "language": "python",
   "name": "pyo"
  },
  "language_info": {
   "codemirror_mode": {
    "name": "ipython",
    "version": 3
   },
   "file_extension": ".py",
   "mimetype": "text/x-python",
   "name": "python",
   "nbconvert_exporter": "python",
   "pygments_lexer": "ipython3",
   "version": "3.8.8"
  }
 },
 "nbformat": 4,
 "nbformat_minor": 5
}
