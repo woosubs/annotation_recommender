{
 "cells": [
  {
   "cell_type": "code",
   "execution_count": null,
   "id": "38268e7d",
   "metadata": {},
   "outputs": [],
   "source": [
    "# Manually update annotation and compare with original results\n",
    "# First, use Biomodels 248? "
   ]
  }
 ],
 "metadata": {
  "kernelspec": {
   "display_name": "pyo",
   "language": "python",
   "name": "pyo"
  },
  "language_info": {
   "codemirror_mode": {
    "name": "ipython",
    "version": 3
   },
   "file_extension": ".py",
   "mimetype": "text/x-python",
   "name": "python",
   "nbconvert_exporter": "python",
   "pygments_lexer": "ipython3",
   "version": "3.8.8"
  }
 },
 "nbformat": 4,
 "nbformat_minor": 5
}
