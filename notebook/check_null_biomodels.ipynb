{
 "cells": [
  {
   "cell_type": "code",
   "execution_count": 1,
   "id": "f45ddb85",
   "metadata": {},
   "outputs": [
    {
     "name": "stdout",
     "output_type": "stream",
     "text": [
      "(13651, 3790)\n"
     ]
    }
   ],
   "source": [
    "# Checking biomodels with reaction accuracy 0\n",
    "\n",
    "import libsbml\n",
    "import numpy as np\n",
    "import os\n",
    "import pandas as pd\n",
    "import pickle\n",
    "import sys\n",
    "\n",
    "PROJ_DIR = \"/Users/woosubs/Desktop/AutomateAnnotation/AnnotationRecommender/\"\n",
    "MOD_DIR = os.path.join(PROJ_DIR, \"annotation_recommender\")\n",
    "sys.path.append(MOD_DIR)\n",
    "\n",
    "BASE_DIR = '/Users/woosubs/Desktop/AutomateAnnotation/'\n",
    "DATA_DIR = os.path.join(BASE_DIR, \"DATA\")\n",
    "ALGO_DIR = os.path.join(DATA_DIR, \"algo\")\n",
    "CHEBI_DIR = os.path.join(DATA_DIR, \"chebi\")\n",
    "RHEA_DIR = os.path.join(DATA_DIR, \"rhea\")\n",
    "BIOMODEL_DIR = os.path.join(DATA_DIR, \"biomodels/curated_biomodels_31mar2021\")\n",
    "\n",
    "# load reference matrix\n",
    "with open(os.path.join(ALGO_DIR, 'binary_ref_df.pickle'), 'rb') as handle:\n",
    "    ref_mat = pickle.load(handle)\n",
    "# check its shape\n",
    "print(ref_mat.shape)\n",
    "\n",
    "with open(os.path.join(RHEA_DIR, 'rhea2formula_reference.pkl'), 'rb') as handle:\n",
    "    rhea2formula = pickle.load(handle)\n",
    "\n",
    "rhea_df = pd.read_csv(os.path.join(RHEA_DIR, 'rhea_string_equation.tsv'),\n",
    "                      sep='\\t', index_col=0)\n",
    "\n",
    "\n",
    "from annotation_recommender import species_annotation as sa\n",
    "from annotation_recommender import reaction_annotation as ra\n",
    "from annotation_recommender import constants as cn\n",
    "from annotation_recommender import iterator as it\n",
    "from annotation_recommender import tools"
   ]
  },
  {
   "cell_type": "code",
   "execution_count": 2,
   "id": "4ec634bb",
   "metadata": {},
   "outputs": [
    {
     "data": {
      "text/html": [
       "<div>\n",
       "<style scoped>\n",
       "    .dataframe tbody tr th:only-of-type {\n",
       "        vertical-align: middle;\n",
       "    }\n",
       "\n",
       "    .dataframe tbody tr th {\n",
       "        vertical-align: top;\n",
       "    }\n",
       "\n",
       "    .dataframe thead th {\n",
       "        text-align: right;\n",
       "    }\n",
       "</style>\n",
       "<table border=\"1\" class=\"dataframe\">\n",
       "  <thead>\n",
       "    <tr style=\"text-align: right;\">\n",
       "      <th></th>\n",
       "      <th>equation</th>\n",
       "    </tr>\n",
       "    <tr>\n",
       "      <th>id</th>\n",
       "      <th></th>\n",
       "    </tr>\n",
       "  </thead>\n",
       "  <tbody>\n",
       "    <tr>\n",
       "      <th>RHEA:10000</th>\n",
       "      <td>H2O + pentanamide = NH4(+) + pentanoate</td>\n",
       "    </tr>\n",
       "    <tr>\n",
       "      <th>RHEA:10004</th>\n",
       "      <td>benzyl isothiocyanate = benzyl thiocyanate</td>\n",
       "    </tr>\n",
       "    <tr>\n",
       "      <th>RHEA:10008</th>\n",
       "      <td>[protein]-dithiol + a hydroperoxide = [protein...</td>\n",
       "    </tr>\n",
       "    <tr>\n",
       "      <th>RHEA:10012</th>\n",
       "      <td>(R)-6-hydroxynicotine + H2O + O2 = 6-hydroxyps...</td>\n",
       "    </tr>\n",
       "    <tr>\n",
       "      <th>RHEA:10016</th>\n",
       "      <td>H2O + O-sinapoylcholine = choline + E-sinapate...</td>\n",
       "    </tr>\n",
       "  </tbody>\n",
       "</table>\n",
       "</div>"
      ],
      "text/plain": [
       "                                                     equation\n",
       "id                                                           \n",
       "RHEA:10000            H2O + pentanamide = NH4(+) + pentanoate\n",
       "RHEA:10004         benzyl isothiocyanate = benzyl thiocyanate\n",
       "RHEA:10008  [protein]-dithiol + a hydroperoxide = [protein...\n",
       "RHEA:10012  (R)-6-hydroxynicotine + H2O + O2 = 6-hydroxyps...\n",
       "RHEA:10016  H2O + O-sinapoylcholine = choline + E-sinapate..."
      ]
     },
     "execution_count": 2,
     "metadata": {},
     "output_type": "execute_result"
    }
   ],
   "source": [
    "rhea_df.head()"
   ]
  },
  {
   "cell_type": "code",
   "execution_count": 3,
   "id": "f209e932",
   "metadata": {},
   "outputs": [
    {
     "data": {
      "text/html": [
       "<div>\n",
       "<style scoped>\n",
       "    .dataframe tbody tr th:only-of-type {\n",
       "        vertical-align: middle;\n",
       "    }\n",
       "\n",
       "    .dataframe tbody tr th {\n",
       "        vertical-align: top;\n",
       "    }\n",
       "\n",
       "    .dataframe thead th {\n",
       "        text-align: right;\n",
       "    }\n",
       "</style>\n",
       "<table border=\"1\" class=\"dataframe\">\n",
       "  <thead>\n",
       "    <tr style=\"text-align: right;\">\n",
       "      <th></th>\n",
       "      <th>spec_accuracy</th>\n",
       "      <th>reac_accuracy</th>\n",
       "      <th>iter_num</th>\n",
       "      <th>species_match_score</th>\n",
       "      <th>reaction_match_score</th>\n",
       "      <th>num_species</th>\n",
       "      <th>num_eval_species</th>\n",
       "      <th>num_reactions</th>\n",
       "      <th>num_eval_reactions</th>\n",
       "      <th>total_match_score</th>\n",
       "    </tr>\n",
       "  </thead>\n",
       "  <tbody>\n",
       "    <tr>\n",
       "      <th>BIOMD0000000691.xml</th>\n",
       "      <td>0.000000</td>\n",
       "      <td>0.0</td>\n",
       "      <td>2</td>\n",
       "      <td>0.768421</td>\n",
       "      <td>0.473545</td>\n",
       "      <td>19</td>\n",
       "      <td>12</td>\n",
       "      <td>18</td>\n",
       "      <td>6</td>\n",
       "      <td>8.523810</td>\n",
       "    </tr>\n",
       "    <tr>\n",
       "      <th>BIOMD0000000094.xml</th>\n",
       "      <td>0.000000</td>\n",
       "      <td>0.0</td>\n",
       "      <td>2</td>\n",
       "      <td>0.487289</td>\n",
       "      <td>0.702063</td>\n",
       "      <td>34</td>\n",
       "      <td>2</td>\n",
       "      <td>45</td>\n",
       "      <td>2</td>\n",
       "      <td>31.592857</td>\n",
       "    </tr>\n",
       "    <tr>\n",
       "      <th>BIOMD0000000171.xml</th>\n",
       "      <td>0.000000</td>\n",
       "      <td>0.0</td>\n",
       "      <td>2</td>\n",
       "      <td>0.613315</td>\n",
       "      <td>0.493132</td>\n",
       "      <td>12</td>\n",
       "      <td>2</td>\n",
       "      <td>26</td>\n",
       "      <td>4</td>\n",
       "      <td>12.821429</td>\n",
       "    </tr>\n",
       "    <tr>\n",
       "      <th>BIOMD0000000248.xml</th>\n",
       "      <td>0.285714</td>\n",
       "      <td>0.0</td>\n",
       "      <td>2</td>\n",
       "      <td>0.785185</td>\n",
       "      <td>0.883333</td>\n",
       "      <td>9</td>\n",
       "      <td>7</td>\n",
       "      <td>5</td>\n",
       "      <td>1</td>\n",
       "      <td>4.416667</td>\n",
       "    </tr>\n",
       "    <tr>\n",
       "      <th>BIOMD0000000088.xml</th>\n",
       "      <td>0.294118</td>\n",
       "      <td>0.0</td>\n",
       "      <td>2</td>\n",
       "      <td>0.484809</td>\n",
       "      <td>0.751861</td>\n",
       "      <td>105</td>\n",
       "      <td>17</td>\n",
       "      <td>110</td>\n",
       "      <td>18</td>\n",
       "      <td>82.704762</td>\n",
       "    </tr>\n",
       "    <tr>\n",
       "      <th>BIOMD0000000108.xml</th>\n",
       "      <td>0.600000</td>\n",
       "      <td>0.0</td>\n",
       "      <td>1</td>\n",
       "      <td>0.704125</td>\n",
       "      <td>0.649020</td>\n",
       "      <td>9</td>\n",
       "      <td>5</td>\n",
       "      <td>17</td>\n",
       "      <td>1</td>\n",
       "      <td>11.033333</td>\n",
       "    </tr>\n",
       "    <tr>\n",
       "      <th>BIOMD0000000137.xml</th>\n",
       "      <td>0.666667</td>\n",
       "      <td>0.0</td>\n",
       "      <td>1</td>\n",
       "      <td>0.511878</td>\n",
       "      <td>0.281667</td>\n",
       "      <td>21</td>\n",
       "      <td>3</td>\n",
       "      <td>20</td>\n",
       "      <td>1</td>\n",
       "      <td>5.633333</td>\n",
       "    </tr>\n",
       "    <tr>\n",
       "      <th>BIOMD0000000038.xml</th>\n",
       "      <td>0.750000</td>\n",
       "      <td>0.0</td>\n",
       "      <td>2</td>\n",
       "      <td>0.683613</td>\n",
       "      <td>0.681429</td>\n",
       "      <td>17</td>\n",
       "      <td>4</td>\n",
       "      <td>10</td>\n",
       "      <td>2</td>\n",
       "      <td>6.814286</td>\n",
       "    </tr>\n",
       "    <tr>\n",
       "      <th>BIOMD0000000143.xml</th>\n",
       "      <td>0.875000</td>\n",
       "      <td>0.0</td>\n",
       "      <td>1</td>\n",
       "      <td>0.916506</td>\n",
       "      <td>0.745833</td>\n",
       "      <td>20</td>\n",
       "      <td>16</td>\n",
       "      <td>20</td>\n",
       "      <td>3</td>\n",
       "      <td>14.916667</td>\n",
       "    </tr>\n",
       "    <tr>\n",
       "      <th>BIOMD0000000292.xml</th>\n",
       "      <td>1.000000</td>\n",
       "      <td>0.0</td>\n",
       "      <td>1</td>\n",
       "      <td>0.736111</td>\n",
       "      <td>0.854167</td>\n",
       "      <td>6</td>\n",
       "      <td>4</td>\n",
       "      <td>4</td>\n",
       "      <td>1</td>\n",
       "      <td>3.416667</td>\n",
       "    </tr>\n",
       "    <tr>\n",
       "      <th>BIOMD0000000123.xml</th>\n",
       "      <td>1.000000</td>\n",
       "      <td>0.0</td>\n",
       "      <td>1</td>\n",
       "      <td>0.494559</td>\n",
       "      <td>0.573529</td>\n",
       "      <td>14</td>\n",
       "      <td>2</td>\n",
       "      <td>17</td>\n",
       "      <td>1</td>\n",
       "      <td>9.750000</td>\n",
       "    </tr>\n",
       "    <tr>\n",
       "      <th>BIOMD0000000122.xml</th>\n",
       "      <td>1.000000</td>\n",
       "      <td>0.0</td>\n",
       "      <td>1</td>\n",
       "      <td>0.494559</td>\n",
       "      <td>0.573529</td>\n",
       "      <td>14</td>\n",
       "      <td>2</td>\n",
       "      <td>17</td>\n",
       "      <td>1</td>\n",
       "      <td>9.750000</td>\n",
       "    </tr>\n",
       "  </tbody>\n",
       "</table>\n",
       "</div>"
      ],
      "text/plain": [
       "                     spec_accuracy  reac_accuracy  iter_num  \\\n",
       "BIOMD0000000691.xml       0.000000            0.0         2   \n",
       "BIOMD0000000094.xml       0.000000            0.0         2   \n",
       "BIOMD0000000171.xml       0.000000            0.0         2   \n",
       "BIOMD0000000248.xml       0.285714            0.0         2   \n",
       "BIOMD0000000088.xml       0.294118            0.0         2   \n",
       "BIOMD0000000108.xml       0.600000            0.0         1   \n",
       "BIOMD0000000137.xml       0.666667            0.0         1   \n",
       "BIOMD0000000038.xml       0.750000            0.0         2   \n",
       "BIOMD0000000143.xml       0.875000            0.0         1   \n",
       "BIOMD0000000292.xml       1.000000            0.0         1   \n",
       "BIOMD0000000123.xml       1.000000            0.0         1   \n",
       "BIOMD0000000122.xml       1.000000            0.0         1   \n",
       "\n",
       "                     species_match_score  reaction_match_score  num_species  \\\n",
       "BIOMD0000000691.xml             0.768421              0.473545           19   \n",
       "BIOMD0000000094.xml             0.487289              0.702063           34   \n",
       "BIOMD0000000171.xml             0.613315              0.493132           12   \n",
       "BIOMD0000000248.xml             0.785185              0.883333            9   \n",
       "BIOMD0000000088.xml             0.484809              0.751861          105   \n",
       "BIOMD0000000108.xml             0.704125              0.649020            9   \n",
       "BIOMD0000000137.xml             0.511878              0.281667           21   \n",
       "BIOMD0000000038.xml             0.683613              0.681429           17   \n",
       "BIOMD0000000143.xml             0.916506              0.745833           20   \n",
       "BIOMD0000000292.xml             0.736111              0.854167            6   \n",
       "BIOMD0000000123.xml             0.494559              0.573529           14   \n",
       "BIOMD0000000122.xml             0.494559              0.573529           14   \n",
       "\n",
       "                     num_eval_species  num_reactions  num_eval_reactions  \\\n",
       "BIOMD0000000691.xml                12             18                   6   \n",
       "BIOMD0000000094.xml                 2             45                   2   \n",
       "BIOMD0000000171.xml                 2             26                   4   \n",
       "BIOMD0000000248.xml                 7              5                   1   \n",
       "BIOMD0000000088.xml                17            110                  18   \n",
       "BIOMD0000000108.xml                 5             17                   1   \n",
       "BIOMD0000000137.xml                 3             20                   1   \n",
       "BIOMD0000000038.xml                 4             10                   2   \n",
       "BIOMD0000000143.xml                16             20                   3   \n",
       "BIOMD0000000292.xml                 4              4                   1   \n",
       "BIOMD0000000123.xml                 2             17                   1   \n",
       "BIOMD0000000122.xml                 2             17                   1   \n",
       "\n",
       "                     total_match_score  \n",
       "BIOMD0000000691.xml           8.523810  \n",
       "BIOMD0000000094.xml          31.592857  \n",
       "BIOMD0000000171.xml          12.821429  \n",
       "BIOMD0000000248.xml           4.416667  \n",
       "BIOMD0000000088.xml          82.704762  \n",
       "BIOMD0000000108.xml          11.033333  \n",
       "BIOMD0000000137.xml           5.633333  \n",
       "BIOMD0000000038.xml           6.814286  \n",
       "BIOMD0000000143.xml          14.916667  \n",
       "BIOMD0000000292.xml           3.416667  \n",
       "BIOMD0000000123.xml           9.750000  \n",
       "BIOMD0000000122.xml           9.750000  "
      ]
     },
     "execution_count": 3,
     "metadata": {},
     "output_type": "execute_result"
    }
   ],
   "source": [
    "null_df = pd.read_csv(\"null_res.csv\", index_col=0)\n",
    "null_df"
   ]
  },
  {
   "cell_type": "code",
   "execution_count": 4,
   "id": "794c4cfc",
   "metadata": {},
   "outputs": [
    {
     "name": "stdout",
     "output_type": "stream",
     "text": [
      "BIOMD0000000691.xml\n",
      "BIOMD0000000094.xml\n",
      "BIOMD0000000171.xml\n",
      "BIOMD0000000248.xml\n",
      "BIOMD0000000088.xml\n",
      "BIOMD0000000108.xml\n",
      "BIOMD0000000137.xml\n",
      "BIOMD0000000038.xml\n",
      "BIOMD0000000143.xml\n",
      "BIOMD0000000292.xml\n",
      "BIOMD0000000123.xml\n",
      "BIOMD0000000122.xml\n"
     ]
    }
   ],
   "source": [
    "null_models = list(null_df.index)\n",
    "for one_biomd in null_models:\n",
    "  print(one_biomd)"
   ]
  },
  {
   "cell_type": "code",
   "execution_count": 5,
   "id": "483f898b",
   "metadata": {},
   "outputs": [
    {
     "name": "stdout",
     "output_type": "stream",
     "text": [
      "6\n",
      "4\n"
     ]
    }
   ],
   "source": [
    "# BIOMD94 and (especially) BIOMD88: need to be careful.. large models.\n",
    "\n",
    "one_biomd = 'BIOMD0000000292.xml'\n",
    "one_biomd_fpath = os.path.join(BIOMODEL_DIR, one_biomd)\n",
    "species_an = sa.SpeciesAnnotation(libsbml_fpath=one_biomd_fpath)\n",
    "reaction_an = ra.ReactionAnnotation(libsbml_fpath=one_biomd_fpath)\n",
    "\n",
    "model = species_an.model\n",
    "print(model.getNumSpecies())\n",
    "print(model.getNumReactions())\n",
    "pred_species = species_an.predictAnnotationByName()\n",
    "pred_reaction = reaction_an.predictAnnotation(inp_spec_dict=species_an.formula)\n",
    "res = it.iterateAndGetUpdatedResults(spec_cl=species_an,\n",
    "                                   reac_cl=reaction_an,\n",
    "                                   num_iter=5,\n",
    "                                   show_message=False)"
   ]
  },
  {
   "cell_type": "code",
   "execution_count": 6,
   "id": "89c63f0e",
   "metadata": {},
   "outputs": [
    {
     "name": "stdout",
     "output_type": "stream",
     "text": [
      "{'NADPH': ['C21N7O17P3'], 'ADP': ['C10N5O10P2'], 'ATP': ['C10N5O13P3'], 'NADP': ['C21N7O17P3']}\n"
     ]
    }
   ],
   "source": [
    "print(species_an.exist_annotation)"
   ]
  },
  {
   "cell_type": "code",
   "execution_count": 7,
   "id": "298d3ecc",
   "metadata": {},
   "outputs": [
    {
     "name": "stdout",
     "output_type": "stream",
     "text": [
      "{'NADPH': 1.0, 'ADP': 1.0, 'ATP': 1.0, 'X': 0.0, 'Y': 1.0, 'NADP': 0.41666666666666663}\n"
     ]
    }
   ],
   "source": [
    "print(species_an.match_score)"
   ]
  },
  {
   "cell_type": "code",
   "execution_count": 8,
   "id": "8e613654",
   "metadata": {},
   "outputs": [
    {
     "name": "stdout",
     "output_type": "stream",
     "text": [
      "{'v4': Index(['RHEA:18412', 'RHEA:18504', 'RHEA:20676', 'RHEA:33450', 'RHEA:33466',\n",
      "       'RHEA:33470', 'RHEA:34014', 'RHEA:34018', 'RHEA:36382', 'RHEA:46831',\n",
      "       'RHEA:46835', 'RHEA:54419', 'RHEA:60099'],\n",
      "      dtype='object'), 'v3': Index(['RHEA:10155', 'RHEA:10195', 'RHEA:10219', 'RHEA:10227', 'RHEA:10263',\n",
      "       'RHEA:10275', 'RHEA:10279', 'RHEA:10351', 'RHEA:10379', 'RHEA:10491',\n",
      "       ...\n",
      "       'RHEA:66771', 'RHEA:66775', 'RHEA:66779', 'RHEA:66823', 'RHEA:67031',\n",
      "       'RHEA:67083', 'RHEA:67087', 'RHEA:67091', 'RHEA:67095', 'RHEA:67139'],\n",
      "      dtype='object', length=727), 'v2': Index(['RHEA:12231', 'RHEA:61595'], dtype='object'), 'v1': Index(['RHEA:12231', 'RHEA:61595'], dtype='object')}\n"
     ]
    }
   ],
   "source": [
    "print(reaction_an.candidates)"
   ]
  },
  {
   "cell_type": "code",
   "execution_count": 12,
   "id": "b6989c95",
   "metadata": {},
   "outputs": [
    {
     "name": "stdout",
     "output_type": "stream",
     "text": [
      "{'RHEA:12231': 0.7777777777777778, 'RHEA:61595': 0.875}\n"
     ]
    }
   ],
   "source": [
    "print(reaction_an.match_score['v1'])"
   ]
  },
  {
   "cell_type": "code",
   "execution_count": 11,
   "id": "b7755149",
   "metadata": {},
   "outputs": [
    {
     "name": "stdout",
     "output_type": "stream",
     "text": [
      "{'v1': ['RHEA:19368']}\n"
     ]
    }
   ],
   "source": [
    "print(reaction_an.exist_annotation)"
   ]
  },
  {
   "cell_type": "code",
   "execution_count": 120,
   "id": "da3d52b8",
   "metadata": {},
   "outputs": [
    {
     "name": "stdout",
     "output_type": "stream",
     "text": [
      "['2.0*O2minus_p', '2.0*H_p']\n",
      "['O2minus_p (Superoxide)', 'H_p (Hydrogen)']\n",
      "['1.0*O2_p', '1.0*H2O2_p']\n",
      "['O2_p (Oxygen)', 'H2O2_p (H2O2)']\n"
     ]
    }
   ],
   "source": [
    "one_r = model.getReaction('R5')\n",
    "print([str(val.stoichiometry)+\"*\"+val.species for val in one_r.getListOfReactants()])\n",
    "print([\"%s (%s)\" % (val.species, model.getSpecies(val.species).name) for val in one_r.getListOfReactants()])\n",
    "print([str(val.stoichiometry)+\"*\"+val.species for val in one_r.getListOfProducts()])\n",
    "print([\"%s (%s)\" % (val.species, model.getSpecies(val.species).name) for val in one_r.getListOfProducts()])"
   ]
  },
  {
   "cell_type": "code",
   "execution_count": 130,
   "id": "4f1d164f",
   "metadata": {},
   "outputs": [
    {
     "data": {
      "text/plain": [
       "3"
      ]
     },
     "execution_count": 130,
     "metadata": {},
     "output_type": "execute_result"
    }
   ],
   "source": [
    "np.sum(reaction_an.query_df['R5'])"
   ]
  },
  {
   "cell_type": "code",
   "execution_count": 112,
   "id": "cf8a38b8",
   "metadata": {},
   "outputs": [
    {
     "name": "stdout",
     "output_type": "stream",
     "text": [
      "<annotation>\n",
      "  <rdf:RDF xmlns:rdf=\"http://www.w3.org/1999/02/22-rdf-syntax-ns#\" xmlns:bqmodel=\"http://biomodels.net/model-qualifiers/\" xmlns:bqbiol=\"http://biomodels.net/biology-qualifiers/\">\n",
      "    <rdf:Description rdf:about=\"#metaid_0000057\">\n",
      "      <bqbiol:isVersionOf>\n",
      "        <rdf:Bag>\n",
      "          <rdf:li rdf:resource=\"http://identifiers.org/ec-code/1.15.1.1\"/>\n",
      "        </rdf:Bag>\n",
      "      </bqbiol:isVersionOf>\n",
      "      <bqbiol:is>\n",
      "        <rdf:Bag>\n",
      "          <rdf:li rdf:resource=\"http://identifiers.org/kegg.reaction/R00275\"/>\n",
      "        </rdf:Bag>\n",
      "      </bqbiol:is>\n",
      "    </rdf:Description>\n",
      "  </rdf:RDF>\n",
      "</annotation>\n"
     ]
    }
   ],
   "source": [
    "print(model.getReaction('R5').getAnnotationString())"
   ]
  },
  {
   "cell_type": "code",
   "execution_count": 114,
   "id": "b70bec71",
   "metadata": {},
   "outputs": [
    {
     "data": {
      "text/plain": [
       "'Hydrogen'"
      ]
     },
     "execution_count": 114,
     "metadata": {},
     "output_type": "execute_result"
    }
   ],
   "source": [
    "model.getSpecies('H_p').name"
   ]
  },
  {
   "cell_type": "code",
   "execution_count": 105,
   "id": "570ddf58",
   "metadata": {},
   "outputs": [
    {
     "name": "stdout",
     "output_type": "stream",
     "text": [
      "<annotation>\n",
      "  <celldesigner:extension>\n",
      "    <celldesigner:positionToCompartment>inside</celldesigner:positionToCompartment>\n",
      "    <celldesigner:speciesIdentity>\n",
      "      <celldesigner:class>SIMPLE_MOLECULE</celldesigner:class>\n",
      "      <celldesigner:name>X</celldesigner:name>\n",
      "    </celldesigner:speciesIdentity>\n",
      "  </celldesigner:extension>\n",
      "  <rdf:RDF xmlns:rdf=\"http://www.w3.org/1999/02/22-rdf-syntax-ns#\" xmlns:bqbiol=\"http://biomodels.net/biology-qualifiers/\">\n",
      "    <rdf:Description rdf:about=\"#X\">\n",
      "      <bqbiol:hasPart>\n",
      "        <rdf:Bag>\n",
      "          <rdf:li rdf:resource=\"http://identifiers.org/chebi/CHEBI:16108\"/>\n",
      "          <rdf:li rdf:resource=\"http://identifiers.org/chebi/CHEBI:17797\"/>\n",
      "          <rdf:li rdf:resource=\"http://identifiers.org/chebi/CHEBI:17363\"/>\n",
      "          <rdf:li rdf:resource=\"http://identifiers.org/chebi/CHEBI:16905\"/>\n",
      "          <rdf:li rdf:resource=\"http://identifiers.org/chebi/CHEBI:15946\"/>\n",
      "          <rdf:li rdf:resource=\"http://identifiers.org/chebi/CHEBI:48153\"/>\n",
      "          <rdf:li rdf:resource=\"http://identifiers.org/chebi/CHEBI:17969\"/>\n",
      "          <rdf:li rdf:resource=\"http://identifiers.org/chebi/CHEBI:15721\"/>\n",
      "          <rdf:li rdf:resource=\"http://identifiers.org/chebi/CHEBI:29052\"/>\n",
      "        </rdf:Bag>\n",
      "      </bqbiol:hasPart>\n",
      "      <bqbiol:hasPart>\n",
      "        <rdf:Bag>\n",
      "          <rdf:li rdf:resource=\"http://identifiers.org/kegg.compound/C00111\"/>\n",
      "          <rdf:li rdf:resource=\"http://identifiers.org/kegg.compound/C00117\"/>\n",
      "          <rdf:li rdf:resource=\"http://identifiers.org/kegg.compound/C00199\"/>\n",
      "          <rdf:li rdf:resource=\"http://identifiers.org/kegg.compound/C05382\"/>\n",
      "          <rdf:li rdf:resource=\"http://identifiers.org/kegg.compound/C00447\"/>\n",
      "          <rdf:li rdf:resource=\"http://identifiers.org/kegg.compound/C00279\"/>\n",
      "          <rdf:li rdf:resource=\"http://identifiers.org/kegg.compound/C00085\"/>\n",
      "          <rdf:li rdf:resource=\"http://identifiers.org/kegg.compound/C00354\"/>\n",
      "          <rdf:li rdf:resource=\"http://identifiers.org/kegg.compound/C00118\"/>\n",
      "        </rdf:Bag>\n",
      "      </bqbiol:hasPart>\n",
      "    </rdf:Description>\n",
      "  </rdf:RDF>\n",
      "</annotation>\n"
     ]
    }
   ],
   "source": [
    "print(model.getSpecies('X').getAnnotationString())"
   ]
  },
  {
   "cell_type": "code",
   "execution_count": 59,
   "id": "d99fde54",
   "metadata": {},
   "outputs": [
    {
     "data": {
      "text/plain": [
       "{'NADPH': 'NADPH', 'ADP': 'ADP', 'ATP': 'ATP', 'NADP': 'NADP_super_+'}"
      ]
     },
     "execution_count": 59,
     "metadata": {},
     "output_type": "execute_result"
    }
   ],
   "source": [
    "{model.getSpecies(k).getId():model.getSpecies(k).name for k in species_an.exist_annotation.keys()}"
   ]
  },
  {
   "cell_type": "code",
   "execution_count": 60,
   "id": "132158e5",
   "metadata": {},
   "outputs": [
    {
     "data": {
      "text/plain": [
       "{'NADPH': 'NADPH',\n",
       " 'ADP': 'ADP',\n",
       " 'ATP': 'ATP',\n",
       " 'X': 'X',\n",
       " 'Y': 'Y',\n",
       " 'NADP': 'NADP_super_+'}"
      ]
     },
     "execution_count": 60,
     "metadata": {},
     "output_type": "execute_result"
    }
   ],
   "source": [
    "{k.getId():k.name for k in model.getListOfSpecies()}"
   ]
  },
  {
   "cell_type": "code",
   "execution_count": null,
   "id": "bb8a68d3",
   "metadata": {},
   "outputs": [],
   "source": []
  }
 ],
 "metadata": {
  "kernelspec": {
   "display_name": "pyo",
   "language": "python",
   "name": "pyo"
  },
  "language_info": {
   "codemirror_mode": {
    "name": "ipython",
    "version": 3
   },
   "file_extension": ".py",
   "mimetype": "text/x-python",
   "name": "python",
   "nbconvert_exporter": "python",
   "pygments_lexer": "ipython3",
   "version": "3.8.8"
  }
 },
 "nbformat": 4,
 "nbformat_minor": 5
}
