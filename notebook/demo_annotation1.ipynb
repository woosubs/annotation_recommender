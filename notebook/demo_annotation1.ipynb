{
 "cells": [
  {
   "cell_type": "code",
   "execution_count": 1,
   "id": "22027bc7",
   "metadata": {},
   "outputs": [],
   "source": [
    "# Demo1\n",
    "\n",
    "import os\n",
    "import sys\n",
    "\n",
    "PROJ_DIR = \"/Users/woosubs/Desktop/AutomateAnnotation/AnnotationRecommender/\"\n",
    "MOD_DIR = os.path.join(PROJ_DIR, \"annotation_recommender\")\n",
    "sys.path.append(MOD_DIR)\n",
    "BASE_DIR = '/Users/woosubs/Desktop/AutomateAnnotation/'\n",
    "DATA_DIR = os.path.join(BASE_DIR, \"DATA\")\n",
    "BIOMODEL_DIR = os.path.join(DATA_DIR, \"biomodels/curated_biomodels_31mar2021\")\n",
    "BIGG_DIR = '/Users/woosubs/Desktop/AutomateAnnotation/DATA/bigg'\n",
    "ecoli_fpath = os.path.join(BIGG_DIR, \"e_coli_core.xml\")\n",
    "\n",
    "from annotation_recommender import species_annotation as sa\n",
    "from annotation_recommender import reaction_annotation as ra\n",
    "from annotation_recommender import constants as cn\n",
    "from annotation_recommender import iterator as it\n",
    "from annotation_recommender import tools"
   ]
  },
  {
   "cell_type": "code",
   "execution_count": 2,
   "id": "d2136bb5",
   "metadata": {},
   "outputs": [],
   "source": [
    "# Create SpeciesAnnotation & ReactionAnnotation class instances\n",
    "species_an = sa.SpeciesAnnotation(libsbml_fpath=ecoli_fpath)\n",
    "reaction_an = ra.ReactionAnnotation(libsbml_fpath=ecoli_fpath)"
   ]
  },
  {
   "cell_type": "code",
   "execution_count": 3,
   "id": "17174c3b",
   "metadata": {},
   "outputs": [
    {
     "name": "stdout",
     "output_type": "stream",
     "text": [
      "Species associated with reaction R_PFK: ['M_fdp_c', 'M_adp_c', 'M_atp_c', 'M_f6p_c', 'M_h_c']\n"
     ]
    }
   ],
   "source": [
    "# Identify species IDs to predict\n",
    "one_rid = 'R_PFK'\n",
    "comps = reaction_an.getReactionComponents(one_rid)\n",
    "print(\"Species associated with reaction %s:\" % one_rid, comps)"
   ]
  },
  {
   "cell_type": "code",
   "execution_count": 4,
   "id": "5eed6aef",
   "metadata": {},
   "outputs": [
    {
     "name": "stdout",
     "output_type": "stream",
     "text": [
      "{'M_fdp_c': 1.0, 'M_adp_c': 0.3529411764705882, 'M_atp_c': 0.4117647058823529, 'M_f6p_c': 1.0, 'M_h_c': 1.0}\n"
     ]
    }
   ],
   "source": [
    "# Predict species annotations...\n",
    "pred_species = species_an.predictAnnotationByName(inp_spec_list=comps)\n",
    "# for one_spec in species_an.candidates.keys():\n",
    "#   print(\"Predicted annotation of %s ->\" % one_spec, species_an.candidates[one_spec])\n",
    "print(species_an.match_score)"
   ]
  },
  {
   "cell_type": "code",
   "execution_count": 5,
   "id": "34870faf",
   "metadata": {},
   "outputs": [
    {
     "name": "stdout",
     "output_type": "stream",
     "text": [
      "{'R_PFK': Index(['RHEA:12423', 'RHEA:13380', 'RHEA:14216', 'RHEA:15656', 'RHEA:16112',\n",
      "       'RHEA:20108'],\n",
      "      dtype='object')}\n",
      "{'R_PFK': {'RHEA:12423': 0.8, 'RHEA:13380': 0.8, 'RHEA:14216': 0.8, 'RHEA:15656': 0.8, 'RHEA:16112': 0.8, 'RHEA:20108': 0.8}}\n"
     ]
    }
   ],
   "source": [
    "# Predict reaction annotations...\n",
    "pred_reaction = reaction_an.predictAnnotation(inp_spec_dict=species_an.formula,\n",
    "                                              inp_reac_list=[one_rid])\n",
    "print(reaction_an.candidates)\n",
    "print(reaction_an.match_score)"
   ]
  },
  {
   "cell_type": "code",
   "execution_count": 6,
   "id": "63b747a0",
   "metadata": {},
   "outputs": [
    {
     "name": "stdout",
     "output_type": "stream",
     "text": [
      "Species Accuracy: 0.80\n",
      "Reaction Accuracy: 1.00\n"
     ]
    }
   ],
   "source": [
    "print(\"Species Accuracy: %.02f\" % species_an.getAccuracy())\n",
    "print(\"Reaction Accuracy: %.02f\" % reaction_an.getAccuracy())"
   ]
  },
  {
   "cell_type": "code",
   "execution_count": 7,
   "id": "7720dc5c",
   "metadata": {},
   "outputs": [
    {
     "name": "stdout",
     "output_type": "stream",
     "text": [
      "{'R_PFK': Index(['RHEA:12423', 'RHEA:13380', 'RHEA:14216', 'RHEA:15656', 'RHEA:16112'], dtype='object')}\n",
      "{'R_PFK': {'RHEA:12423': 1.0, 'RHEA:13380': 1.0, 'RHEA:14216': 1.0, 'RHEA:15656': 1.0, 'RHEA:16112': 1.0}}\n"
     ]
    }
   ],
   "source": [
    "# Update and predict reaction annotations again\n",
    "chebi2update = reaction_an.updateSpeciesByAReaction(inp_rid=one_rid, inp_spec_dict=species_an.formula,\n",
    "                                                    inp_rhea='RHEA:12423')\n",
    "formula2update = {one_k:[ra.ref_shortened_chebi_to_formula[val] for val in chebi2update[one_k]] \\\n",
    "                  for one_k in chebi2update.keys()}\n",
    "species_an.candidates.update(chebi2update)\n",
    "species_an.formula.update(formula2update)\n",
    "new_pred_annotations = reaction_an.predictAnnotation(inp_spec_dict=species_an.formula,\n",
    "                                                     inp_reac_list=[one_rid])\n",
    "print(reaction_an.candidates)\n",
    "print(reaction_an.match_score)"
   ]
  },
  {
   "cell_type": "code",
   "execution_count": 8,
   "id": "ae90592a",
   "metadata": {},
   "outputs": [
    {
     "name": "stdout",
     "output_type": "stream",
     "text": [
      "Species Accuracy: 1.00\n",
      "Reaction Accuracy: 1.00\n"
     ]
    }
   ],
   "source": [
    "print(\"Species Accuracy: %.02f\" % species_an.getAccuracy())\n",
    "print(\"Reaction Accuracy: %.02f\" % reaction_an.getAccuracy())"
   ]
  },
  {
   "cell_type": "code",
   "execution_count": 9,
   "id": "2ef3d553",
   "metadata": {},
   "outputs": [
    {
     "data": {
      "text/plain": [
       "{'a': {'match_score': 1.0,\n",
       "  'chebi': ['CHEBI:16919', 'CHEBI:57947'],\n",
       "  'formula': ['C4N3O2']}}"
      ]
     },
     "execution_count": 9,
     "metadata": {},
     "output_type": "execute_result"
    }
   ],
   "source": [
    "species_an.predictAnnotationByName(inp_spec_list=None,\n",
    "                                   specnames_dict={'a': 'Creatine'},\n",
    "                                   update=False)"
   ]
  },
  {
   "cell_type": "code",
   "execution_count": null,
   "id": "cf59de71",
   "metadata": {},
   "outputs": [],
   "source": []
  }
 ],
 "metadata": {
  "kernelspec": {
   "display_name": "pyo",
   "language": "python",
   "name": "pyo"
  },
  "language_info": {
   "codemirror_mode": {
    "name": "ipython",
    "version": 3
   },
   "file_extension": ".py",
   "mimetype": "text/x-python",
   "name": "python",
   "nbconvert_exporter": "python",
   "pygments_lexer": "ipython3",
   "version": "3.8.8"
  }
 },
 "nbformat": 4,
 "nbformat_minor": 5
}
