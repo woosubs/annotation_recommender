{
 "cells": [
  {
   "cell_type": "code",
   "execution_count": 10,
   "id": "3ea61194",
   "metadata": {},
   "outputs": [],
   "source": [
    "# Demo1\n",
    "\n",
    "import os\n",
    "import sys\n",
    "\n",
    "PROJ_DIR = \"/Users/woosubs/Desktop/AutomateAnnotation/AnnotationRecommender/\"\n",
    "MOD_DIR = os.path.join(PROJ_DIR, \"annotation_recommender\")\n",
    "sys.path.append(MOD_DIR)\n",
    "BASE_DIR = '/Users/woosubs/Desktop/AutomateAnnotation/'\n",
    "DATA_DIR = os.path.join(BASE_DIR, \"DATA\")\n",
    "BIOMODEL_DIR = os.path.join(DATA_DIR, \"biomodels/curated_biomodels_31mar2021\")\n",
    "BIGG_DIR = '/Users/woosubs/Desktop/AutomateAnnotation/DATA/bigg'\n",
    "ecoli_fpath = os.path.join(BIGG_DIR, \"e_coli_core.xml\")\n",
    "\n",
    "from annotation_recommender import species_annotation as sa\n",
    "from annotation_recommender import reaction_annotation as ra\n",
    "from annotation_recommender import constants as cn\n",
    "from annotation_recommender import iterator as it\n",
    "from annotation_recommender import tools"
   ]
  },
  {
   "cell_type": "code",
   "execution_count": 16,
   "id": "88ab135a",
   "metadata": {},
   "outputs": [],
   "source": [
    "# Create SpeciesAnnotation & ReactionAnnotation class instances\n",
    "species_an = sa.SpeciesAnnotation(libsbml_fpath=ecoli_fpath)\n",
    "reaction_an = ra.ReactionAnnotation(libsbml_fpath=ecoli_fpath)"
   ]
  },
  {
   "cell_type": "code",
   "execution_count": 12,
   "id": "e75efa83",
   "metadata": {},
   "outputs": [
    {
     "name": "stdout",
     "output_type": "stream",
     "text": [
      "Species associated with reaction R_PFK: ['M_fdp_c', 'M_adp_c', 'M_atp_c', 'M_f6p_c', 'M_h_c']\n"
     ]
    }
   ],
   "source": [
    "# Identify species IDs to predict\n",
    "one_rid = 'R_PFK'\n",
    "comps = reaction_an.getReactionComponents(one_rid)\n",
    "print(\"Species associated with reaction %s:\" % one_rid, comps)"
   ]
  },
  {
   "cell_type": "code",
   "execution_count": 13,
   "id": "b3f9c5b9",
   "metadata": {},
   "outputs": [
    {
     "name": "stdout",
     "output_type": "stream",
     "text": [
      "{'M_fdp_c': 1.0, 'M_adp_c': 0.3529411764705882, 'M_atp_c': 0.4117647058823529, 'M_f6p_c': 1.0, 'M_h_c': 1.0}\n"
     ]
    }
   ],
   "source": [
    "# Predict species annotations...\n",
    "pred_species = species_an.predictAnnotationByName(inp_spec_list=comps)\n",
    "# for one_spec in species_an.candidates.keys():\n",
    "#   print(\"Predicted annotation of %s ->\" % one_spec, species_an.candidates[one_spec])\n",
    "print(species_an.match_score)"
   ]
  },
  {
   "cell_type": "code",
   "execution_count": 19,
   "id": "ea344b0d",
   "metadata": {},
   "outputs": [
    {
     "data": {
      "text/plain": [
       "{'match_score': 1.0,\n",
       " 'chebi': ['CHEBI:16905', 'CHEBI:49299'],\n",
       " 'formula': ['C6O12P2']}"
      ]
     },
     "execution_count": 19,
     "metadata": {},
     "output_type": "execute_result"
    }
   ],
   "source": [
    "species_an.predictAnnotationByEditDistance(species_an.model.getSpecies('M_fdp_c').name.lower())"
   ]
  },
  {
   "cell_type": "code",
   "execution_count": null,
   "id": "cc6c8856",
   "metadata": {},
   "outputs": [],
   "source": []
  },
  {
   "cell_type": "code",
   "execution_count": 5,
   "id": "b9c43b7a",
   "metadata": {},
   "outputs": [
    {
     "name": "stdout",
     "output_type": "stream",
     "text": [
      "{'R_PFK': Index(['RHEA:12423', 'RHEA:13380', 'RHEA:14216', 'RHEA:15656', 'RHEA:16112',\n",
      "       'RHEA:20108'],\n",
      "      dtype='object')}\n",
      "{'R_PFK': {'RHEA:12423': 0.8, 'RHEA:13380': 0.8, 'RHEA:14216': 0.8, 'RHEA:15656': 0.8, 'RHEA:16112': 0.8, 'RHEA:20108': 0.8}}\n"
     ]
    }
   ],
   "source": [
    "# Predict reaction annotations...\n",
    "pred_reaction = reaction_an.predictAnnotation(inp_spec_dict=species_an.formula,\n",
    "                                              inp_reac_list=[one_rid])\n",
    "print(reaction_an.candidates)\n",
    "print(reaction_an.match_score)"
   ]
  },
  {
   "cell_type": "code",
   "execution_count": 6,
   "id": "adac6b67",
   "metadata": {},
   "outputs": [
    {
     "name": "stdout",
     "output_type": "stream",
     "text": [
      "Species Accuracy: 0.80\n",
      "Reaction Accuracy: 1.00\n"
     ]
    }
   ],
   "source": [
    "print(\"Species Accuracy: %.02f\" % species_an.getAccuracy())\n",
    "print(\"Reaction Accuracy: %.02f\" % reaction_an.getAccuracy())"
   ]
  },
  {
   "cell_type": "code",
   "execution_count": 7,
   "id": "af196c3d",
   "metadata": {},
   "outputs": [
    {
     "name": "stdout",
     "output_type": "stream",
     "text": [
      "{'R_PFK': Index(['RHEA:12423', 'RHEA:13380', 'RHEA:14216', 'RHEA:15656', 'RHEA:16112'], dtype='object')}\n",
      "{'R_PFK': {'RHEA:12423': 1.0, 'RHEA:13380': 1.0, 'RHEA:14216': 1.0, 'RHEA:15656': 1.0, 'RHEA:16112': 1.0}}\n"
     ]
    }
   ],
   "source": [
    "# Update and predict reaction annotations again\n",
    "chebi2update = reaction_an.updateSpeciesByAReaction(inp_rid=one_rid, inp_spec_dict=species_an.formula,\n",
    "                                                    inp_rhea='RHEA:12423')\n",
    "formula2update = {one_k:[ra.ref_shortened_chebi_to_formula[val] for val in chebi2update[one_k]] \\\n",
    "                  for one_k in chebi2update.keys()}\n",
    "species_an.candidates.update(chebi2update)\n",
    "species_an.formula.update(formula2update)\n",
    "new_pred_annotations = reaction_an.predictAnnotation(inp_spec_dict=species_an.formula,\n",
    "                                                     inp_reac_list=[one_rid])\n",
    "print(reaction_an.candidates)\n",
    "print(reaction_an.match_score)"
   ]
  },
  {
   "cell_type": "code",
   "execution_count": 8,
   "id": "66260158",
   "metadata": {},
   "outputs": [
    {
     "name": "stdout",
     "output_type": "stream",
     "text": [
      "Species Accuracy: 1.00\n",
      "Reaction Accuracy: 1.00\n"
     ]
    }
   ],
   "source": [
    "print(\"Species Accuracy: %.02f\" % species_an.getAccuracy())\n",
    "print(\"Reaction Accuracy: %.02f\" % reaction_an.getAccuracy())"
   ]
  },
  {
   "cell_type": "code",
   "execution_count": 9,
   "id": "c62ce0cb",
   "metadata": {},
   "outputs": [
    {
     "data": {
      "text/plain": [
       "{'a': {'match_score': 1.0,\n",
       "  'chebi': ['CHEBI:16919', 'CHEBI:57947'],\n",
       "  'formula': ['C4N3O2']}}"
      ]
     },
     "execution_count": 9,
     "metadata": {},
     "output_type": "execute_result"
    }
   ],
   "source": [
    "species_an.predictAnnotationByName(inp_spec_list=None,\n",
    "                                   specnames_dict={'a': 'Creatine'},\n",
    "                                   update=False)"
   ]
  },
  {
   "cell_type": "code",
   "execution_count": null,
   "id": "0b3fec7a",
   "metadata": {},
   "outputs": [],
   "source": []
  }
 ],
 "metadata": {
  "kernelspec": {
   "display_name": "pyo",
   "language": "python",
   "name": "pyo"
  },
  "language_info": {
   "codemirror_mode": {
    "name": "ipython",
    "version": 3
   },
   "file_extension": ".py",
   "mimetype": "text/x-python",
   "name": "python",
   "nbconvert_exporter": "python",
   "pygments_lexer": "ipython3",
   "version": "3.8.8"
  }
 },
 "nbformat": 4,
 "nbformat_minor": 5
}
