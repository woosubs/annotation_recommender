{
 "cells": [
  {
   "cell_type": "code",
   "execution_count": 18,
   "id": "084ae5d9",
   "metadata": {},
   "outputs": [
    {
     "name": "stdout",
     "output_type": "stream",
     "text": [
      "(13651, 3790)\n"
     ]
    }
   ],
   "source": [
    "# create species annotation class\n",
    "import numpy as np\n",
    "import os\n",
    "import pickle\n",
    "import pandas as pd\n",
    "import sys\n",
    "PROJ_DIR = \"/Users/woosubs/Desktop/AutomateAnnotation/AnnotationRecommender/\"\n",
    "MOD_DIR = os.path.join(PROJ_DIR, \"annotation_recommender\")\n",
    "sys.path.append(MOD_DIR)\n",
    "\n",
    "BIOMD_12 = 'BIOMD0000000012.xml'\n",
    "BASE_DIR = '/Users/woosubs/Desktop/AutomateAnnotation/'\n",
    "DATA_DIR = os.path.join(BASE_DIR, \"DATA\")\n",
    "ALGO_DIR = os.path.join(DATA_DIR, \"algo\")\n",
    "CHEBI_DIR = os.path.join(DATA_DIR, \"chebi\")\n",
    "RHEA_DIR = os.path.join(DATA_DIR, \"rhea\")\n",
    "BIOMODEL_DIR = os.path.join(DATA_DIR, \"biomodels/curated_biomodels_31mar2021\")\n",
    "BIGG_DIR = '/Users/woosubs/Desktop/AutomateAnnotation/DATA/bigg'\n",
    "ecoli_fpath = os.path.join(BIGG_DIR, \"e_coli_core.xml\")\n",
    "\n",
    "\n",
    "from annotation_recommender import species_annotation as sa\n",
    "from annotation_recommender import reaction_annotation as ra\n",
    "from annotation_recommender import constants as cn\n",
    "from annotation_recommender import iterator as it\n",
    "from annotation_recommender import tools\n",
    "\n",
    "# chebi to shortened formula\n",
    "with open(os.path.join(CHEBI_DIR, 'chebi_shortened_formula_30apr2022.pickle'), 'rb') as f:\n",
    "  ref_shortened_chebi_to_formula = pickle.load(f)\n",
    "# shortened formula to chebi\n",
    "with open(os.path.join(CHEBI_DIR, 'shortened_formula_to_chebis_20jul2022.pickle'), 'rb') as f:\n",
    "  ref_shortened_formula_to_chebi = pickle.load(f)\n",
    "with open(os.path.join(RHEA_DIR, 'rhea2chebi_reference.pkl'), 'rb') as f:\n",
    "  ref_rhea_to_chebi = pickle.load(f)\n",
    "\n",
    "with open(os.path.join(CHEBI_DIR, 'chebi_synonyms.pickle'), 'rb') as f:\n",
    "  chebi_synonyms = pickle.load(f)\n",
    "chebi_low_synonyms = dict()\n",
    "for one_k in chebi_synonyms.keys():\n",
    "  chebi_low_synonyms[one_k] = list(set([val.lower() for val in chebi_synonyms[one_k]]))\n",
    "\n",
    "with open(os.path.join(RHEA_DIR, 'kegg2rhea_master.pickle'), 'rb') as handle:\n",
    "  ref_kegg2rhea_master = pickle.load(handle)\n",
    "with open(os.path.join(RHEA_DIR, 'kegg2rhea_bi.pickle'), 'rb') as handle:\n",
    "  ref_kegg2rhea_bi = pickle.load(handle)\n",
    "\n",
    "# load reference matrix\n",
    "with open(os.path.join(ALGO_DIR, 'binary_ref_df.pickle'), 'rb') as handle:\n",
    "    ref_mat = pickle.load(handle)\n",
    "# check its shape\n",
    "print(ref_mat.shape)"
   ]
  },
  {
   "cell_type": "code",
   "execution_count": 2,
   "id": "a2f72931",
   "metadata": {},
   "outputs": [],
   "source": [
    "specanot = sa.SpeciesAnnotation(libsbml_fpath=ecoli_fpath)\n",
    "reacanot = ra.ReactionAnnotation(libsbml_fpath=ecoli_fpath)"
   ]
  },
  {
   "cell_type": "code",
   "execution_count": 3,
   "id": "1db5d640",
   "metadata": {},
   "outputs": [
    {
     "name": "stdout",
     "output_type": "stream",
     "text": [
      "{'R_PFK': ['RHEA:16112'], 'R_PFL': ['RHEA:11847'], 'R_PGK': ['RHEA:14804'], 'R_PGL': ['RHEA:12559'], 'R_ACALD': ['RHEA:23291'], 'R_AKGt2r': ['RHEA:29014'], 'R_PGM': ['RHEA:15904'], 'R_PIt2r': ['RHEA:29942'], 'R_ALCD2x': ['RHEA:25293'], 'R_ACKr': ['RHEA:11355'], 'R_PPC': ['RHEA:23075'], 'R_ACONTa': ['RHEA:10231'], 'R_ACONTb': ['RHEA:22147'], 'R_ATPM': ['RHEA:13068', 'RHEA:20855'], 'R_PPCK': ['RHEA:18620'], 'R_PPS': ['RHEA:11367'], 'R_ADK1': ['RHEA:12976'], 'R_AKGDH': ['RHEA:27789'], 'R_PTAr': ['RHEA:19524'], 'R_PYK': ['RHEA:18160'], 'R_RPE': ['RHEA:13680'], 'R_CS': ['RHEA:16848'], 'R_SUCCt2_2': ['RHEA:29306'], 'R_ENO': ['RHEA:10167'], 'R_SUCDi': ['RHEA:29190'], 'R_SUCOAS': ['RHEA:17664'], 'R_TALA': ['RHEA:17056'], 'R_TKT2': ['RHEA:27629'], 'R_TPI': ['RHEA:18588'], 'R_EX_ac_e': ['RHEA:27817'], 'R_EX_etoh_e': ['RHEA:35270'], 'R_EX_for_e': ['RHEA:29682'], 'R_EX_h_e': ['RHEA:34982'], 'R_EX_h2o_e': ['RHEA:29670'], 'R_EX_nh4_e': ['RHEA:28750'], 'R_EX_pi_e': ['RHEA:32826'], 'R_FBA': ['RHEA:14732'], 'R_FBP': ['RHEA:11067'], 'R_FORt': ['RHEA:29682'], 'R_FRD7': ['RHEA:29190'], 'R_FUM': ['RHEA:12463'], 'R_FUMt2_2': ['RHEA:29334'], 'R_G6PDH2r': ['RHEA:15844'], 'R_GAPD': ['RHEA:10303'], 'R_GLNS': ['RHEA:16172'], 'R_GLUDy': ['RHEA:11615'], 'R_GLUN': ['RHEA:15892'], 'R_GLUSy': ['RHEA:15504'], 'R_GND': ['RHEA:10119'], 'R_H2Ot': ['RHEA:29670'], 'R_ICDHyr': ['RHEA:19632'], 'R_ICL': ['RHEA:13248'], 'R_LDH_D': ['RHEA:16372'], 'R_MALS': ['RHEA:18184'], 'R_MALt2_2': ['RHEA:29342'], 'R_MDH': ['RHEA:21435'], 'R_ME1': ['RHEA:12656'], 'R_ME2': ['RHEA:18256'], 'R_NADTRHD': ['RHEA:11695'], 'R_NH4t': ['RHEA:28750'], 'R_PDH': ['RHEA:28045']}\n",
      "['M_glc__D_e', 'M_gln__L_c', 'M_gln__L_e', 'M_glu__L_c', 'M_glu__L_e', 'M_glx_c', 'M_h2o_c', 'M_h2o_e', 'M_h_c', 'M_h_e', 'M_icit_c', 'M_lac__D_c', 'M_lac__D_e', 'M_mal__L_c', 'M_mal__L_e', 'M_nad_c', 'M_nadh_c', 'M_nadp_c', 'M_nadph_c', 'M_nh4_c', 'M_13dpg_c', 'M_nh4_e', 'M_o2_c', 'M_2pg_c', 'M_o2_e', 'M_3pg_c', 'M_oaa_c', 'M_pep_c', 'M_6pgc_c', 'M_pi_c', 'M_6pgl_c', 'M_pi_e', 'M_ac_c', 'M_pyr_c', 'M_pyr_e', 'M_q8_c', 'M_q8h2_c', 'M_r5p_c', 'M_ru5p__D_c', 'M_ac_e', 'M_acald_c', 'M_s7p_c', 'M_acald_e', 'M_accoa_c', 'M_succ_c', 'M_succ_e', 'M_succoa_c', 'M_acon_C_c', 'M_xu5p__D_c', 'M_actp_c', 'M_adp_c', 'M_akg_c', 'M_akg_e', 'M_amp_c', 'M_atp_c', 'M_cit_c', 'M_co2_c', 'M_co2_e', 'M_coa_c', 'M_dhap_c', 'M_e4p_c', 'M_etoh_c', 'M_etoh_e', 'M_f6p_c', 'M_fdp_c', 'M_for_c', 'M_for_e', 'M_fru_e', 'M_fum_c', 'M_fum_e', 'M_g3p_c', 'M_g6p_c']\n"
     ]
    }
   ],
   "source": [
    "print(reacanot.exist_annotation)\n",
    "print([val.getId() for val in specanot.model.getListOfSpecies()])"
   ]
  },
  {
   "cell_type": "code",
   "execution_count": 4,
   "id": "ca55a20a",
   "metadata": {
    "tags": []
   },
   "outputs": [
    {
     "name": "stdout",
     "output_type": "stream",
     "text": [
      "['M_atp_c', 'M_h_c', 'M_fdp_c', 'M_adp_c', 'M_f6p_c']\n",
      "['M_atp_c', 'M_h_c', 'M_fdp_c', 'M_adp_c', 'M_f6p_c']\n"
     ]
    }
   ],
   "source": [
    "one_comps = reacanot.getReactionComponents('R_PFK')\n",
    "print(one_comps)\n",
    "two_comps = reacanot.getReactionComponents(reacanot.model.getReaction('R_PFK'))\n",
    "print(two_comps)"
   ]
  },
  {
   "cell_type": "code",
   "execution_count": 5,
   "id": "15174964",
   "metadata": {
    "tags": []
   },
   "outputs": [
    {
     "name": "stdout",
     "output_type": "stream",
     "text": [
      "['ATP C10H12N5O13P3', 'H+', 'D-Fructose 1,6-bisphosphate', 'ADP C10H12N5O10P2', 'D-Fructose 6-phosphate']\n"
     ]
    }
   ],
   "source": [
    "comp_names = [reacanot.model.getSpecies(val).name for val in one_comps]\n",
    "print(comp_names)"
   ]
  },
  {
   "cell_type": "code",
   "execution_count": 6,
   "id": "6e86025a",
   "metadata": {},
   "outputs": [],
   "source": [
    "spec_pred_annotations = specanot.predictAnnotationByName(inp_spec_list=one_comps)"
   ]
  },
  {
   "cell_type": "code",
   "execution_count": 7,
   "id": "acb3994d",
   "metadata": {},
   "outputs": [
    {
     "name": "stdout",
     "output_type": "stream",
     "text": [
      "{'M_atp_c': 0.4117647058823529, 'M_h_c': 1.0, 'M_fdp_c': 1.0, 'M_adp_c': 0.3529411764705882, 'M_f6p_c': 1.0}\n",
      "{'M_atp_c': ['CHEBI:135736', 'CHEBI:182955'], 'M_h_c': ['CHEBI:15378'], 'M_fdp_c': ['CHEBI:16905', 'CHEBI:49299'], 'M_adp_c': ['CHEBI:135736', 'CHEBI:456216', 'CHEBI:147398', 'CHEBI:151629', 'CHEBI:152534', 'CHEBI:153980', 'CHEBI:167004', 'CHEBI:167672', 'CHEBI:182955', 'CHEBI:28498', 'CHEBI:31899', 'CHEBI:32411', 'CHEBI:36331', 'CHEBI:42870', 'CHEBI:63450', 'CHEBI:63452', 'CHEBI:68840', 'CHEBI:72990', 'CHEBI:75998', 'CHEBI:77390', 'CHEBI:78443', 'CHEBI:88249', 'CHEBI:89713', 'CHEBI:90217', 'CHEBI:90304', 'CHEBI:90695', 'CHEBI:93296'], 'M_f6p_c': ['CHEBI:15946', 'CHEBI:57579', 'CHEBI:61553', 'CHEBI:61527']}\n",
      "{'M_atp_c': ['C20O4', 'C18ClN2O6S2'], 'M_h_c': ['H'], 'M_fdp_c': ['C6O12P2'], 'M_adp_c': ['C18N4O11', 'C20N2O5S', 'C18ClN2O6S2', 'C29N6O4S', 'C115N8O85', 'C35N4O4', 'C19O2', 'C21ClN3O2', 'C27O5', 'C12', 'C20O4', 'C16F3IN2O4', 'C101N7O75', 'C18O2', 'C16NO6', 'C26FIN5O4', 'C8NO6', 'C19O9P', 'C26N7O2S', 'C9N4O5', 'C17Cl2F3N7O2S', 'C19N2O2S', 'C14N2O', 'C28N6OS', 'C10N5O10P2'], 'M_f6p_c': ['C6O9P']}\n"
     ]
    }
   ],
   "source": [
    "print(specanot.match_score)\n",
    "print(specanot.chebi)\n",
    "print(specanot.formula)"
   ]
  },
  {
   "cell_type": "code",
   "execution_count": 8,
   "id": "8de36326",
   "metadata": {},
   "outputs": [],
   "source": [
    "reac_pred_annotations = reacanot.predictAnnotation(inp_spec_dict=specanot.formula,\n",
    "                                                   inp_reac_list=['R_PFK'],\n",
    "                                                   inp_ref_mat=ref_mat)"
   ]
  },
  {
   "cell_type": "code",
   "execution_count": 9,
   "id": "6e4013b9",
   "metadata": {},
   "outputs": [
    {
     "data": {
      "text/plain": [
       "{'R_PFK': {'RHEA:12423': 0.8,\n",
       "  'RHEA:13380': 0.8,\n",
       "  'RHEA:14216': 0.8,\n",
       "  'RHEA:15656': 0.8,\n",
       "  'RHEA:16112': 0.8,\n",
       "  'RHEA:20108': 0.8}}"
      ]
     },
     "execution_count": 9,
     "metadata": {},
     "output_type": "execute_result"
    }
   ],
   "source": [
    "reacanot.match_score"
   ]
  },
  {
   "cell_type": "code",
   "execution_count": 13,
   "id": "3562e5fe",
   "metadata": {},
   "outputs": [],
   "source": [
    "chebi2update = reacanot.updateSpeciesByAReaction(inp_rid='R_PFK', inp_spec_dict=specanot.formula,\n",
    "                                                 inp_rhea='RHEA:12423', inp_ref_mat=ref_mat)\n",
    "formula2update = {one_k:[ref_shortened_chebi_to_formula[val] for val in chebi2update[one_k]] \\\n",
    "                  for one_k in chebi2update.keys()}\n",
    "orig_values = [specanot.chebi, specanot.formula]"
   ]
  },
  {
   "cell_type": "code",
   "execution_count": 14,
   "id": "6879c8f2",
   "metadata": {},
   "outputs": [],
   "source": [
    "# Update species annotation\n",
    "# specanot.match_score = ?\n",
    "specanot.chebi.update(chebi2update)\n",
    "specanot.formula.update(formula2update)"
   ]
  },
  {
   "cell_type": "code",
   "execution_count": 17,
   "id": "acff2b47",
   "metadata": {},
   "outputs": [
    {
     "data": {
      "text/plain": [
       "{'R_PFK': {'RHEA:12423': 1.0,\n",
       "  'RHEA:13380': 1.0,\n",
       "  'RHEA:14216': 1.0,\n",
       "  'RHEA:15656': 1.0,\n",
       "  'RHEA:16112': 1.0}}"
      ]
     },
     "execution_count": 17,
     "metadata": {},
     "output_type": "execute_result"
    }
   ],
   "source": [
    "new_pred_annotations = reacanot.predictAnnotation(inp_spec_dict=specanot.formula,\n",
    "                                                   inp_reac_list=['R_PFK'],\n",
    "                                                   inp_ref_mat=ref_mat)\n",
    "reacanot.match_score"
   ]
  },
  {
   "cell_type": "code",
   "execution_count": 20,
   "id": "5b279e75",
   "metadata": {},
   "outputs": [
    {
     "data": {
      "text/plain": [
       "['C10N5O10P2', 'H', 'C6O12P2', 'C10N5O13P3', 'C6O9P']"
      ]
     },
     "execution_count": 20,
     "metadata": {},
     "output_type": "execute_result"
    }
   ],
   "source": [
    "[ref_shortened_chebi_to_formula[val] for val in  ref_rhea_to_chebi['RHEA:12423']]"
   ]
  },
  {
   "cell_type": "code",
   "execution_count": null,
   "id": "1cd81a28",
   "metadata": {},
   "outputs": [],
   "source": []
  },
  {
   "cell_type": "code",
   "execution_count": null,
   "id": "a75c47b8",
   "metadata": {},
   "outputs": [],
   "source": []
  },
  {
   "cell_type": "code",
   "execution_count": null,
   "id": "2a10c02d",
   "metadata": {},
   "outputs": [],
   "source": []
  },
  {
   "cell_type": "code",
   "execution_count": null,
   "id": "10e0a4a1",
   "metadata": {},
   "outputs": [],
   "source": []
  },
  {
   "cell_type": "code",
   "execution_count": 2,
   "id": "45388abd",
   "metadata": {},
   "outputs": [],
   "source": [
    "specanot = sa.SpeciesAnnotation(libsbml_fpath=ecoli_fpath)\n",
    "reacanot = ra.ReactionAnnotation(libsbml_fpath=ecoli_fpath)\n",
    "\n",
    "spec_pred_annotations = specanot.predictAnnotationByName(inp_spec_list=None)\n",
    "reac_pred_annotations = reacanot.predictAnnotation(inp_spec_dict=specanot.formula,\n",
    "                                                   inp_reac_list=None,\n",
    "                                                   inp_ref_mat=ref_mat,\n",
    "                                                   update=True)"
   ]
  },
  {
   "cell_type": "code",
   "execution_count": 21,
   "id": "5cfe874f",
   "metadata": {},
   "outputs": [],
   "source": [
    "# ranked_one_cands = dict()\n",
    "# for one_k in reacanot.match_score.keys():\n",
    "#   one_itm = pd.DataFrame.from_dict(reacanot.match_score[one_k], orient='index', columns=['match_score'])\n",
    "#   one_itm.sort_values(ascending=False, by='match_score', inplace=True)\n",
    "#   ranked_one_cands[one_k] = [one_itm.index[0]]"
   ]
  },
  {
   "cell_type": "code",
   "execution_count": 15,
   "id": "76e0c9da",
   "metadata": {},
   "outputs": [],
   "source": [
    "cur_candidates_dict = reacanot.candidates\n",
    "cur_spec_formula_dict = specanot.formula\n",
    "cur_reac_match_score = reacanot.sum_match_score\n",
    "cur_one_cands = reacanot.one_candidates\n",
    "num_iter=10\n",
    "show_message=True"
   ]
  },
  {
   "cell_type": "code",
   "execution_count": 16,
   "id": "6cc4fc3e",
   "metadata": {},
   "outputs": [
    {
     "name": "stdout",
     "output_type": "stream",
     "text": [
      "Initial match score: 82.94\n",
      "*************************\n",
      "Iteration 1\n",
      "Updated match score: 89.97\n",
      "*************************\n",
      "Iteration 2\n",
      "Updated match score: 90.17\n",
      "*************************\n",
      "Iteration 3\n",
      "Updated match score: 90.17\n",
      "Score not increasing. Quitting iteration...\n"
     ]
    }
   ],
   "source": [
    "flag = False\n",
    "if show_message:\n",
    "  print(\"Initial match score: %.02f\" % cur_reac_match_score)\n",
    "  print(\"*************************\")\n",
    "for rep in range(0, num_iter):\n",
    "  if flag:\n",
    "    break\n",
    "  if show_message:\n",
    "    print(\"Iteration %d\" % (rep+1))\n",
    "  # updated chebi values\n",
    "  all_upd_spec = dict()\n",
    "  for one_k in cur_one_cands.keys():\n",
    "    one_upd_spec = reacanot.updateSpeciesByAReaction(inp_rid=one_k,\n",
    "                                                     inp_spec_dict=cur_spec_formula_dict,\n",
    "                                                     inp_rhea=cur_one_cands[one_k][0],\n",
    "                                                     inp_ref_mat=ref_mat)\n",
    "    all_upd_spec = tools.updateDictKeyToList(all_upd_spec, one_upd_spec)\n",
    "\n",
    "  # update species dictionary to use\n",
    "  upd_spec_formula_dict = dict()\n",
    "  for one_k in cur_spec_formula_dict.keys():\n",
    "    if one_k in all_upd_spec.keys():\n",
    "      upd_spec_formula_dict[one_k] = list(set([ref_shortened_chebi_to_formula[val] for val in all_upd_spec[one_k]]))\n",
    "    else:\n",
    "      upd_spec_formula_dict[one_k] = cur_spec_formula_dict[one_k]\n",
    "\n",
    "  # Using upd_spec_formula_dict, predict reaction again\n",
    "  new_res_df = reacanot.predictAnnotation(inp_spec_dict=upd_spec_formula_dict,\n",
    "                                          inp_reac_list=None,\n",
    "                                          inp_ref_mat=ref_mat,\n",
    "                                          update=False)\n",
    "#\n",
    "  upd_reac_match_score = new_res_df['sum_match_score']\n",
    "  # Check wheter to continue;\n",
    "  if upd_reac_match_score > cur_reac_match_score:\n",
    "    cur_candidates_dict = new_res_df['candidates']\n",
    "    cur_one_cands = new_res_df['one_candidates']\n",
    "    cur_spec_formula_dict = upd_spec_formula_dict\n",
    "    cur_reac_match_score = upd_reac_match_score\n",
    "    if show_message:\n",
    "      print(\"Updated match score: %.02f\" % cur_reac_match_score)\n",
    "      print(\"*************************\")\n",
    "  else:\n",
    "    flag = True\n",
    "    if show_message:\n",
    "      print(\"Updated match score: %.02f\" % cur_reac_match_score)\n",
    "      print(\"Score not increasing. Quitting iteration...\")\n",
    "# if show_message:\n",
    "# print(\"\\nCalculation finished.\")\n",
    "# return cur_candidates_dict, cur_spec_formula_dict, cur_reac_match_score, new_query_df, rep"
   ]
  },
  {
   "cell_type": "code",
   "execution_count": null,
   "id": "4d723ad0",
   "metadata": {},
   "outputs": [],
   "source": []
  },
  {
   "cell_type": "markdown",
   "id": "4f2d9631",
   "metadata": {},
   "source": [
    "# Get Accuracy for both classes"
   ]
  },
  {
   "cell_type": "code",
   "execution_count": 41,
   "id": "02bc35b9",
   "metadata": {},
   "outputs": [],
   "source": [
    "# def getAccuracy(ref_annotation=None):\n",
    "#   \"\"\"\n",
    "#   Compute accuracy of species annotation.\n",
    "#   A list of annotations of \n",
    "#   a single species (identified by each ID) \n",
    "#   is considered accurate if it includes\n",
    "#   the corresponding value of ref_annotation.\n",
    "#   (More precisely, if there is at least one\n",
    "#   intersection).\n",
    "  \n",
    "#   Parameters\n",
    "#   ----------\n",
    "#   ref_annotation: dict\n",
    "#       {species_id: [str-annotatino]}\n",
    "\n",
    "#   Returns\n",
    "#   -------\n",
    "#   : float\n",
    "#   \"\"\"\n",
    "#   accuracy = []\n",
    "#   if ref_annotation is None:\n",
    "#     ref = specanot.exist_annotation\n",
    "#   else:\n",
    "#     ref = ref_annotation\n",
    "#   species_to_test = set(ref.keys()).intersection(set(specanot.formula.keys()))\n",
    "#   for one_k in species_to_test:\n",
    "#     if set(ref[one_k]).intersection(specanot.formula[one_k]):\n",
    "#       accuracy.append(True)\n",
    "#     else:\n",
    "#       accuracy.append(False)\n",
    "#   return np.mean(accuracy)"
   ]
  },
  {
   "cell_type": "code",
   "execution_count": null,
   "id": "7a1cccf9",
   "metadata": {},
   "outputs": [],
   "source": []
  },
  {
   "cell_type": "code",
   "execution_count": null,
   "id": "8320aa31",
   "metadata": {},
   "outputs": [],
   "source": []
  }
 ],
 "metadata": {
  "kernelspec": {
   "display_name": "pyo",
   "language": "python",
   "name": "pyo"
  },
  "language_info": {
   "codemirror_mode": {
    "name": "ipython",
    "version": 3
   },
   "file_extension": ".py",
   "mimetype": "text/x-python",
   "name": "python",
   "nbconvert_exporter": "python",
   "pygments_lexer": "ipython3",
   "version": "3.8.8"
  }
 },
 "nbformat": 4,
 "nbformat_minor": 5
}
