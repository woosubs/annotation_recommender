{
 "cells": [
  {
   "cell_type": "code",
   "execution_count": 1,
   "id": "6d706604",
   "metadata": {},
   "outputs": [
    {
     "name": "stdout",
     "output_type": "stream",
     "text": [
      "(13651, 3790)\n"
     ]
    }
   ],
   "source": [
    "# create species annotation class\n",
    "import os\n",
    "import pickle\n",
    "import sys\n",
    "PROJ_DIR = \"/Users/woosubs/Desktop/AutomateAnnotation/AnnotationRecommender/\"\n",
    "MOD_DIR = os.path.join(PROJ_DIR, \"annotation_recommender\")\n",
    "sys.path.append(MOD_DIR)\n",
    "\n",
    "BIOMD_12 = 'BIOMD0000000012.xml'\n",
    "BASE_DIR = '/Users/woosubs/Desktop/AutomateAnnotation/'\n",
    "DATA_DIR = os.path.join(BASE_DIR, \"DATA\")\n",
    "ALGO_DIR = os.path.join(DATA_DIR, \"algo\")\n",
    "CHEBI_DIR = os.path.join(DATA_DIR, \"chebi\")\n",
    "RHEA_DIR = os.path.join(DATA_DIR, \"rhea\")\n",
    "BIOMODEL_DIR = os.path.join(DATA_DIR, \"biomodels/curated_biomodels_31mar2021\")\n",
    "BIGG_DIR = '/Users/woosubs/Desktop/AutomateAnnotation/DATA/bigg'\n",
    "ecoli_fpath = os.path.join(BIGG_DIR, \"e_coli_core.xml\")\n",
    "\n",
    "\n",
    "from annotation_recommender import species_annotation as sa\n",
    "from annotation_recommender import reaction_annotation as ra\n",
    "from annotation_recommender import constants as cn\n",
    "\n",
    "# chebi to shortened formula\n",
    "with open(os.path.join(CHEBI_DIR, 'chebi_shortened_formula_30apr2022.pickle'), 'rb') as f:\n",
    "  ref_shortened_chebi_to_formula = pickle.load(f)\n",
    "# shortened formula to chebi\n",
    "with open(os.path.join(CHEBI_DIR, 'shortened_formula_to_chebis_20jul2022.pickle'), 'rb') as f:\n",
    "  ref_shortened_formula_to_chebi = pickle.load(f)\n",
    "\n",
    "with open(os.path.join(CHEBI_DIR, 'chebi_synonyms.pickle'), 'rb') as f:\n",
    "  chebi_synonyms = pickle.load(f)\n",
    "chebi_low_synonyms = dict()\n",
    "for one_k in chebi_synonyms.keys():\n",
    "  chebi_low_synonyms[one_k] = list(set([val.lower() for val in chebi_synonyms[one_k]]))\n",
    "\n",
    "with open(os.path.join(RHEA_DIR, 'kegg2rhea_master.pickle'), 'rb') as handle:\n",
    "  ref_kegg2rhea_master = pickle.load(handle)\n",
    "with open(os.path.join(RHEA_DIR, 'kegg2rhea_bi.pickle'), 'rb') as handle:\n",
    "  ref_kegg2rhea_bi = pickle.load(handle)\n",
    "\n",
    "# load reference matrix\n",
    "with open(os.path.join(ALGO_DIR, 'binary_ref_df.pickle'), 'rb') as handle:\n",
    "    ref_mat = pickle.load(handle)\n",
    "# check its shape\n",
    "print(ref_mat.shape)"
   ]
  },
  {
   "cell_type": "code",
   "execution_count": 2,
   "id": "92204bd5",
   "metadata": {},
   "outputs": [],
   "source": [
    "specanot = sa.SpeciesAnnotation(libsbml_fpath=ecoli_fpath)\n",
    "reacanot = ra.ReactionAnnotation(libsbml_fpath=ecoli_fpath)"
   ]
  },
  {
   "cell_type": "code",
   "execution_count": 3,
   "id": "964b8e9f",
   "metadata": {},
   "outputs": [
    {
     "name": "stdout",
     "output_type": "stream",
     "text": [
      "{'R_PFK': ['RHEA:16112'], 'R_PFL': ['RHEA:11847'], 'R_PGK': ['RHEA:14804'], 'R_PGL': ['RHEA:12559'], 'R_ACALD': ['RHEA:23291'], 'R_AKGt2r': ['RHEA:29014'], 'R_PGM': ['RHEA:15904'], 'R_PIt2r': ['RHEA:29942'], 'R_ALCD2x': ['RHEA:25293'], 'R_ACKr': ['RHEA:11355'], 'R_PPC': ['RHEA:23075'], 'R_ACONTa': ['RHEA:10231'], 'R_ACONTb': ['RHEA:22147'], 'R_ATPM': ['RHEA:13068', 'RHEA:20855'], 'R_PPCK': ['RHEA:18620'], 'R_PPS': ['RHEA:11367'], 'R_ADK1': ['RHEA:12976'], 'R_AKGDH': ['RHEA:27789'], 'R_PTAr': ['RHEA:19524'], 'R_PYK': ['RHEA:18160'], 'R_RPE': ['RHEA:13680'], 'R_CS': ['RHEA:16848'], 'R_SUCCt2_2': ['RHEA:29306'], 'R_ENO': ['RHEA:10167'], 'R_SUCDi': ['RHEA:29190'], 'R_SUCOAS': ['RHEA:17664'], 'R_TALA': ['RHEA:17056'], 'R_TKT2': ['RHEA:27629'], 'R_TPI': ['RHEA:18588'], 'R_EX_ac_e': ['RHEA:27817'], 'R_EX_etoh_e': ['RHEA:35270'], 'R_EX_for_e': ['RHEA:29682'], 'R_EX_h_e': ['RHEA:34982'], 'R_EX_h2o_e': ['RHEA:29670'], 'R_EX_nh4_e': ['RHEA:28750'], 'R_EX_pi_e': ['RHEA:32826'], 'R_FBA': ['RHEA:14732'], 'R_FBP': ['RHEA:11067'], 'R_FORt': ['RHEA:29682'], 'R_FRD7': ['RHEA:29190'], 'R_FUM': ['RHEA:12463'], 'R_FUMt2_2': ['RHEA:29334'], 'R_G6PDH2r': ['RHEA:15844'], 'R_GAPD': ['RHEA:10303'], 'R_GLNS': ['RHEA:16172'], 'R_GLUDy': ['RHEA:11615'], 'R_GLUN': ['RHEA:15892'], 'R_GLUSy': ['RHEA:15504'], 'R_GND': ['RHEA:10119'], 'R_H2Ot': ['RHEA:29670'], 'R_ICDHyr': ['RHEA:19632'], 'R_ICL': ['RHEA:13248'], 'R_LDH_D': ['RHEA:16372'], 'R_MALS': ['RHEA:18184'], 'R_MALt2_2': ['RHEA:29342'], 'R_MDH': ['RHEA:21435'], 'R_ME1': ['RHEA:12656'], 'R_ME2': ['RHEA:18256'], 'R_NADTRHD': ['RHEA:11695'], 'R_NH4t': ['RHEA:28750'], 'R_PDH': ['RHEA:28045']}\n"
     ]
    }
   ],
   "source": [
    "print(reacanot.exist_annotation)"
   ]
  },
  {
   "cell_type": "code",
   "execution_count": 4,
   "id": "d9198cb7",
   "metadata": {},
   "outputs": [
    {
     "name": "stdout",
     "output_type": "stream",
     "text": [
      "['M_glc__D_e', 'M_gln__L_c', 'M_gln__L_e', 'M_glu__L_c', 'M_glu__L_e', 'M_glx_c', 'M_h2o_c', 'M_h2o_e', 'M_h_c', 'M_h_e', 'M_icit_c', 'M_lac__D_c', 'M_lac__D_e', 'M_mal__L_c', 'M_mal__L_e', 'M_nad_c', 'M_nadh_c', 'M_nadp_c', 'M_nadph_c', 'M_nh4_c', 'M_13dpg_c', 'M_nh4_e', 'M_o2_c', 'M_2pg_c', 'M_o2_e', 'M_3pg_c', 'M_oaa_c', 'M_pep_c', 'M_6pgc_c', 'M_pi_c', 'M_6pgl_c', 'M_pi_e', 'M_ac_c', 'M_pyr_c', 'M_pyr_e', 'M_q8_c', 'M_q8h2_c', 'M_r5p_c', 'M_ru5p__D_c', 'M_ac_e', 'M_acald_c', 'M_s7p_c', 'M_acald_e', 'M_accoa_c', 'M_succ_c', 'M_succ_e', 'M_succoa_c', 'M_acon_C_c', 'M_xu5p__D_c', 'M_actp_c', 'M_adp_c', 'M_akg_c', 'M_akg_e', 'M_amp_c', 'M_atp_c', 'M_cit_c', 'M_co2_c', 'M_co2_e', 'M_coa_c', 'M_dhap_c', 'M_e4p_c', 'M_etoh_c', 'M_etoh_e', 'M_f6p_c', 'M_fdp_c', 'M_for_c', 'M_for_e', 'M_fru_e', 'M_fum_c', 'M_fum_e', 'M_g3p_c', 'M_g6p_c']\n"
     ]
    }
   ],
   "source": [
    "print([val.getId() for val in specanot.model.getListOfSpecies()])"
   ]
  },
  {
   "cell_type": "code",
   "execution_count": 5,
   "id": "6b42f4b8",
   "metadata": {},
   "outputs": [
    {
     "data": {
      "text/plain": [
       "{'M_glc__D_e': {'match_score': 1.0,\n",
       "  'chebi': ['CHEBI:17634', 'CHEBI:4167', 'CHEBI:42758'],\n",
       "  'formula': ['C6O6']},\n",
       " 'M_gln__L_c': {'match_score': 1.0,\n",
       "  'chebi': ['CHEBI:18050', 'CHEBI:58359', 'CHEBI:30011'],\n",
       "  'formula': ['C5N2O3', 'C5N2O2']}}"
      ]
     },
     "execution_count": 5,
     "metadata": {},
     "output_type": "execute_result"
    }
   ],
   "source": [
    "candidates_pred_annotations = specanot.predictAnnotationByName(inp_spec_list=['M_glc__D_e', 'M_gln__L_c'])\n",
    "candidates_pred_annotations"
   ]
  },
  {
   "cell_type": "code",
   "execution_count": 6,
   "id": "52ff1346",
   "metadata": {},
   "outputs": [
    {
     "name": "stdout",
     "output_type": "stream",
     "text": [
      "{'M_glc__D_e': 1.0, 'M_gln__L_c': 1.0}\n",
      "{'M_glc__D_e': ['CHEBI:17634', 'CHEBI:4167', 'CHEBI:42758'], 'M_gln__L_c': ['CHEBI:18050', 'CHEBI:58359', 'CHEBI:30011']}\n",
      "{'M_glc__D_e': ['C6O6'], 'M_gln__L_c': ['C5N2O3', 'C5N2O2']}\n"
     ]
    }
   ],
   "source": [
    "print(specanot.match_score)\n",
    "print(specanot.chebi)\n",
    "print(specanot.formula)"
   ]
  },
  {
   "cell_type": "code",
   "execution_count": 7,
   "id": "0ae68335",
   "metadata": {},
   "outputs": [],
   "source": [
    "reacanot = ra.ReactionAnnotation(libsbml_fpath=os.path.join(BIOMODEL_DIR, BIOMD_12))"
   ]
  },
  {
   "cell_type": "code",
   "execution_count": 8,
   "id": "f2efd578",
   "metadata": {},
   "outputs": [
    {
     "name": "stdout",
     "output_type": "stream",
     "text": [
      "{}\n",
      "{}\n"
     ]
    }
   ],
   "source": [
    "print(reacanot.reac_dict_rhea)\n",
    "print(reacanot.reac_dict_kegg)"
   ]
  },
  {
   "cell_type": "code",
   "execution_count": 4,
   "id": "6381d0fc",
   "metadata": {},
   "outputs": [],
   "source": []
  },
  {
   "cell_type": "code",
   "execution_count": 5,
   "id": "a56a3455",
   "metadata": {},
   "outputs": [
    {
     "data": {
      "text/plain": [
       "{'M_glc__D_e': {'match_score': 1.0,\n",
       "  'chebi': ['CHEBI:17634', 'CHEBI:4167', 'CHEBI:42758'],\n",
       "  'formula2chebi': {'C6O6': ['CHEBI:17634', 'CHEBI:4167', 'CHEBI:42758']},\n",
       "  'formula': ['C6O6']}}"
      ]
     },
     "execution_count": 5,
     "metadata": {},
     "output_type": "execute_result"
    }
   ],
   "source": []
  },
  {
   "cell_type": "code",
   "execution_count": null,
   "id": "347792d6",
   "metadata": {},
   "outputs": [],
   "source": []
  }
 ],
 "metadata": {
  "kernelspec": {
   "display_name": "pyo",
   "language": "python",
   "name": "pyo"
  },
  "language_info": {
   "codemirror_mode": {
    "name": "ipython",
    "version": 3
   },
   "file_extension": ".py",
   "mimetype": "text/x-python",
   "name": "python",
   "nbconvert_exporter": "python",
   "pygments_lexer": "ipython3",
   "version": "3.8.8"
  }
 },
 "nbformat": 4,
 "nbformat_minor": 5
}
