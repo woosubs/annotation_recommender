{
 "cells": [
  {
   "cell_type": "code",
   "execution_count": 1,
   "id": "aa6ef371",
   "metadata": {},
   "outputs": [
    {
     "name": "stdout",
     "output_type": "stream",
     "text": [
      "(13651, 3790)\n"
     ]
    }
   ],
   "source": [
    "# create species annotation class\n",
    "import os\n",
    "import pickle\n",
    "import sys\n",
    "PROJ_DIR = \"/Users/woosubs/Desktop/AutomateAnnotation/AnnotationRecommender/\"\n",
    "MOD_DIR = os.path.join(PROJ_DIR, \"annotation_recommender\")\n",
    "sys.path.append(MOD_DIR)\n",
    "\n",
    "BIOMD_12 = 'BIOMD0000000012.xml'\n",
    "BASE_DIR = '/Users/woosubs/Desktop/AutomateAnnotation/'\n",
    "DATA_DIR = os.path.join(BASE_DIR, \"DATA\")\n",
    "ALGO_DIR = os.path.join(DATA_DIR, \"algo\")\n",
    "CHEBI_DIR = os.path.join(DATA_DIR, \"chebi\")\n",
    "RHEA_DIR = os.path.join(DATA_DIR, \"rhea\")\n",
    "BIOMODEL_DIR = os.path.join(DATA_DIR, \"biomodels/curated_biomodels_31mar2021\")\n",
    "BIGG_DIR = '/Users/woosubs/Desktop/AutomateAnnotation/DATA/bigg'\n",
    "ecoli_fpath = os.path.join(BIGG_DIR, \"e_coli_core.xml\")\n",
    "\n",
    "\n",
    "from annotation_recommender import species_annotation as sa\n",
    "from annotation_recommender import reaction_annotation as ra\n",
    "from annotation_recommender import constants as cn\n",
    "\n",
    "with open(os.path.join(CHEBI_DIR, 'chebi_shortened_formula_30apr2022.pickle'), 'rb') as f:\n",
    "  ref_shortened_chebi_to_formula = pickle.load(f)\n",
    "\n",
    "with open(os.path.join(CHEBI_DIR, 'chebi_synonyms.pickle'), 'rb') as f:\n",
    "  chebi_synonyms = pickle.load(f)\n",
    "chebi_low_synonyms = dict()\n",
    "for one_k in chebi_synonyms.keys():\n",
    "  chebi_low_synonyms[one_k] = list(set([val.lower() for val in chebi_synonyms[one_k]]))\n",
    "\n",
    "with open(os.path.join(RHEA_DIR, 'kegg2rhea_master.pickle'), 'rb') as handle:\n",
    "  ref_kegg2rhea_master = pickle.load(handle)\n",
    "with open(os.path.join(RHEA_DIR, 'kegg2rhea_bi.pickle'), 'rb') as handle:\n",
    "  ref_kegg2rhea_bi = pickle.load(handle)\n",
    "\n",
    "# load reference matrix\n",
    "with open(os.path.join(ALGO_DIR, 'binary_ref_df.pickle'), 'rb') as handle:\n",
    "    ref_mat = pickle.load(handle)\n",
    "# check its shape\n",
    "print(ref_mat.shape)"
   ]
  },
  {
   "cell_type": "code",
   "execution_count": 2,
   "id": "2f5f3bf0",
   "metadata": {},
   "outputs": [],
   "source": [
    "specanot = sa.SpeciesAnnotation(libsbml_fpath=ecoli_fpath)\n",
    "reacanot = ra.ReactionAnnotation(libsbml_fpath=ecoli_fpath)"
   ]
  },
  {
   "cell_type": "code",
   "execution_count": 3,
   "id": "f9a91844",
   "metadata": {},
   "outputs": [
    {
     "name": "stdout",
     "output_type": "stream",
     "text": [
      "{'R_PFK': ['RHEA:16112'], 'R_PFL': ['RHEA:11847'], 'R_PGK': ['RHEA:14804'], 'R_PGL': ['RHEA:12559'], 'R_ACALD': ['RHEA:23291'], 'R_AKGt2r': ['RHEA:29014'], 'R_PGM': ['RHEA:15904'], 'R_PIt2r': ['RHEA:29942'], 'R_ALCD2x': ['RHEA:25293'], 'R_ACKr': ['RHEA:11355'], 'R_PPC': ['RHEA:23075'], 'R_ACONTa': ['RHEA:10231'], 'R_ACONTb': ['RHEA:22147'], 'R_ATPM': ['RHEA:20855', 'RHEA:13068'], 'R_PPCK': ['RHEA:18620'], 'R_PPS': ['RHEA:11367'], 'R_ADK1': ['RHEA:12976'], 'R_AKGDH': ['RHEA:27789'], 'R_PTAr': ['RHEA:19524'], 'R_PYK': ['RHEA:18160'], 'R_RPE': ['RHEA:13680'], 'R_CS': ['RHEA:16848'], 'R_SUCCt2_2': ['RHEA:29306'], 'R_ENO': ['RHEA:10167'], 'R_SUCDi': ['RHEA:29190'], 'R_SUCOAS': ['RHEA:17664'], 'R_TALA': ['RHEA:17056'], 'R_TKT2': ['RHEA:27629'], 'R_TPI': ['RHEA:18588'], 'R_EX_ac_e': ['RHEA:27817'], 'R_EX_etoh_e': ['RHEA:35270'], 'R_EX_for_e': ['RHEA:29682'], 'R_EX_h_e': ['RHEA:34982'], 'R_EX_h2o_e': ['RHEA:29670'], 'R_EX_nh4_e': ['RHEA:28750'], 'R_EX_pi_e': ['RHEA:32826'], 'R_FBA': ['RHEA:14732'], 'R_FBP': ['RHEA:11067'], 'R_FORt': ['RHEA:29682'], 'R_FRD7': ['RHEA:29190'], 'R_FUM': ['RHEA:12463'], 'R_FUMt2_2': ['RHEA:29334'], 'R_G6PDH2r': ['RHEA:15844'], 'R_GAPD': ['RHEA:10303'], 'R_GLNS': ['RHEA:16172'], 'R_GLUDy': ['RHEA:11615'], 'R_GLUN': ['RHEA:15892'], 'R_GLUSy': ['RHEA:15504'], 'R_GND': ['RHEA:10119'], 'R_H2Ot': ['RHEA:29670'], 'R_ICDHyr': ['RHEA:19632'], 'R_ICL': ['RHEA:13248'], 'R_LDH_D': ['RHEA:16372'], 'R_MALS': ['RHEA:18184'], 'R_MALt2_2': ['RHEA:29342'], 'R_MDH': ['RHEA:21435'], 'R_ME1': ['RHEA:12656'], 'R_ME2': ['RHEA:18256'], 'R_NADTRHD': ['RHEA:11695'], 'R_NH4t': ['RHEA:28750'], 'R_PDH': ['RHEA:28045']}\n"
     ]
    }
   ],
   "source": [
    "print(reacanot.exist_annotation)"
   ]
  },
  {
   "cell_type": "code",
   "execution_count": null,
   "id": "2d79ea25",
   "metadata": {},
   "outputs": [],
   "source": []
  },
  {
   "cell_type": "code",
   "execution_count": null,
   "id": "0e1520a1",
   "metadata": {},
   "outputs": [],
   "source": []
  },
  {
   "cell_type": "code",
   "execution_count": null,
   "id": "7ba2ed64",
   "metadata": {},
   "outputs": [],
   "source": []
  },
  {
   "cell_type": "code",
   "execution_count": 7,
   "id": "7a5d43d0",
   "metadata": {},
   "outputs": [],
   "source": [
    "reacanot = ra.ReactionAnnotation(libsbml_fpath=os.path.join(BIOMODEL_DIR, BIOMD_12))"
   ]
  },
  {
   "cell_type": "code",
   "execution_count": 8,
   "id": "a5764f15",
   "metadata": {},
   "outputs": [
    {
     "name": "stdout",
     "output_type": "stream",
     "text": [
      "{}\n",
      "{}\n"
     ]
    }
   ],
   "source": [
    "print(reacanot.reac_dict_rhea)\n",
    "print(reacanot.reac_dict_kegg)"
   ]
  },
  {
   "cell_type": "code",
   "execution_count": 4,
   "id": "4099025c",
   "metadata": {},
   "outputs": [],
   "source": [
    "candidates_name = specanot.predictSpeciesCandidatesByName(['M_glc__D_e'])"
   ]
  },
  {
   "cell_type": "code",
   "execution_count": 5,
   "id": "274c14a8",
   "metadata": {},
   "outputs": [
    {
     "data": {
      "text/plain": [
       "{'M_glc__D_e': {'match_score': 1.0,\n",
       "  'chebi': ['CHEBI:17634', 'CHEBI:4167', 'CHEBI:42758'],\n",
       "  'formula2chebi': {'C6O6': ['CHEBI:17634', 'CHEBI:4167', 'CHEBI:42758']},\n",
       "  'formula': ['C6O6']}}"
      ]
     },
     "execution_count": 5,
     "metadata": {},
     "output_type": "execute_result"
    }
   ],
   "source": [
    "candidates_name"
   ]
  },
  {
   "cell_type": "code",
   "execution_count": null,
   "id": "54827fb7",
   "metadata": {},
   "outputs": [],
   "source": []
  }
 ],
 "metadata": {
  "kernelspec": {
   "display_name": "pyo",
   "language": "python",
   "name": "pyo"
  },
  "language_info": {
   "codemirror_mode": {
    "name": "ipython",
    "version": 3
   },
   "file_extension": ".py",
   "mimetype": "text/x-python",
   "name": "python",
   "nbconvert_exporter": "python",
   "pygments_lexer": "ipython3",
   "version": "3.8.8"
  }
 },
 "nbformat": 4,
 "nbformat_minor": 5
}
