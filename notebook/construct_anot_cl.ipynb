{
 "cells": [
  {
   "cell_type": "code",
   "execution_count": 1,
   "id": "b606bb5c",
   "metadata": {},
   "outputs": [
    {
     "name": "stdout",
     "output_type": "stream",
     "text": [
      "(13651, 3790)\n"
     ]
    }
   ],
   "source": [
    "# create species annotation class\n",
    "import os\n",
    "import pickle\n",
    "import sys\n",
    "PROJ_DIR = \"/Users/woosubs/Desktop/AutomateAnnotation/AnnotationRecommender/\"\n",
    "MOD_DIR = os.path.join(PROJ_DIR, \"annotation_recommender\")\n",
    "sys.path.append(MOD_DIR)\n",
    "\n",
    "BIOMD_12 = 'BIOMD0000000012.xml'\n",
    "BASE_DIR = '/Users/woosubs/Desktop/AutomateAnnotation/'\n",
    "DATA_DIR = os.path.join(BASE_DIR, \"DATA\")\n",
    "ALGO_DIR = os.path.join(DATA_DIR, \"algo\")\n",
    "CHEBI_DIR = os.path.join(DATA_DIR, \"chebi\")\n",
    "RHEA_DIR = os.path.join(DATA_DIR, \"rhea\")\n",
    "BIOMODEL_DIR = os.path.join(DATA_DIR, \"biomodels/curated_biomodels_31mar2021\")\n",
    "BIGG_DIR = '/Users/woosubs/Desktop/AutomateAnnotation/DATA/bigg'\n",
    "ecoli_fpath = os.path.join(BIGG_DIR, \"e_coli_core.xml\")\n",
    "\n",
    "\n",
    "from annotation_recommender import species_annotation as sa\n",
    "from annotation_recommender import constants as cn\n",
    "\n",
    "with open(os.path.join(CHEBI_DIR, 'chebi_shortened_formula_30apr2022.pickle'), 'rb') as f:\n",
    "  ref_shortened_chebi_to_formula = pickle.load(f)\n",
    "\n",
    "with open(os.path.join(CHEBI_DIR, 'chebi_synonyms.pickle'), 'rb') as f:\n",
    "  chebi_synonyms = pickle.load(f)\n",
    "chebi_low_synonyms = dict()\n",
    "for one_k in chebi_synonyms.keys():\n",
    "  chebi_low_synonyms[one_k] = list(set([val.lower() for val in chebi_synonyms[one_k]]))\n",
    "\n",
    "with open(os.path.join(RHEA_DIR, 'kegg2rhea_master.pickle'), 'rb') as handle:\n",
    "  ref_kegg2rhea_master = pickle.load(handle)\n",
    "with open(os.path.join(RHEA_DIR, 'kegg2rhea_bi.pickle'), 'rb') as handle:\n",
    "  ref_kegg2rhea_bi = pickle.load(handle)\n",
    "\n",
    "# load reference matrix\n",
    "with open(os.path.join(ALGO_DIR, 'binary_ref_df.pickle'), 'rb') as handle:\n",
    "    ref_mat = pickle.load(handle)\n",
    "# check its shape\n",
    "print(ref_mat.shape)"
   ]
  },
  {
   "cell_type": "code",
   "execution_count": 2,
   "id": "15254956",
   "metadata": {},
   "outputs": [],
   "source": [
    "specanot = sa.SpeciesAnnotation(libsbml_fpath=ecoli_fpath)"
   ]
  },
  {
   "cell_type": "code",
   "execution_count": 3,
   "id": "3cb69765",
   "metadata": {},
   "outputs": [
    {
     "name": "stdout",
     "output_type": "stream",
     "text": [
      "{'M_glc__D_e': ['C6O6'], 'M_gln__L_c': ['C5N2O3'], 'M_gln__L_e': ['C5N2O3'], 'M_glu__L_c': ['C5NO4'], 'M_glu__L_e': ['C5NO4'], 'M_glx_c': ['C2O3'], 'M_h2o_c': ['[18O]', 'O'], 'M_h2o_e': ['[18O]', 'O'], 'M_h_c': ['H'], 'M_h_e': ['H'], 'M_icit_c': ['C6O7'], 'M_lac__D_c': ['C3O3'], 'M_lac__D_e': ['C3O3'], 'M_mal__L_c': ['C4O5'], 'M_mal__L_e': ['C4O5'], 'M_nad_c': ['C21N7O14P2'], 'M_nadh_c': ['C21N7O14P2'], 'M_nadp_c': ['C21N7O17P3'], 'M_nadph_c': ['C21N7O17P3'], 'M_nh4_c': ['N', '[13N]'], 'M_13dpg_c': ['C3O10P2'], 'M_nh4_e': ['N', '[13N]'], 'M_o2_c': ['O2'], 'M_2pg_c': ['C3O7P'], 'M_o2_e': ['O2'], 'M_3pg_c': ['C3O7P'], 'M_oaa_c': ['C4O5'], 'M_pep_c': ['C3O6P'], 'M_6pgc_c': ['C6O10P'], 'M_pi_c': ['O4P'], 'M_6pgl_c': ['C6O9P'], 'M_pi_e': ['O4P'], 'M_ac_c': ['C2O2'], 'M_pyr_c': ['C3O3'], 'M_pyr_e': ['C3O3'], 'M_q8_c': ['C49O4'], 'M_q8h2_c': ['C49O4'], 'M_r5p_c': ['C5O8P'], 'M_ru5p__D_c': ['C5O8P'], 'M_ac_e': ['C2O2'], 'M_acald_c': ['C2O'], 'M_s7p_c': ['C7O10P'], 'M_acald_e': ['C2O'], 'M_accoa_c': ['C23N7O17P3S'], 'M_succ_c': ['C4O4'], 'M_succ_e': ['C4O4'], 'M_succoa_c': ['C25N7O19P3S'], 'M_acon_C_c': ['C6O6'], 'M_xu5p__D_c': ['C5O8P'], 'M_actp_c': ['C2O5P'], 'M_adp_c': ['C10N5O10P2'], 'M_akg_c': ['C5O5'], 'M_akg_e': ['C5O5'], 'M_amp_c': ['C10N5O7P'], 'M_atp_c': ['C10N5O13P3'], 'M_cit_c': ['C6O7'], 'M_co2_c': ['CO2'], 'M_co2_e': ['CO2'], 'M_coa_c': ['C21N7O16P3S'], 'M_dhap_c': ['C3O6P'], 'M_e4p_c': ['C4O7P'], 'M_etoh_c': ['C2O'], 'M_etoh_e': ['C2O'], 'M_f6p_c': ['C6O9P'], 'M_fdp_c': ['C6O12P2'], 'M_for_c': ['CO2'], 'M_for_e': ['CO2'], 'M_fru_e': ['C6O6'], 'M_fum_c': ['C4O4'], 'M_fum_e': ['C4O4'], 'M_g3p_c': ['C3O6P'], 'M_g6p_c': ['C6O9P']}\n"
     ]
    }
   ],
   "source": [
    "print(specanot.spec_dict)"
   ]
  },
  {
   "cell_type": "code",
   "execution_count": 4,
   "id": "89054a5d",
   "metadata": {},
   "outputs": [],
   "source": [
    "candidates_name = specanot.predictSpeciesCandidatesByName(['M_glc__D_e'])"
   ]
  },
  {
   "cell_type": "code",
   "execution_count": 5,
   "id": "5e780690",
   "metadata": {},
   "outputs": [
    {
     "data": {
      "text/plain": [
       "{'M_glc__D_e': {'match_score': 1.0,\n",
       "  'chebi': ['CHEBI:17634', 'CHEBI:4167', 'CHEBI:42758'],\n",
       "  'formula2chebi': {'C6O6': ['CHEBI:17634', 'CHEBI:4167', 'CHEBI:42758']},\n",
       "  'formula': ['C6O6']}}"
      ]
     },
     "execution_count": 5,
     "metadata": {},
     "output_type": "execute_result"
    }
   ],
   "source": [
    "candidates_name"
   ]
  },
  {
   "cell_type": "code",
   "execution_count": null,
   "id": "f18ac76d",
   "metadata": {},
   "outputs": [],
   "source": []
  }
 ],
 "metadata": {
  "kernelspec": {
   "display_name": "pyo",
   "language": "python",
   "name": "pyo"
  },
  "language_info": {
   "codemirror_mode": {
    "name": "ipython",
    "version": 3
   },
   "file_extension": ".py",
   "mimetype": "text/x-python",
   "name": "python",
   "nbconvert_exporter": "python",
   "pygments_lexer": "ipython3",
   "version": "3.8.8"
  }
 },
 "nbformat": 4,
 "nbformat_minor": 5
}
