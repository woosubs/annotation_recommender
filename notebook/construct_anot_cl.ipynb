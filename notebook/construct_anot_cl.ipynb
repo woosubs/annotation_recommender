{
 "cells": [
  {
   "cell_type": "code",
   "execution_count": 17,
   "id": "81419da2",
   "metadata": {},
   "outputs": [
    {
     "name": "stdout",
     "output_type": "stream",
     "text": [
      "(13651, 3790)\n"
     ]
    }
   ],
   "source": [
    "# create species annotation class\n",
    "import numpy as np\n",
    "import os\n",
    "import pickle\n",
    "import pandas as pd\n",
    "import sys\n",
    "PROJ_DIR = \"/Users/woosubs/Desktop/AutomateAnnotation/AnnotationRecommender/\"\n",
    "MOD_DIR = os.path.join(PROJ_DIR, \"annotation_recommender\")\n",
    "sys.path.append(MOD_DIR)\n",
    "\n",
    "BIOMD_12 = 'BIOMD0000000012.xml'\n",
    "BASE_DIR = '/Users/woosubs/Desktop/AutomateAnnotation/'\n",
    "DATA_DIR = os.path.join(BASE_DIR, \"DATA\")\n",
    "ALGO_DIR = os.path.join(DATA_DIR, \"algo\")\n",
    "CHEBI_DIR = os.path.join(DATA_DIR, \"chebi\")\n",
    "RHEA_DIR = os.path.join(DATA_DIR, \"rhea\")\n",
    "BIOMODEL_DIR = os.path.join(DATA_DIR, \"biomodels/curated_biomodels_31mar2021\")\n",
    "BIGG_DIR = '/Users/woosubs/Desktop/AutomateAnnotation/DATA/bigg'\n",
    "ecoli_fpath = os.path.join(BIGG_DIR, \"e_coli_core.xml\")\n",
    "\n",
    "\n",
    "from annotation_recommender import species_annotation as sa\n",
    "from annotation_recommender import reaction_annotation as ra\n",
    "from annotation_recommender import constants as cn\n",
    "from annotation_recommender import iterator as it\n",
    "from annotation_recommender import tools\n",
    "\n",
    "# chebi to shortened formula\n",
    "with open(os.path.join(CHEBI_DIR, 'chebi_shortened_formula_30apr2022.pickle'), 'rb') as f:\n",
    "  ref_shortened_chebi_to_formula = pickle.load(f)\n",
    "# shortened formula to chebi\n",
    "with open(os.path.join(CHEBI_DIR, 'shortened_formula_to_chebis_20jul2022.pickle'), 'rb') as f:\n",
    "  ref_shortened_formula_to_chebi = pickle.load(f)\n",
    "\n",
    "with open(os.path.join(CHEBI_DIR, 'chebi_synonyms.pickle'), 'rb') as f:\n",
    "  chebi_synonyms = pickle.load(f)\n",
    "chebi_low_synonyms = dict()\n",
    "for one_k in chebi_synonyms.keys():\n",
    "  chebi_low_synonyms[one_k] = list(set([val.lower() for val in chebi_synonyms[one_k]]))\n",
    "\n",
    "with open(os.path.join(RHEA_DIR, 'kegg2rhea_master.pickle'), 'rb') as handle:\n",
    "  ref_kegg2rhea_master = pickle.load(handle)\n",
    "with open(os.path.join(RHEA_DIR, 'kegg2rhea_bi.pickle'), 'rb') as handle:\n",
    "  ref_kegg2rhea_bi = pickle.load(handle)\n",
    "\n",
    "# load reference matrix\n",
    "with open(os.path.join(ALGO_DIR, 'binary_ref_df.pickle'), 'rb') as handle:\n",
    "    ref_mat = pickle.load(handle)\n",
    "# check its shape\n",
    "print(ref_mat.shape)"
   ]
  },
  {
   "cell_type": "code",
   "execution_count": 2,
   "id": "b37dc4bd",
   "metadata": {},
   "outputs": [],
   "source": [
    "specanot = sa.SpeciesAnnotation(libsbml_fpath=ecoli_fpath)\n",
    "reacanot = ra.ReactionAnnotation(libsbml_fpath=ecoli_fpath)"
   ]
  },
  {
   "cell_type": "code",
   "execution_count": 3,
   "id": "14820d9d",
   "metadata": {},
   "outputs": [
    {
     "name": "stdout",
     "output_type": "stream",
     "text": [
      "{'R_PFK': ['RHEA:16112'], 'R_PFL': ['RHEA:11847'], 'R_PGK': ['RHEA:14804'], 'R_PGL': ['RHEA:12559'], 'R_ACALD': ['RHEA:23291'], 'R_AKGt2r': ['RHEA:29014'], 'R_PGM': ['RHEA:15904'], 'R_PIt2r': ['RHEA:29942'], 'R_ALCD2x': ['RHEA:25293'], 'R_ACKr': ['RHEA:11355'], 'R_PPC': ['RHEA:23075'], 'R_ACONTa': ['RHEA:10231'], 'R_ACONTb': ['RHEA:22147'], 'R_ATPM': ['RHEA:13068', 'RHEA:20855'], 'R_PPCK': ['RHEA:18620'], 'R_PPS': ['RHEA:11367'], 'R_ADK1': ['RHEA:12976'], 'R_AKGDH': ['RHEA:27789'], 'R_PTAr': ['RHEA:19524'], 'R_PYK': ['RHEA:18160'], 'R_RPE': ['RHEA:13680'], 'R_CS': ['RHEA:16848'], 'R_SUCCt2_2': ['RHEA:29306'], 'R_ENO': ['RHEA:10167'], 'R_SUCDi': ['RHEA:29190'], 'R_SUCOAS': ['RHEA:17664'], 'R_TALA': ['RHEA:17056'], 'R_TKT2': ['RHEA:27629'], 'R_TPI': ['RHEA:18588'], 'R_EX_ac_e': ['RHEA:27817'], 'R_EX_etoh_e': ['RHEA:35270'], 'R_EX_for_e': ['RHEA:29682'], 'R_EX_h_e': ['RHEA:34982'], 'R_EX_h2o_e': ['RHEA:29670'], 'R_EX_nh4_e': ['RHEA:28750'], 'R_EX_pi_e': ['RHEA:32826'], 'R_FBA': ['RHEA:14732'], 'R_FBP': ['RHEA:11067'], 'R_FORt': ['RHEA:29682'], 'R_FRD7': ['RHEA:29190'], 'R_FUM': ['RHEA:12463'], 'R_FUMt2_2': ['RHEA:29334'], 'R_G6PDH2r': ['RHEA:15844'], 'R_GAPD': ['RHEA:10303'], 'R_GLNS': ['RHEA:16172'], 'R_GLUDy': ['RHEA:11615'], 'R_GLUN': ['RHEA:15892'], 'R_GLUSy': ['RHEA:15504'], 'R_GND': ['RHEA:10119'], 'R_H2Ot': ['RHEA:29670'], 'R_ICDHyr': ['RHEA:19632'], 'R_ICL': ['RHEA:13248'], 'R_LDH_D': ['RHEA:16372'], 'R_MALS': ['RHEA:18184'], 'R_MALt2_2': ['RHEA:29342'], 'R_MDH': ['RHEA:21435'], 'R_ME1': ['RHEA:12656'], 'R_ME2': ['RHEA:18256'], 'R_NADTRHD': ['RHEA:11695'], 'R_NH4t': ['RHEA:28750'], 'R_PDH': ['RHEA:28045']}\n",
      "['M_glc__D_e', 'M_gln__L_c', 'M_gln__L_e', 'M_glu__L_c', 'M_glu__L_e', 'M_glx_c', 'M_h2o_c', 'M_h2o_e', 'M_h_c', 'M_h_e', 'M_icit_c', 'M_lac__D_c', 'M_lac__D_e', 'M_mal__L_c', 'M_mal__L_e', 'M_nad_c', 'M_nadh_c', 'M_nadp_c', 'M_nadph_c', 'M_nh4_c', 'M_13dpg_c', 'M_nh4_e', 'M_o2_c', 'M_2pg_c', 'M_o2_e', 'M_3pg_c', 'M_oaa_c', 'M_pep_c', 'M_6pgc_c', 'M_pi_c', 'M_6pgl_c', 'M_pi_e', 'M_ac_c', 'M_pyr_c', 'M_pyr_e', 'M_q8_c', 'M_q8h2_c', 'M_r5p_c', 'M_ru5p__D_c', 'M_ac_e', 'M_acald_c', 'M_s7p_c', 'M_acald_e', 'M_accoa_c', 'M_succ_c', 'M_succ_e', 'M_succoa_c', 'M_acon_C_c', 'M_xu5p__D_c', 'M_actp_c', 'M_adp_c', 'M_akg_c', 'M_akg_e', 'M_amp_c', 'M_atp_c', 'M_cit_c', 'M_co2_c', 'M_co2_e', 'M_coa_c', 'M_dhap_c', 'M_e4p_c', 'M_etoh_c', 'M_etoh_e', 'M_f6p_c', 'M_fdp_c', 'M_for_c', 'M_for_e', 'M_fru_e', 'M_fum_c', 'M_fum_e', 'M_g3p_c', 'M_g6p_c']\n"
     ]
    }
   ],
   "source": [
    "print(reacanot.exist_annotation)\n",
    "print([val.getId() for val in specanot.model.getListOfSpecies()])"
   ]
  },
  {
   "cell_type": "code",
   "execution_count": 4,
   "id": "284e80e5",
   "metadata": {},
   "outputs": [
    {
     "name": "stdout",
     "output_type": "stream",
     "text": [
      "['M_adp_c', 'M_h_c', 'M_fdp_c', 'M_atp_c', 'M_f6p_c']\n",
      "['M_adp_c', 'M_h_c', 'M_fdp_c', 'M_atp_c', 'M_f6p_c']\n"
     ]
    }
   ],
   "source": [
    "one_comps = reacanot.getReactionComponents('R_PFK')\n",
    "print(one_comps)\n",
    "two_comps = reacanot.getReactionComponents(reacanot.model.getReaction('R_PFK'))\n",
    "print(two_comps)"
   ]
  },
  {
   "cell_type": "code",
   "execution_count": 5,
   "id": "0484b8a8",
   "metadata": {},
   "outputs": [],
   "source": [
    "spec_pred_annotations = specanot.predictAnnotationByName(inp_spec_list=one_comps)"
   ]
  },
  {
   "cell_type": "code",
   "execution_count": 6,
   "id": "5f1cf2b4",
   "metadata": {},
   "outputs": [
    {
     "name": "stdout",
     "output_type": "stream",
     "text": [
      "{'M_adp_c': 0.3529411764705882, 'M_h_c': 1.0, 'M_fdp_c': 1.0, 'M_atp_c': 0.4117647058823529, 'M_f6p_c': 1.0}\n",
      "{'M_adp_c': ['CHEBI:135736', 'CHEBI:456216', 'CHEBI:147398', 'CHEBI:151629', 'CHEBI:152534', 'CHEBI:153980', 'CHEBI:167004', 'CHEBI:167672', 'CHEBI:182955', 'CHEBI:28498', 'CHEBI:31899', 'CHEBI:32411', 'CHEBI:36331', 'CHEBI:42870', 'CHEBI:63450', 'CHEBI:63452', 'CHEBI:68840', 'CHEBI:72990', 'CHEBI:75998', 'CHEBI:77390', 'CHEBI:78443', 'CHEBI:88249', 'CHEBI:89713', 'CHEBI:90217', 'CHEBI:90304', 'CHEBI:90695', 'CHEBI:93296'], 'M_h_c': ['CHEBI:15378'], 'M_fdp_c': ['CHEBI:16905', 'CHEBI:49299'], 'M_atp_c': ['CHEBI:135736', 'CHEBI:182955'], 'M_f6p_c': ['CHEBI:15946', 'CHEBI:57579', 'CHEBI:61553', 'CHEBI:61527']}\n",
      "{'M_adp_c': ['C19N2O2S', 'C19O9P', 'C17Cl2F3N7O2S', 'C21ClN3O2', 'C28N6OS', 'C35N4O4', 'C101N7O75', 'C18N4O11', 'C20N2O5S', 'C19O2', 'C26FIN5O4', 'C9N4O5', 'C10N5O10P2', 'C16NO6', 'C26N7O2S', 'C27O5', 'C14N2O', 'C18O2', 'C20O4', 'C12', 'C115N8O85', 'C18ClN2O6S2', 'C8NO6', 'C16F3IN2O4', 'C29N6O4S'], 'M_h_c': ['H'], 'M_fdp_c': ['C6O12P2'], 'M_atp_c': ['C18ClN2O6S2', 'C20O4'], 'M_f6p_c': ['C6O9P']}\n"
     ]
    }
   ],
   "source": [
    "print(specanot.match_score)\n",
    "print(specanot.chebi)\n",
    "print(specanot.formula)"
   ]
  },
  {
   "cell_type": "code",
   "execution_count": 7,
   "id": "360a8c64",
   "metadata": {},
   "outputs": [],
   "source": [
    "reac_pred_annotations = reacanot.predictAnnotation(inp_spec_dict=specanot.formula,\n",
    "                                                   inp_reac_list=['R_PFK'],\n",
    "                                                   inp_ref_mat=ref_mat)"
   ]
  },
  {
   "cell_type": "code",
   "execution_count": 8,
   "id": "862bb503",
   "metadata": {},
   "outputs": [
    {
     "data": {
      "text/plain": [
       "0.8"
      ]
     },
     "execution_count": 8,
     "metadata": {},
     "output_type": "execute_result"
    }
   ],
   "source": [
    "reacanot.sum_match_score"
   ]
  },
  {
   "cell_type": "code",
   "execution_count": 9,
   "id": "74455a19",
   "metadata": {},
   "outputs": [
    {
     "data": {
      "text/plain": [
       "{'M_atp_c': ['CHEBI:30616']}"
      ]
     },
     "execution_count": 9,
     "metadata": {},
     "output_type": "execute_result"
    }
   ],
   "source": [
    "reacanot.updateSpeciesByAReaction(inp_rid='R_PFK', inp_spec_dict=specanot.formula,\n",
    "                                 inp_rhea='RHEA:12423', inp_ref_mat=ref_mat)"
   ]
  },
  {
   "cell_type": "code",
   "execution_count": 10,
   "id": "42ad8ff9",
   "metadata": {},
   "outputs": [
    {
     "data": {
      "text/plain": [
       "['CHEBI:135736', 'CHEBI:182955']"
      ]
     },
     "execution_count": 10,
     "metadata": {},
     "output_type": "execute_result"
    }
   ],
   "source": [
    "specanot.chebi['M_atp_c']"
   ]
  },
  {
   "cell_type": "code",
   "execution_count": null,
   "id": "a6f4ca17",
   "metadata": {},
   "outputs": [],
   "source": []
  },
  {
   "cell_type": "code",
   "execution_count": null,
   "id": "bad8a852",
   "metadata": {},
   "outputs": [],
   "source": [
    "# TODO: Update iterate function"
   ]
  },
  {
   "cell_type": "code",
   "execution_count": 2,
   "id": "94314dc7",
   "metadata": {},
   "outputs": [],
   "source": [
    "specanot = sa.SpeciesAnnotation(libsbml_fpath=ecoli_fpath)\n",
    "reacanot = ra.ReactionAnnotation(libsbml_fpath=ecoli_fpath)\n",
    "\n",
    "spec_pred_annotations = specanot.predictAnnotationByName(inp_spec_list=None)\n",
    "reac_pred_annotations = reacanot.predictAnnotation(inp_spec_dict=specanot.formula,\n",
    "                                                   inp_reac_list=None,\n",
    "                                                   inp_ref_mat=ref_mat,\n",
    "                                                   update=True)"
   ]
  },
  {
   "cell_type": "code",
   "execution_count": 21,
   "id": "2931f6f8",
   "metadata": {},
   "outputs": [],
   "source": [
    "# ranked_one_cands = dict()\n",
    "# for one_k in reacanot.match_score.keys():\n",
    "#   one_itm = pd.DataFrame.from_dict(reacanot.match_score[one_k], orient='index', columns=['match_score'])\n",
    "#   one_itm.sort_values(ascending=False, by='match_score', inplace=True)\n",
    "#   ranked_one_cands[one_k] = [one_itm.index[0]]"
   ]
  },
  {
   "cell_type": "code",
   "execution_count": 15,
   "id": "00b089e2",
   "metadata": {},
   "outputs": [],
   "source": [
    "cur_candidates_dict = reacanot.candidates\n",
    "cur_spec_formula_dict = specanot.formula\n",
    "cur_reac_match_score = reacanot.sum_match_score\n",
    "cur_one_cands = reacanot.one_candidates\n",
    "num_iter=10\n",
    "show_message=True"
   ]
  },
  {
   "cell_type": "code",
   "execution_count": 16,
   "id": "8d006df0",
   "metadata": {},
   "outputs": [
    {
     "name": "stdout",
     "output_type": "stream",
     "text": [
      "Initial match score: 82.94\n",
      "*************************\n",
      "Iteration 1\n",
      "Updated match score: 89.97\n",
      "*************************\n",
      "Iteration 2\n",
      "Updated match score: 90.17\n",
      "*************************\n",
      "Iteration 3\n",
      "Updated match score: 90.17\n",
      "Score not increasing. Quitting iteration...\n"
     ]
    }
   ],
   "source": [
    "flag = False\n",
    "if show_message:\n",
    "  print(\"Initial match score: %.02f\" % cur_reac_match_score)\n",
    "  print(\"*************************\")\n",
    "for rep in range(0, num_iter):\n",
    "  if flag:\n",
    "    break\n",
    "  if show_message:\n",
    "    print(\"Iteration %d\" % (rep+1))\n",
    "  # updated chebi values\n",
    "  all_upd_spec = dict()\n",
    "  for one_k in cur_one_cands.keys():\n",
    "    one_upd_spec = reacanot.updateSpeciesByAReaction(inp_rid=one_k,\n",
    "                                                     inp_spec_dict=cur_spec_formula_dict,\n",
    "                                                     inp_rhea=cur_one_cands[one_k][0],\n",
    "                                                     inp_ref_mat=ref_mat)\n",
    "    all_upd_spec = tools.updateDictKeyToList(all_upd_spec, one_upd_spec)\n",
    "\n",
    "  # update species dictionary to use\n",
    "  upd_spec_formula_dict = dict()\n",
    "  for one_k in cur_spec_formula_dict.keys():\n",
    "    if one_k in all_upd_spec.keys():\n",
    "      upd_spec_formula_dict[one_k] = list(set([ref_shortened_chebi_to_formula[val] for val in all_upd_spec[one_k]]))\n",
    "    else:\n",
    "      upd_spec_formula_dict[one_k] = cur_spec_formula_dict[one_k]\n",
    "\n",
    "  # Using upd_spec_formula_dict, predict reaction again\n",
    "  new_res_df = reacanot.predictAnnotation(inp_spec_dict=upd_spec_formula_dict,\n",
    "                                          inp_reac_list=None,\n",
    "                                          inp_ref_mat=ref_mat,\n",
    "                                          update=False)\n",
    "#\n",
    "  upd_reac_match_score = new_res_df['sum_match_score']\n",
    "  # Check wheter to continue;\n",
    "  if upd_reac_match_score > cur_reac_match_score:\n",
    "    cur_candidates_dict = new_res_df['candidates']\n",
    "    cur_one_cands = new_res_df['one_candidates']\n",
    "    cur_spec_formula_dict = upd_spec_formula_dict\n",
    "    cur_reac_match_score = upd_reac_match_score\n",
    "    if show_message:\n",
    "      print(\"Updated match score: %.02f\" % cur_reac_match_score)\n",
    "      print(\"*************************\")\n",
    "  else:\n",
    "    flag = True\n",
    "    if show_message:\n",
    "      print(\"Updated match score: %.02f\" % cur_reac_match_score)\n",
    "      print(\"Score not increasing. Quitting iteration...\")\n",
    "# if show_message:\n",
    "# print(\"\\nCalculation finished.\")\n",
    "# return cur_candidates_dict, cur_spec_formula_dict, cur_reac_match_score, new_query_df, rep"
   ]
  },
  {
   "cell_type": "code",
   "execution_count": 12,
   "id": "0bfcf4ba",
   "metadata": {},
   "outputs": [
    {
     "data": {
      "text/plain": [
       "{'M_atp_c': ['CHEBI:30616', 'CHEBI:16838'],\n",
       " 'M_h2o_c': ['CHEBI:15377'],\n",
       " 'M_co2_c': ['CHEBI:16526'],\n",
       " 'M_icit_c': ['CHEBI:57992']}"
      ]
     },
     "execution_count": 12,
     "metadata": {},
     "output_type": "execute_result"
    }
   ],
   "source": [
    "all_upd_spec"
   ]
  },
  {
   "cell_type": "code",
   "execution_count": 10,
   "id": "4d0befbb",
   "metadata": {},
   "outputs": [
    {
     "data": {
      "text/plain": [
       "{'M_glc__D_e': ['C6O6'],\n",
       " 'M_gln__L_c': ['C5N2O2', 'C5N2O3'],\n",
       " 'M_gln__L_e': ['C5N2O2', 'C5N2O3'],\n",
       " 'M_glu__L_c': ['C5NO4'],\n",
       " 'M_glu__L_e': ['C5NO4'],\n",
       " 'M_glx_c': ['C2O3'],\n",
       " 'M_h2o_c': ['O'],\n",
       " 'M_h2o_e': ['O5P2', 'AsO', 'NO', 'N2', 'O2', 'OSb', 'OP'],\n",
       " 'M_h_c': ['H'],\n",
       " 'M_h_e': ['H'],\n",
       " 'M_icit_c': ['C6O7'],\n",
       " 'M_lac__D_c': ['C3O3'],\n",
       " 'M_lac__D_e': ['C3O3'],\n",
       " 'M_mal__L_c': ['C4O5'],\n",
       " 'M_mal__L_e': ['C4O5'],\n",
       " 'M_nad_c': ['C21N7O14P2'],\n",
       " 'M_nadh_c': ['C21N7O14P2'],\n",
       " 'M_nadp_c': ['C21N7O17P3'],\n",
       " 'M_nadph_c': ['C21N7O17P3'],\n",
       " 'M_nh4_c': ['N'],\n",
       " 'M_13dpg_c': ['C3O10P2'],\n",
       " 'M_nh4_e': ['N'],\n",
       " 'M_o2_c': ['CaO4', 'Cl2O2', 'F2O2', 'O2', 'N2O4', 'O2S'],\n",
       " 'M_2pg_c': ['C3O7P'],\n",
       " 'M_o2_e': ['CaO4', 'Cl2O2', 'F2O2', 'O2', 'N2O4', 'O2S'],\n",
       " 'M_3pg_c': ['C3O7P'],\n",
       " 'M_oaa_c': ['C4O5'],\n",
       " 'M_pep_c': ['C3O6P'],\n",
       " 'M_6pgc_c': ['C6O10P'],\n",
       " 'M_pi_c': ['O4P'],\n",
       " 'M_6pgl_c': ['C6O9P'],\n",
       " 'M_pi_e': ['O4P'],\n",
       " 'M_ac_c': ['C2O2', 'C2O2R'],\n",
       " 'M_pyr_c': ['C3O3'],\n",
       " 'M_pyr_e': ['C3O3'],\n",
       " 'M_q8_c': ['C49O4'],\n",
       " 'M_q8h2_c': ['C49O4'],\n",
       " 'M_r5p_c': ['C5O8P'],\n",
       " 'M_ru5p__D_c': ['C5O8P'],\n",
       " 'M_ac_e': ['C2O2', 'C2O2R'],\n",
       " 'M_acald_c': ['C2O'],\n",
       " 'M_s7p_c': ['C7O10P'],\n",
       " 'M_acald_e': ['C2O'],\n",
       " 'M_accoa_c': ['C23N7O17P3S'],\n",
       " 'M_succ_c': ['C4O4'],\n",
       " 'M_succ_e': ['C4O4'],\n",
       " 'M_succoa_c': ['C25N7O19P3S'],\n",
       " 'M_acon_C_c': ['C6O6'],\n",
       " 'M_xu5p__D_c': ['C5O8P'],\n",
       " 'M_actp_c': ['C2O5P'],\n",
       " 'M_adp_c': ['C12',\n",
       "  'C18N4O11',\n",
       "  'C29N6O4S',\n",
       "  'C115N8O85',\n",
       "  'C16NO6',\n",
       "  'C14N2O',\n",
       "  'C26N7O2S',\n",
       "  'C35N4O4',\n",
       "  'C17Cl2F3N7O2S',\n",
       "  'C18O2',\n",
       "  'C16F3IN2O4',\n",
       "  'C27O5',\n",
       "  'C10N5O10P2',\n",
       "  'C19N2O2S',\n",
       "  'C19O2',\n",
       "  'C19O9P',\n",
       "  'C101N7O75',\n",
       "  'C26FIN5O4',\n",
       "  'C18ClN2O6S2',\n",
       "  'C28N6OS',\n",
       "  'C21ClN3O2',\n",
       "  'C20N2O5S',\n",
       "  'C8NO6',\n",
       "  'C20O4',\n",
       "  'C9N4O5'],\n",
       " 'M_akg_c': ['C5O5'],\n",
       " 'M_akg_e': ['C5O5'],\n",
       " 'M_amp_c': ['C22O2',\n",
       "  'C19FN3O4',\n",
       "  'C28F3N7O',\n",
       "  'C10N5O7P',\n",
       "  'C20N2O5S',\n",
       "  'C14N2O',\n",
       "  'C53NO14P',\n",
       "  'C82N5O20',\n",
       "  'C31N2O7',\n",
       "  'C17Cl2F3N7O2S'],\n",
       " 'M_atp_c': ['C10N5O13P3', '(O3P)nO'],\n",
       " 'M_cit_c': ['C6O7'],\n",
       " 'M_co2_c': ['CO2'],\n",
       " 'M_co2_e': ['Cl2Co',\n",
       "  'C2IO2',\n",
       "  'Cl2O2S',\n",
       "  'Cl2O2',\n",
       "  'CaO4',\n",
       "  'N2O4',\n",
       "  'C40NO3',\n",
       "  'CCl2O',\n",
       "  'C2'],\n",
       " 'M_coa_c': ['C21N7O16P3S'],\n",
       " 'M_dhap_c': ['C3O6P'],\n",
       " 'M_e4p_c': ['C4O7P'],\n",
       " 'M_etoh_c': ['C2O'],\n",
       " 'M_etoh_e': ['C2O'],\n",
       " 'M_f6p_c': ['C6O9P'],\n",
       " 'M_fdp_c': ['C6O12P2'],\n",
       " 'M_for_c': ['CO2'],\n",
       " 'M_for_e': ['CO2'],\n",
       " 'M_fru_e': ['C6O6'],\n",
       " 'M_fum_c': ['C4O4'],\n",
       " 'M_fum_e': ['C4O4'],\n",
       " 'M_g3p_c': ['C3O6P'],\n",
       " 'M_g6p_c': ['C6O9P']}"
      ]
     },
     "execution_count": 10,
     "metadata": {},
     "output_type": "execute_result"
    }
   ],
   "source": [
    "upd_spec_formula_dict"
   ]
  },
  {
   "cell_type": "code",
   "execution_count": null,
   "id": "3380ef78",
   "metadata": {},
   "outputs": [],
   "source": [
    "# BioModels"
   ]
  },
  {
   "cell_type": "code",
   "execution_count": 7,
   "id": "e77feb21",
   "metadata": {},
   "outputs": [],
   "source": [
    "reacanot = ra.ReactionAnnotation(libsbml_fpath=os.path.join(BIOMODEL_DIR, BIOMD_12))"
   ]
  },
  {
   "cell_type": "code",
   "execution_count": 8,
   "id": "f5ba5cc5",
   "metadata": {},
   "outputs": [
    {
     "name": "stdout",
     "output_type": "stream",
     "text": [
      "{}\n",
      "{}\n"
     ]
    }
   ],
   "source": [
    "print(reacanot.reac_dict_rhea)\n",
    "print(reacanot.reac_dict_kegg)"
   ]
  },
  {
   "cell_type": "code",
   "execution_count": 4,
   "id": "2855e118",
   "metadata": {},
   "outputs": [],
   "source": []
  },
  {
   "cell_type": "code",
   "execution_count": 5,
   "id": "e44f00e6",
   "metadata": {},
   "outputs": [
    {
     "data": {
      "text/plain": [
       "{'M_glc__D_e': {'match_score': 1.0,\n",
       "  'chebi': ['CHEBI:17634', 'CHEBI:4167', 'CHEBI:42758'],\n",
       "  'formula2chebi': {'C6O6': ['CHEBI:17634', 'CHEBI:4167', 'CHEBI:42758']},\n",
       "  'formula': ['C6O6']}}"
      ]
     },
     "execution_count": 5,
     "metadata": {},
     "output_type": "execute_result"
    }
   ],
   "source": []
  },
  {
   "cell_type": "code",
   "execution_count": null,
   "id": "740879ff",
   "metadata": {},
   "outputs": [],
   "source": []
  }
 ],
 "metadata": {
  "kernelspec": {
   "display_name": "pyo",
   "language": "python",
   "name": "pyo"
  },
  "language_info": {
   "codemirror_mode": {
    "name": "ipython",
    "version": 3
   },
   "file_extension": ".py",
   "mimetype": "text/x-python",
   "name": "python",
   "nbconvert_exporter": "python",
   "pygments_lexer": "ipython3",
   "version": "3.8.8"
  }
 },
 "nbformat": 4,
 "nbformat_minor": 5
}
