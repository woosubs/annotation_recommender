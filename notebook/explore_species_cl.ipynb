{
 "cells": [
  {
   "cell_type": "code",
   "execution_count": 10,
   "id": "cd197b54",
   "metadata": {},
   "outputs": [],
   "source": [
    "# create species annotation class\n",
    "import os\n",
    "import sys\n",
    "PROJ_DIR = \"/Users/woosubs/Desktop/AutomateAnnotation/AnnotationRecommender/\"\n",
    "MOD_DIR = os.path.join(PROJ_DIR, \"annotation_recommender\")\n",
    "sys.path.append(MOD_DIR)\n",
    "\n",
    "BIOMD_12 = 'BIOMD0000000012.xml'\n",
    "BASE_DIR = '/Users/woosubs/Desktop/AutomateAnnotation/'\n",
    "DATA_DIR = os.path.join(BASE_DIR, \"DATA\")\n",
    "ALGO_DIR = os.path.join(DATA_DIR, \"algo\")\n",
    "CHEBI_DIR = os.path.join(DATA_DIR, \"chebi\")\n",
    "RHEA_DIR = os.path.join(DATA_DIR, \"rhea\")\n",
    "\n",
    "\n",
    "from annotation_recommender import species_annotation as sa\n",
    "from annotation_recommender import constants as cn"
   ]
  },
  {
   "cell_type": "code",
   "execution_count": 8,
   "id": "396b12f0",
   "metadata": {},
   "outputs": [],
   "source": [
    "specanot = sa.SpeciesAnnotation()"
   ]
  },
  {
   "cell_type": "code",
   "execution_count": 3,
   "id": "e27f39e4",
   "metadata": {},
   "outputs": [
    {
     "data": {
      "text/plain": [
       "['/Users/woosubs/Desktop/AutomateAnnotation/AnnotationRecommender/annotation_recommender/notebook',\n",
       " '/Users/woosubs/anaconda3/envs/pyo/lib/python38.zip',\n",
       " '/Users/woosubs/anaconda3/envs/pyo/lib/python3.8',\n",
       " '/Users/woosubs/anaconda3/envs/pyo/lib/python3.8/lib-dynload',\n",
       " '',\n",
       " '/Users/woosubs/.local/lib/python3.8/site-packages',\n",
       " '/Users/woosubs/anaconda3/envs/pyo/lib/python3.8/site-packages',\n",
       " '/Users/woosubs/anaconda3/envs/pyo/lib/python3.8/site-packages/IPython/extensions',\n",
       " '/Users/woosubs/.ipython',\n",
       " '/Users/woosubs/Desktop/AutomateAnnotation/AnnotationRecommender/annotation_recommender']"
      ]
     },
     "execution_count": 3,
     "metadata": {},
     "output_type": "execute_result"
    }
   ],
   "source": [
    "sys.path"
   ]
  },
  {
   "cell_type": "code",
   "execution_count": null,
   "id": "ddb2d370",
   "metadata": {},
   "outputs": [],
   "source": []
  }
 ],
 "metadata": {
  "kernelspec": {
   "display_name": "pyo",
   "language": "python",
   "name": "pyo"
  },
  "language_info": {
   "codemirror_mode": {
    "name": "ipython",
    "version": 3
   },
   "file_extension": ".py",
   "mimetype": "text/x-python",
   "name": "python",
   "nbconvert_exporter": "python",
   "pygments_lexer": "ipython3",
   "version": "3.8.8"
  }
 },
 "nbformat": 4,
 "nbformat_minor": 5
}
