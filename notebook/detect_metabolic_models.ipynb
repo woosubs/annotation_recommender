{
 "cells": [
  {
   "cell_type": "code",
   "execution_count": 60,
   "id": "b02eb71d",
   "metadata": {},
   "outputs": [
    {
     "name": "stdout",
     "output_type": "stream",
     "text": [
      "(13651, 3790)\n"
     ]
    }
   ],
   "source": [
    "# Detect metabolic models; alternatively, identify models that can be evaluated\n",
    "# kegg.reaction & ec-code, something else? \n",
    "# In order to do that, need to collect all knowledge resources for reactions first\n",
    "import itertools\n",
    "import libsbml\n",
    "import numpy as np\n",
    "import os\n",
    "import pickle\n",
    "import pandas as pd\n",
    "import sys\n",
    "import matplotlib.pyplot as plt\n",
    "%matplotlib inline  \n",
    "\n",
    "PROJ_DIR = \"/Users/woosubs/Desktop/AutomateAnnotation/AnnotationRecommender/\"\n",
    "MOD_DIR = os.path.join(PROJ_DIR, \"annotation_recommender\")\n",
    "sys.path.append(MOD_DIR)\n",
    "\n",
    "BIOMD_12 = 'BIOMD0000000012.xml'\n",
    "BASE_DIR = '/Users/woosubs/Desktop/AutomateAnnotation/'\n",
    "DATA_DIR = os.path.join(BASE_DIR, \"DATA\")\n",
    "ALGO_DIR = os.path.join(DATA_DIR, \"algo\")\n",
    "CHEBI_DIR = os.path.join(DATA_DIR, \"chebi\")\n",
    "RHEA_DIR = os.path.join(DATA_DIR, \"rhea\")\n",
    "BIOMODEL_DIR = os.path.join(DATA_DIR, \"biomodels/curated_biomodels_31mar2021\")\n",
    "BIGG_DIR = '/Users/woosubs/Desktop/AutomateAnnotation/DATA/bigg'\n",
    "ecoli_fpath = os.path.join(BIGG_DIR, \"e_coli_core.xml\")\n",
    "\n",
    "\n",
    "from annotation_recommender import species_annotation as sa\n",
    "from annotation_recommender import reaction_annotation as ra\n",
    "from annotation_recommender import constants as cn\n",
    "from annotation_recommender import iterator as it\n",
    "from annotation_recommender import tools\n",
    "\n",
    "# chebi to shortened formula\n",
    "with open(os.path.join(CHEBI_DIR, 'chebi_shortened_formula_30apr2022.pickle'), 'rb') as f:\n",
    "  ref_shortened_chebi_to_formula = pickle.load(f)\n",
    "# shortened formula to chebi\n",
    "with open(os.path.join(CHEBI_DIR, 'shortened_formula_to_chebis_20jul2022.pickle'), 'rb') as f:\n",
    "  ref_shortened_formula_to_chebi = pickle.load(f)\n",
    "\n",
    "with open(os.path.join(CHEBI_DIR, 'chebi_synonyms.pickle'), 'rb') as f:\n",
    "  chebi_synonyms = pickle.load(f)\n",
    "chebi_low_synonyms = dict()\n",
    "for one_k in chebi_synonyms.keys():\n",
    "  chebi_low_synonyms[one_k] = list(set([val.lower() for val in chebi_synonyms[one_k]]))\n",
    "\n",
    "with open(os.path.join(RHEA_DIR, 'kegg2rhea_master.pickle'), 'rb') as handle:\n",
    "  ref_kegg2rhea_master = pickle.load(handle)\n",
    "with open(os.path.join(RHEA_DIR, 'kegg2rhea_bi.pickle'), 'rb') as handle:\n",
    "  ref_kegg2rhea_bi = pickle.load(handle)\n",
    "\n",
    "# load reference matrix\n",
    "with open(os.path.join(ALGO_DIR, 'binary_ref_df.pickle'), 'rb') as handle:\n",
    "    ref_mat = pickle.load(handle)\n",
    "# check its shape\n",
    "print(ref_mat.shape)"
   ]
  },
  {
   "cell_type": "code",
   "execution_count": 2,
   "id": "2fef605d",
   "metadata": {},
   "outputs": [],
   "source": [
    "# biomodels with kegg.reaction AND either CHEBI or kegg.metabolite:\n",
    "biomd_keggs = pd.read_csv(\n",
    "    os.path.join(BASE_DIR, 'reaction_recommender/reaction_recommender/notebook/biomodels_to_use.csv'),\n",
    "    index_col=0)"
   ]
  },
  {
   "cell_type": "code",
   "execution_count": 3,
   "id": "f14847b3",
   "metadata": {},
   "outputs": [
    {
     "data": {
      "text/plain": [
       "1000"
      ]
     },
     "execution_count": 3,
     "metadata": {},
     "output_type": "execute_result"
    }
   ],
   "source": [
    "# First, collect all identifiers for reaction annotations\n",
    "all_biomds = [val for val in os.listdir(BIOMODEL_DIR) if val[-4:]=='.xml']\n",
    "len(all_biomds)"
   ]
  },
  {
   "cell_type": "code",
   "execution_count": 5,
   "id": "bd0d4423",
   "metadata": {},
   "outputs": [],
   "source": [
    "# one_biomd_fpath = os.path.join(BIOMODEL_DIR, one_biomd)\n",
    "# species_an = sa.SpeciesAnnotation(libsbml_fpath=one_biomd_fpath)\n",
    "# reaction_an = ra.ReactionAnnotation(libsbml_fpath=one_biomd_fpath)"
   ]
  },
  {
   "cell_type": "code",
   "execution_count": 6,
   "id": "79ba9918",
   "metadata": {},
   "outputs": [],
   "source": [
    "# one_biomd = all_biomds[1]\n",
    "all_qualifiers = set()\n",
    "for one_biomd in all_biomds:\n",
    "  one_fpath = os.path.join(BIOMODEL_DIR, one_biomd)\n",
    "  reader = libsbml.SBMLReader()\n",
    "  document = reader.readSBML(one_fpath)\n",
    "  model = document.getModel()\n",
    "  model_quals = []\n",
    "  for one_r in model.getListOfReactions():\n",
    "    one_list_quals = [val[0] for val in \\\n",
    "                      tools.getOntologyFromString(one_r.getAnnotationString())]\n",
    "    model_quals = model_quals + one_list_quals\n",
    "  all_qualifiers.update(model_quals)"
   ]
  },
  {
   "cell_type": "code",
   "execution_count": 7,
   "id": "bd05e2d4",
   "metadata": {},
   "outputs": [
    {
     "data": {
      "text/plain": [
       "{'bao',\n",
       " 'biomodels.sbo',\n",
       " 'doid',\n",
       " 'ec-code',\n",
       " 'efo',\n",
       " 'go',\n",
       " 'ido',\n",
       " 'intact',\n",
       " 'kegg.pathway',\n",
       " 'kegg.reaction',\n",
       " 'meddra',\n",
       " 'ncbigene',\n",
       " 'ncit',\n",
       " 'obi',\n",
       " 'obo.go',\n",
       " 'obo.psi-mod',\n",
       " 'omit',\n",
       " 'pato',\n",
       " 'psimi',\n",
       " 'psimod',\n",
       " 'pw',\n",
       " 'reactome',\n",
       " 'sbo',\n",
       " 'subtiwiki',\n",
       " 't3db',\n",
       " 'uniprot'}"
      ]
     },
     "execution_count": 7,
     "metadata": {},
     "output_type": "execute_result"
    }
   ],
   "source": [
    "all_qualifiers"
   ]
  },
  {
   "cell_type": "code",
   "execution_count": 8,
   "id": "9cefe401",
   "metadata": {},
   "outputs": [],
   "source": [
    "from bioservices import ChEBI, Rhea\n",
    "r = Rhea()\n",
    "df = r.search(\"\")"
   ]
  },
  {
   "cell_type": "code",
   "execution_count": 9,
   "id": "9489c0da",
   "metadata": {},
   "outputs": [
    {
     "data": {
      "text/html": [
       "<div>\n",
       "<style scoped>\n",
       "    .dataframe tbody tr th:only-of-type {\n",
       "        vertical-align: middle;\n",
       "    }\n",
       "\n",
       "    .dataframe tbody tr th {\n",
       "        vertical-align: top;\n",
       "    }\n",
       "\n",
       "    .dataframe thead th {\n",
       "        text-align: right;\n",
       "    }\n",
       "</style>\n",
       "<table border=\"1\" class=\"dataframe\">\n",
       "  <thead>\n",
       "    <tr style=\"text-align: right;\">\n",
       "      <th></th>\n",
       "      <th>Reaction identifier</th>\n",
       "      <th>Equation</th>\n",
       "      <th>ChEBI name</th>\n",
       "      <th>ChEBI identifier</th>\n",
       "      <th>EC number</th>\n",
       "      <th>Enzymes</th>\n",
       "      <th>PubMed</th>\n",
       "      <th>Cross-reference (EcoCyc)</th>\n",
       "      <th>Cross-reference (MetaCyc)</th>\n",
       "      <th>Cross-reference (KEGG)</th>\n",
       "      <th>Cross-reference (Reactome)</th>\n",
       "    </tr>\n",
       "  </thead>\n",
       "  <tbody>\n",
       "    <tr>\n",
       "      <th>0</th>\n",
       "      <td>RHEA:10000</td>\n",
       "      <td>H2O + pentanamide = NH4(+) + pentanoate</td>\n",
       "      <td>H2O;pentanamide;NH4(+);pentanoate</td>\n",
       "      <td>CHEBI:15377;CHEBI:16459;CHEBI:28938;CHEBI:31011</td>\n",
       "      <td>EC:3.5.1.50</td>\n",
       "      <td>0</td>\n",
       "      <td>NaN</td>\n",
       "      <td>NaN</td>\n",
       "      <td>MetaCyc:PENTANAMIDASE-RXN</td>\n",
       "      <td>KEGG:R02938</td>\n",
       "      <td>NaN</td>\n",
       "    </tr>\n",
       "    <tr>\n",
       "      <th>1</th>\n",
       "      <td>RHEA:10004</td>\n",
       "      <td>benzyl isothiocyanate = benzyl thiocyanate</td>\n",
       "      <td>benzyl isothiocyanate;benzyl thiocyanate</td>\n",
       "      <td>CHEBI:17484;CHEBI:16017</td>\n",
       "      <td>EC:5.99.1.1</td>\n",
       "      <td>0</td>\n",
       "      <td>13997458</td>\n",
       "      <td>NaN</td>\n",
       "      <td>MetaCyc:THIOCYANATE-ISOMERASE-RXN</td>\n",
       "      <td>KEGG:R04010</td>\n",
       "      <td>NaN</td>\n",
       "    </tr>\n",
       "    <tr>\n",
       "      <th>2</th>\n",
       "      <td>RHEA:10008</td>\n",
       "      <td>[protein]-dithiol + a hydroperoxide = [protein...</td>\n",
       "      <td>L-cysteine residue;a hydroperoxide;L-cystine r...</td>\n",
       "      <td>CHEBI:29950;CHEBI:35924;CHEBI:50058;CHEBI:3087...</td>\n",
       "      <td>NaN</td>\n",
       "      <td>8</td>\n",
       "      <td>10751410;12033427;12517450;9587003</td>\n",
       "      <td>NaN</td>\n",
       "      <td>NaN</td>\n",
       "      <td>NaN</td>\n",
       "      <td>NaN</td>\n",
       "    </tr>\n",
       "    <tr>\n",
       "      <th>3</th>\n",
       "      <td>RHEA:10012</td>\n",
       "      <td>(R)-6-hydroxynicotine + H2O + O2 = 6-hydroxyps...</td>\n",
       "      <td>(R)-6-hydroxynicotine;H2O;O2;6-hydroxypseudoox...</td>\n",
       "      <td>CHEBI:58413;CHEBI:15377;CHEBI:15379;CHEBI:5868...</td>\n",
       "      <td>EC:1.5.3.6</td>\n",
       "      <td>1</td>\n",
       "      <td>16095622;2680607</td>\n",
       "      <td>NaN</td>\n",
       "      <td>MetaCyc:R-6-HYDROXYNICOTINE-OXIDASE-RXN</td>\n",
       "      <td>KEGG:R07170</td>\n",
       "      <td>NaN</td>\n",
       "    </tr>\n",
       "    <tr>\n",
       "      <th>4</th>\n",
       "      <td>RHEA:10016</td>\n",
       "      <td>H2O + O-sinapoylcholine = choline + E-sinapate...</td>\n",
       "      <td>H2O;O-sinapoylcholine;choline;E-sinapate;H(+)</td>\n",
       "      <td>CHEBI:15377;CHEBI:16353;CHEBI:15354;CHEBI:3002...</td>\n",
       "      <td>EC:3.1.1.49</td>\n",
       "      <td>1</td>\n",
       "      <td>18036206</td>\n",
       "      <td>NaN</td>\n",
       "      <td>MetaCyc:SINAPINE-ESTERASE-RXN</td>\n",
       "      <td>KEGG:R02381</td>\n",
       "      <td>NaN</td>\n",
       "    </tr>\n",
       "  </tbody>\n",
       "</table>\n",
       "</div>"
      ],
      "text/plain": [
       "  Reaction identifier                                           Equation  \\\n",
       "0          RHEA:10000            H2O + pentanamide = NH4(+) + pentanoate   \n",
       "1          RHEA:10004         benzyl isothiocyanate = benzyl thiocyanate   \n",
       "2          RHEA:10008  [protein]-dithiol + a hydroperoxide = [protein...   \n",
       "3          RHEA:10012  (R)-6-hydroxynicotine + H2O + O2 = 6-hydroxyps...   \n",
       "4          RHEA:10016  H2O + O-sinapoylcholine = choline + E-sinapate...   \n",
       "\n",
       "                                          ChEBI name  \\\n",
       "0                  H2O;pentanamide;NH4(+);pentanoate   \n",
       "1           benzyl isothiocyanate;benzyl thiocyanate   \n",
       "2  L-cysteine residue;a hydroperoxide;L-cystine r...   \n",
       "3  (R)-6-hydroxynicotine;H2O;O2;6-hydroxypseudoox...   \n",
       "4      H2O;O-sinapoylcholine;choline;E-sinapate;H(+)   \n",
       "\n",
       "                                    ChEBI identifier    EC number  Enzymes  \\\n",
       "0    CHEBI:15377;CHEBI:16459;CHEBI:28938;CHEBI:31011  EC:3.5.1.50        0   \n",
       "1                            CHEBI:17484;CHEBI:16017  EC:5.99.1.1        0   \n",
       "2  CHEBI:29950;CHEBI:35924;CHEBI:50058;CHEBI:3087...          NaN        8   \n",
       "3  CHEBI:58413;CHEBI:15377;CHEBI:15379;CHEBI:5868...   EC:1.5.3.6        1   \n",
       "4  CHEBI:15377;CHEBI:16353;CHEBI:15354;CHEBI:3002...  EC:3.1.1.49        1   \n",
       "\n",
       "                               PubMed Cross-reference (EcoCyc)  \\\n",
       "0                                 NaN                      NaN   \n",
       "1                            13997458                      NaN   \n",
       "2  10751410;12033427;12517450;9587003                      NaN   \n",
       "3                    16095622;2680607                      NaN   \n",
       "4                            18036206                      NaN   \n",
       "\n",
       "                 Cross-reference (MetaCyc) Cross-reference (KEGG)  \\\n",
       "0                MetaCyc:PENTANAMIDASE-RXN            KEGG:R02938   \n",
       "1        MetaCyc:THIOCYANATE-ISOMERASE-RXN            KEGG:R04010   \n",
       "2                                      NaN                    NaN   \n",
       "3  MetaCyc:R-6-HYDROXYNICOTINE-OXIDASE-RXN            KEGG:R07170   \n",
       "4            MetaCyc:SINAPINE-ESTERASE-RXN            KEGG:R02381   \n",
       "\n",
       "  Cross-reference (Reactome)  \n",
       "0                        NaN  \n",
       "1                        NaN  \n",
       "2                        NaN  \n",
       "3                        NaN  \n",
       "4                        NaN  "
      ]
     },
     "execution_count": 9,
     "metadata": {},
     "output_type": "execute_result"
    }
   ],
   "source": [
    "df.head()"
   ]
  },
  {
   "cell_type": "code",
   "execution_count": 45,
   "id": "d70a08ce",
   "metadata": {},
   "outputs": [],
   "source": [
    "ec2rhea_master = dict()\n",
    "for idx in df.index:\n",
    "  one_row = df.loc[idx, :]\n",
    "  ec_val = one_row['EC number']\n",
    "  # float will indicate entry is NaN\n",
    "  if not isinstance(ec_val, float):\n",
    "    ecs = ec_val.split(';')\n",
    "    for one_ec in ecs:\n",
    "      if one_ec in ec2rhea_master.keys():\n",
    "        ec2rhea_master[one_ec[3:]] = ec2rhea_master[one_ec[3:]] + [one_row['Reaction identifier']]\n",
    "      else:\n",
    "        ec2rhea_master[one_ec[3:]] = [one_row['Reaction identifier']]"
   ]
  },
  {
   "cell_type": "code",
   "execution_count": 47,
   "id": "29cefb46",
   "metadata": {},
   "outputs": [
    {
     "data": {
      "text/plain": [
       "['RHEA:10000']"
      ]
     },
     "execution_count": 47,
     "metadata": {},
     "output_type": "execute_result"
    }
   ],
   "source": [
    "ec2rhea_master['3.5.1.50']"
   ]
  },
  {
   "cell_type": "code",
   "execution_count": 48,
   "id": "a9aa045a",
   "metadata": {},
   "outputs": [],
   "source": [
    "kegg2rhea_master = dict()\n",
    "for idx in df.index:\n",
    "  one_row = df.loc[idx, :]\n",
    "  kegg_val = one_row['Cross-reference (KEGG)']\n",
    "  # float will indicate entry is NaN\n",
    "  if not isinstance(kegg_val, float):\n",
    "    keggs = kegg_val.split(';')\n",
    "    for one_kegg in keggs:\n",
    "      if one_kegg in kegg2rhea_master.keys():\n",
    "        kegg2rhea_master[one_kegg[5:]] = kegg2rhea_master[one_kegg[5:]] + [one_row['Reaction identifier']]\n",
    "      else:\n",
    "        kegg2rhea_master[one_kegg[5:]] = [one_row['Reaction identifier']]"
   ]
  },
  {
   "cell_type": "code",
   "execution_count": 49,
   "id": "ee62e6e3",
   "metadata": {},
   "outputs": [
    {
     "data": {
      "text/plain": [
       "['RHEA:10000']"
      ]
     },
     "execution_count": 49,
     "metadata": {},
     "output_type": "execute_result"
    }
   ],
   "source": [
    "kegg2rhea_master['R02938']"
   ]
  },
  {
   "cell_type": "code",
   "execution_count": 14,
   "id": "1c959041",
   "metadata": {},
   "outputs": [
    {
     "data": {
      "text/html": [
       "<div>\n",
       "<style scoped>\n",
       "    .dataframe tbody tr th:only-of-type {\n",
       "        vertical-align: middle;\n",
       "    }\n",
       "\n",
       "    .dataframe tbody tr th {\n",
       "        vertical-align: top;\n",
       "    }\n",
       "\n",
       "    .dataframe thead th {\n",
       "        text-align: right;\n",
       "    }\n",
       "</style>\n",
       "<table border=\"1\" class=\"dataframe\">\n",
       "  <thead>\n",
       "    <tr style=\"text-align: right;\">\n",
       "      <th></th>\n",
       "      <th>C10N2O11P</th>\n",
       "      <th>C45CoN4O14</th>\n",
       "      <th>C17N4O10P</th>\n",
       "      <th>C45O</th>\n",
       "      <th>C20O2</th>\n",
       "      <th>C12N5O13P2</th>\n",
       "      <th>C30BrClN6O9</th>\n",
       "      <th>C23FN7O17P3S</th>\n",
       "      <th>C19N3O7</th>\n",
       "      <th>C35FeN4O6</th>\n",
       "      <th>...</th>\n",
       "      <th>C22NO</th>\n",
       "      <th>C15O6</th>\n",
       "      <th>C11N2O4P</th>\n",
       "      <th>C41N9O28P2</th>\n",
       "      <th>C57O5</th>\n",
       "      <th>C10N2O3</th>\n",
       "      <th>C17N5O17P3R</th>\n",
       "      <th>C32N5O8P</th>\n",
       "      <th>C40N9O13</th>\n",
       "      <th>C22N2O2</th>\n",
       "    </tr>\n",
       "  </thead>\n",
       "  <tbody>\n",
       "    <tr>\n",
       "      <th>RHEA:10003</th>\n",
       "      <td>0</td>\n",
       "      <td>0</td>\n",
       "      <td>0</td>\n",
       "      <td>0</td>\n",
       "      <td>0</td>\n",
       "      <td>0</td>\n",
       "      <td>0</td>\n",
       "      <td>0</td>\n",
       "      <td>0</td>\n",
       "      <td>0</td>\n",
       "      <td>...</td>\n",
       "      <td>0</td>\n",
       "      <td>0</td>\n",
       "      <td>0</td>\n",
       "      <td>0</td>\n",
       "      <td>0</td>\n",
       "      <td>0</td>\n",
       "      <td>0</td>\n",
       "      <td>0</td>\n",
       "      <td>0</td>\n",
       "      <td>0</td>\n",
       "    </tr>\n",
       "    <tr>\n",
       "      <th>RHEA:10007</th>\n",
       "      <td>0</td>\n",
       "      <td>0</td>\n",
       "      <td>0</td>\n",
       "      <td>0</td>\n",
       "      <td>0</td>\n",
       "      <td>0</td>\n",
       "      <td>0</td>\n",
       "      <td>0</td>\n",
       "      <td>0</td>\n",
       "      <td>0</td>\n",
       "      <td>...</td>\n",
       "      <td>0</td>\n",
       "      <td>0</td>\n",
       "      <td>0</td>\n",
       "      <td>0</td>\n",
       "      <td>0</td>\n",
       "      <td>0</td>\n",
       "      <td>0</td>\n",
       "      <td>0</td>\n",
       "      <td>0</td>\n",
       "      <td>0</td>\n",
       "    </tr>\n",
       "    <tr>\n",
       "      <th>RHEA:10011</th>\n",
       "      <td>0</td>\n",
       "      <td>0</td>\n",
       "      <td>0</td>\n",
       "      <td>0</td>\n",
       "      <td>0</td>\n",
       "      <td>0</td>\n",
       "      <td>0</td>\n",
       "      <td>0</td>\n",
       "      <td>0</td>\n",
       "      <td>0</td>\n",
       "      <td>...</td>\n",
       "      <td>0</td>\n",
       "      <td>0</td>\n",
       "      <td>0</td>\n",
       "      <td>0</td>\n",
       "      <td>0</td>\n",
       "      <td>0</td>\n",
       "      <td>0</td>\n",
       "      <td>0</td>\n",
       "      <td>0</td>\n",
       "      <td>0</td>\n",
       "    </tr>\n",
       "    <tr>\n",
       "      <th>RHEA:10015</th>\n",
       "      <td>0</td>\n",
       "      <td>0</td>\n",
       "      <td>0</td>\n",
       "      <td>0</td>\n",
       "      <td>0</td>\n",
       "      <td>0</td>\n",
       "      <td>0</td>\n",
       "      <td>0</td>\n",
       "      <td>0</td>\n",
       "      <td>0</td>\n",
       "      <td>...</td>\n",
       "      <td>0</td>\n",
       "      <td>0</td>\n",
       "      <td>0</td>\n",
       "      <td>0</td>\n",
       "      <td>0</td>\n",
       "      <td>0</td>\n",
       "      <td>0</td>\n",
       "      <td>0</td>\n",
       "      <td>0</td>\n",
       "      <td>0</td>\n",
       "    </tr>\n",
       "    <tr>\n",
       "      <th>RHEA:10019</th>\n",
       "      <td>0</td>\n",
       "      <td>0</td>\n",
       "      <td>0</td>\n",
       "      <td>0</td>\n",
       "      <td>0</td>\n",
       "      <td>0</td>\n",
       "      <td>0</td>\n",
       "      <td>0</td>\n",
       "      <td>0</td>\n",
       "      <td>0</td>\n",
       "      <td>...</td>\n",
       "      <td>0</td>\n",
       "      <td>0</td>\n",
       "      <td>0</td>\n",
       "      <td>0</td>\n",
       "      <td>0</td>\n",
       "      <td>0</td>\n",
       "      <td>0</td>\n",
       "      <td>0</td>\n",
       "      <td>0</td>\n",
       "      <td>0</td>\n",
       "    </tr>\n",
       "  </tbody>\n",
       "</table>\n",
       "<p>5 rows × 3790 columns</p>\n",
       "</div>"
      ],
      "text/plain": [
       "            C10N2O11P  C45CoN4O14  C17N4O10P  C45O  C20O2  C12N5O13P2  \\\n",
       "RHEA:10003          0           0          0     0      0           0   \n",
       "RHEA:10007          0           0          0     0      0           0   \n",
       "RHEA:10011          0           0          0     0      0           0   \n",
       "RHEA:10015          0           0          0     0      0           0   \n",
       "RHEA:10019          0           0          0     0      0           0   \n",
       "\n",
       "            C30BrClN6O9  C23FN7O17P3S  C19N3O7  C35FeN4O6  ...  C22NO  C15O6  \\\n",
       "RHEA:10003            0             0        0          0  ...      0      0   \n",
       "RHEA:10007            0             0        0          0  ...      0      0   \n",
       "RHEA:10011            0             0        0          0  ...      0      0   \n",
       "RHEA:10015            0             0        0          0  ...      0      0   \n",
       "RHEA:10019            0             0        0          0  ...      0      0   \n",
       "\n",
       "            C11N2O4P  C41N9O28P2  C57O5  C10N2O3  C17N5O17P3R  C32N5O8P  \\\n",
       "RHEA:10003         0           0      0        0            0         0   \n",
       "RHEA:10007         0           0      0        0            0         0   \n",
       "RHEA:10011         0           0      0        0            0         0   \n",
       "RHEA:10015         0           0      0        0            0         0   \n",
       "RHEA:10019         0           0      0        0            0         0   \n",
       "\n",
       "            C40N9O13  C22N2O2  \n",
       "RHEA:10003         0        0  \n",
       "RHEA:10007         0        0  \n",
       "RHEA:10011         0        0  \n",
       "RHEA:10015         0        0  \n",
       "RHEA:10019         0        0  \n",
       "\n",
       "[5 rows x 3790 columns]"
      ]
     },
     "execution_count": 14,
     "metadata": {},
     "output_type": "execute_result"
    }
   ],
   "source": [
    "# below shows that currently all values are mapped into BI directions\n",
    "ref_mat.head()"
   ]
  },
  {
   "cell_type": "code",
   "execution_count": 15,
   "id": "9716f596",
   "metadata": {},
   "outputs": [],
   "source": [
    "# But anyways, now we can figure out models (and reactions) that have either EC- or KEGG- number \n",
    "# that can be mapped into RHEA terms\n",
    "\n",
    "# Next, find models and associated reactions with qualifiers, esp. that can be mapped to rhea; \n",
    "# Of course, find information to map into rhea"
   ]
  },
  {
   "cell_type": "code",
   "execution_count": 33,
   "id": "43bba626",
   "metadata": {},
   "outputs": [],
   "source": [
    "# def formatECNumber(inp_str):\n",
    "#   \"\"\"\n",
    "#   Format EC number so that\n",
    "#   the number becomes 'EC:XX.XX.XX.XX'\n",
    "  \n",
    "#   Parameters\n",
    "#   ----------\n",
    "#   inp_str: str\n",
    "  \n",
    "#   Returns\n",
    "#   -------\n",
    "#   res_str: str\n",
    "#   \"\"\"\n",
    "#   if inp_str[:3]=='EC:':\n",
    "#     res_str = inp_str\n",
    "#   else:\n",
    "#     res_str = 'EC:' + inp_str\n",
    "#   return res_str"
   ]
  },
  {
   "cell_type": "code",
   "execution_count": 53,
   "id": "7e2940e1",
   "metadata": {},
   "outputs": [
    {
     "name": "stdout",
     "output_type": "stream",
     "text": [
      "Total nubmer of models: 131\n"
     ]
    }
   ],
   "source": [
    "eckegg_models = dict()\n",
    "for one_biomd in all_biomds:\n",
    "  one_fpath = os.path.join(BIOMODEL_DIR, one_biomd)\n",
    "  reader = libsbml.SBMLReader()\n",
    "  document = reader.readSBML(one_fpath)\n",
    "  model = document.getModel()\n",
    "  reaction_info = dict()\n",
    "  for one_r in model.getListOfReactions():\n",
    "    ec_anots = [val[1] for val in \\\n",
    "                tools.getOntologyFromString(one_r.getAnnotationString()) \\\n",
    "                if val[0] == 'ec-code']\n",
    "    kegg_anots = [val[1] for val in \\\n",
    "                tools.getOntologyFromString(one_r.getAnnotationString()) \\\n",
    "                if val[0] == 'kegg.reaction']\n",
    "    # filter to get 'evaluatable' identifiers\n",
    "    ec_anots_filt = [val for val in ec_anots if val in ec2rhea_master.keys()]\n",
    "    kegg_anots_filt = [val for val in kegg_anots if val in kegg2rhea_master.keys()]\n",
    "    #\n",
    "    eval_qualifiers = dict()\n",
    "    if len(ec_anots_filt)>0:\n",
    "      eval_qualifiers['ec'] = ec_anots_filt\n",
    "    if len(kegg_anots_filt):\n",
    "      eval_qualifiers['kegg'] = kegg_anots_filt\n",
    "    #\n",
    "    if len(eval_qualifiers.keys()) > 0:\n",
    "      reaction_info[one_r.getId()] = eval_qualifiers\n",
    "  # models collected only if model has at least one (EC or KEGG) annotation\n",
    "  if len(reaction_info.keys()) > 0:\n",
    "    eckegg_models[one_biomd] = reaction_info\n",
    "\n",
    "#\n",
    "print(\"Total nubmer of models: %d\" % len(eckegg_models.keys()))"
   ]
  },
  {
   "cell_type": "code",
   "execution_count": 64,
   "id": "2e247527",
   "metadata": {},
   "outputs": [],
   "source": [
    "eckegg2rhea_models = dict()\n",
    "for one_md in eckegg_models.keys():\n",
    "  one_model_itm = eckegg_models[one_md]\n",
    "  model_anot = dict()\n",
    "  for one_r in one_model_itm.keys():\n",
    "    reaction_anot = []\n",
    "    one_reaction_itm = one_model_itm[one_r]\n",
    "    if 'ec' in one_reaction_itm.keys():\n",
    "      one_itm = one_reaction_itm['ec']\n",
    "    \n",
    "#     list(itertools.chain(*list2d))\n",
    "      reaction_anot = reaction_anot + list(itertools.chain(*[ec2rhea_master[val] for val in one_itm]))\n",
    "    if 'kegg' in one_reaction_itm.keys():\n",
    "      one_itm = one_reaction_itm['kegg']\n",
    "      reaction_anot = reaction_anot + list(itertools.chain(*[kegg2rhea_master[val] for val in one_itm]))\n",
    "    if len(reaction_anot) > 0:\n",
    "      model_anot[one_r] = list(set(reaction_anot))\n",
    "  eckegg2rhea_models[one_md] = model_anot"
   ]
  },
  {
   "cell_type": "code",
   "execution_count": 66,
   "id": "91895bf0",
   "metadata": {},
   "outputs": [
    {
     "data": {
      "text/plain": [
       "131"
      ]
     },
     "execution_count": 66,
     "metadata": {},
     "output_type": "execute_result"
    }
   ],
   "source": [
    "len(eckegg2rhea_models)"
   ]
  },
  {
   "cell_type": "code",
   "execution_count": 67,
   "id": "adb8bd2c",
   "metadata": {},
   "outputs": [],
   "source": [
    "# save results\n",
    "with open('eckegg2rhea.pickle', 'wb') as handle:\n",
    "    pickle.dump(eckegg2rhea_models, handle, protocol=pickle.HIGHEST_PROTOCOL)"
   ]
  },
  {
   "cell_type": "markdown",
   "id": "1cfe09db",
   "metadata": {},
   "source": [
    "# Now, for species? "
   ]
  },
  {
   "cell_type": "code",
   "execution_count": 23,
   "id": "2967ad8d",
   "metadata": {},
   "outputs": [],
   "source": [
    "# one_biomd = all_biomds[1]\n",
    "all_qualifiers = set()\n",
    "for one_biomd in all_biomds:\n",
    "  one_fpath = os.path.join(BIOMODEL_DIR, one_biomd)\n",
    "  reader = libsbml.SBMLReader()\n",
    "  document = reader.readSBML(one_fpath)\n",
    "  model = document.getModel()\n",
    "  model_quals = []\n",
    "  for one_s in model.getListOfSpecies():\n",
    "    one_list_quals = [val[0] for val in \\\n",
    "                      tools.getOntologyFromString(one_s.getAnnotationString())]\n",
    "    model_quals = model_quals + one_list_quals\n",
    "  all_qualifiers.update(model_quals)"
   ]
  },
  {
   "cell_type": "code",
   "execution_count": 25,
   "id": "642cc3c6",
   "metadata": {},
   "outputs": [
    {
     "name": "stdout",
     "output_type": "stream",
     "text": [
      "{'tcdb', 'kegg.orthology', 'cco', 'ncbiprotein', 'ncit', 'biomodels.sbo', 'pubchem.substance', 'kegg.drug', 'bto', 'go', 'pirsf', 'ec-code', 'omit', 'unipathway.compound', 'bao', 'obo.fma', 'sbo', 'cl', 'brenda', 'lipidmaps', 'chebi', 'fma', 'pubchem.compound', 'chembl.compound', 'omim', 'taxonomy', 'psimi', 'obi', '3dmet', 'uniprot.isoform', 'ncbigene', 'interpro', 'obo.go', 'ensembl', 'bind', 'efo', 'mirbase', 'cas', 'kegg.reaction', 'so', 'uniprot', 'mirbase.mature', 'sgd', 'pato', 'ncim', 'obo.pato', 'pr', 'kegg.genes', 'psimod', 'pw', 'ido', 'kegg.compound', 'obo.chebi', 'orphanet', 'reactome'}\n"
     ]
    }
   ],
   "source": [
    "print(all_qualifiers)"
   ]
  },
  {
   "cell_type": "code",
   "execution_count": 29,
   "id": "9e1e08c6",
   "metadata": {},
   "outputs": [
    {
     "name": "stdout",
     "output_type": "stream",
     "text": [
      "Total nubmer of models: 445\n"
     ]
    }
   ],
   "source": [
    "spec_qualifiers = ['kegg.compound', 'chebi', 'obo.chebi']\n",
    "chebikegg_models = dict()\n",
    "for one_biomd in all_biomds:\n",
    "  one_fpath = os.path.join(BIOMODEL_DIR, one_biomd)\n",
    "  reader = libsbml.SBMLReader()\n",
    "  document = reader.readSBML(one_fpath)\n",
    "  model = document.getModel()\n",
    "  species_info = dict()\n",
    "  for one_s in model.getListOfSpecies():\n",
    "    chebikegg_anots = [val[1] for val in \\\n",
    "                       tools.getOntologyFromString(one_s.getAnnotationString()) \\\n",
    "                       if val[0] in spec_qualifiers]\n",
    "    if len(chebikegg_anots) > 0:\n",
    "      species_info[one_s.getId()] = chebikegg_anots\n",
    "  if len(species_info.keys()) > 0:\n",
    "    chebikegg_models[one_biomd] = species_info\n",
    "print(\"Total nubmer of models: %d\" % len(chebikegg_models.keys()))"
   ]
  },
  {
   "cell_type": "code",
   "execution_count": 31,
   "id": "b77957e9",
   "metadata": {},
   "outputs": [
    {
     "data": {
      "text/plain": [
       "484"
      ]
     },
     "execution_count": 31,
     "metadata": {},
     "output_type": "execute_result"
    }
   ],
   "source": [
    "len(set(list(eckegg_models.keys()) + list(chebikegg_models.keys())))"
   ]
  },
  {
   "cell_type": "code",
   "execution_count": 75,
   "id": "890b1b8a",
   "metadata": {},
   "outputs": [
    {
     "name": "stdout",
     "output_type": "stream",
     "text": [
      "Total nubmer of models: 306\n"
     ]
    }
   ],
   "source": [
    "# Collect models again, this time with only species with CHEBI terms\n",
    "spec_qualifiers = ['chebi', 'obo.chebi']\n",
    "chebispecies_models = dict()\n",
    "for one_biomd in all_biomds:\n",
    "  one_fpath = os.path.join(BIOMODEL_DIR, one_biomd)\n",
    "  reader = libsbml.SBMLReader()\n",
    "  document = reader.readSBML(one_fpath)\n",
    "  model = document.getModel()\n",
    "  species_info = dict()\n",
    "  for one_s in model.getListOfSpecies():\n",
    "    chebi_anots = [val[1] for val in \\\n",
    "                   tools.getOntologyFromString(one_s.getAnnotationString()) \\\n",
    "                   if val[0] in spec_qualifiers]\n",
    "    # Filter to get only chebi terms included in the CHEBI-formula dictionary\n",
    "    filt_chebi_anots = [val for val in chebi_anots if val in ref_shortened_chebi_to_formula.keys()]\n",
    "    if len(filt_chebi_anots) > 0:\n",
    "      species_info[one_s.getId()] = filt_chebi_anots\n",
    "  if len(species_info.keys()) > 0:\n",
    "    chebispecies_models[one_biomd] = species_info\n",
    "print(\"Total nubmer of models: %d\" % len(chebispecies_models.keys()))"
   ]
  },
  {
   "cell_type": "code",
   "execution_count": 76,
   "id": "352be226",
   "metadata": {},
   "outputs": [],
   "source": [
    "# save results\n",
    "with open('chebi_models.pickle', 'wb') as handle:\n",
    "    pickle.dump(chebispecies_models, handle, protocol=pickle.HIGHEST_PROTOCOL)"
   ]
  },
  {
   "cell_type": "code",
   "execution_count": 81,
   "id": "d88eaf75",
   "metadata": {},
   "outputs": [
    {
     "data": {
      "text/plain": [
       "83"
      ]
     },
     "execution_count": 81,
     "metadata": {},
     "output_type": "execute_result"
    }
   ],
   "source": [
    "len(set(chebispecies_models.keys()).intersection(list(eckegg_models.keys())))"
   ]
  },
  {
   "cell_type": "code",
   "execution_count": null,
   "id": "b007e32a",
   "metadata": {},
   "outputs": [],
   "source": []
  }
 ],
 "metadata": {
  "kernelspec": {
   "display_name": "pyo",
   "language": "python",
   "name": "pyo"
  },
  "language_info": {
   "codemirror_mode": {
    "name": "ipython",
    "version": 3
   },
   "file_extension": ".py",
   "mimetype": "text/x-python",
   "name": "python",
   "nbconvert_exporter": "python",
   "pygments_lexer": "ipython3",
   "version": "3.8.8"
  }
 },
 "nbformat": 4,
 "nbformat_minor": 5
}
