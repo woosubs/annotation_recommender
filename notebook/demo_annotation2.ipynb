{
 "cells": [
  {
   "cell_type": "code",
   "execution_count": 3,
   "id": "10e4ebb0",
   "metadata": {},
   "outputs": [],
   "source": [
    "# Demo2\n",
    "\n",
    "import os\n",
    "import sys\n",
    "\n",
    "PROJ_DIR = \"/Users/woosubs/Desktop/AutomateAnnotation/AnnotationRecommender/\"\n",
    "MOD_DIR = os.path.join(PROJ_DIR, \"annotation_recommender\")\n",
    "sys.path.append(MOD_DIR)\n",
    "BASE_DIR = '/Users/woosubs/Desktop/AutomateAnnotation/'\n",
    "DATA_DIR = os.path.join(BASE_DIR, \"DATA\")\n",
    "BIOMODEL_DIR = os.path.join(DATA_DIR, \"biomodels/curated_biomodels_31mar2021\")\n",
    "BIGG_DIR = '/Users/woosubs/Desktop/AutomateAnnotation/DATA/bigg'\n",
    "ecoli_fpath = os.path.join(BIGG_DIR, \"e_coli_core.xml\")\n",
    "\n",
    "from annotation_recommender import species_annotation as sa\n",
    "from annotation_recommender import reaction_annotation as ra\n",
    "from annotation_recommender import constants as cn\n",
    "from annotation_recommender import iterator as it\n",
    "from annotation_recommender import tools"
   ]
  },
  {
   "cell_type": "code",
   "execution_count": 4,
   "id": "ca50fba2",
   "metadata": {},
   "outputs": [],
   "source": [
    "species_an = sa.SpeciesAnnotation(libsbml_fpath=ecoli_fpath)\n",
    "reaction_an = ra.ReactionAnnotation(libsbml_fpath=ecoli_fpath)"
   ]
  },
  {
   "cell_type": "code",
   "execution_count": 6,
   "id": "c512f38d",
   "metadata": {},
   "outputs": [],
   "source": [
    "pred_species = species_an.predictAnnotationByName()\n",
    "pred_reaction = reaction_an.predictAnnotation(inp_spec_dict=species_an.formula)"
   ]
  },
  {
   "cell_type": "code",
   "execution_count": 8,
   "id": "90f32bdb",
   "metadata": {},
   "outputs": [
    {
     "name": "stdout",
     "output_type": "stream",
     "text": [
      "Initial match score: 82.94\n",
      "*************************\n",
      "Iteration 1\n",
      "Updated match score: 89.97\n",
      "*************************\n",
      "Iteration 2\n",
      "Updated match score: 90.17\n",
      "*************************\n",
      "Iteration 3\n",
      "Updated match score: 90.17\n",
      "Score not increasing. Quitting iteration...\n",
      "\n",
      "Calculation finished.\n"
     ]
    }
   ],
   "source": [
    "res = it.iterateAndGetUpdatedResults(spec_cl=species_an,\n",
    "                                     reac_cl=reaction_an,\n",
    "                                     num_iter=10,\n",
    "                                     show_message=True)"
   ]
  },
  {
   "cell_type": "code",
   "execution_count": null,
   "id": "e8ebd9db",
   "metadata": {},
   "outputs": [],
   "source": []
  }
 ],
 "metadata": {
  "kernelspec": {
   "display_name": "pyo",
   "language": "python",
   "name": "pyo"
  },
  "language_info": {
   "codemirror_mode": {
    "name": "ipython",
    "version": 3
   },
   "file_extension": ".py",
   "mimetype": "text/x-python",
   "name": "python",
   "nbconvert_exporter": "python",
   "pygments_lexer": "ipython3",
   "version": "3.8.8"
  }
 },
 "nbformat": 4,
 "nbformat_minor": 5
}
